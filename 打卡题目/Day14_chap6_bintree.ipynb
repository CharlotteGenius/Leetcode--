{
 "cells": [
  {
   "cell_type": "markdown",
   "metadata": {},
   "source": [
    "第六章 二叉树part01\n",
    " 今日内容： \n",
    "\n",
    "● 理论基础\n",
    "● 递归遍历  \n",
    "● 迭代遍历\n",
    "● 统一迭代\n"
   ]
  },
  {
   "cell_type": "markdown",
   "metadata": {},
   "source": [
    "# 1. 理论基础\n",
    "* https://programmercarl.com/%E4%BA%8C%E5%8F%89%E6%A0%91%E7%90%86%E8%AE%BA%E5%9F%BA%E7%A1%80.html#%E7%AE%97%E6%B3%95%E5%85%AC%E5%BC%80%E8%AF%BE"
   ]
  },
  {
   "cell_type": "markdown",
   "metadata": {},
   "source": [
    "## 二叉树的种类"
   ]
  },
  {
   "cell_type": "markdown",
   "metadata": {},
   "source": [
    "### 满二叉树\n",
    "如果一棵二叉树只有度为0的结点和度为2的结点，并且度为0的结点在同一层上，则这棵二叉树为满二叉树。\n",
    "\n",
    "这棵二叉树为满二叉树，也可以说深度为k，有2^k-1个节点的二叉树。\n"
   ]
  },
  {
   "cell_type": "markdown",
   "metadata": {},
   "source": [
    "### 完全二叉树\n",
    "完全二叉树的定义如下：在完全二叉树中，除了最底层节点可能没填满外，\n",
    "其余每层节点数都达到最大值，并且最下面一层的节点都集中在该层最左边的若干位置。\n",
    "若最底层为第 h 层（h从1开始），则该层包含 1~ 2^(h-1) 个节点。\n",
    "\n",
    "之前我们刚刚讲过优先级队列其实是一个堆，堆就是一棵完全二叉树，同时保证父子节点的顺序关系。"
   ]
  },
  {
   "cell_type": "markdown",
   "metadata": {},
   "source": [
    "### 二叉搜索树\n",
    "前面介绍的树，都没有数值的，而二叉搜索树是有数值的了，二叉搜索树是一个有序树。\n",
    "\n",
    "* 若它的左子树不空，则左子树上所有结点的值均小于它的根结点的值；\n",
    "* 若它的右子树不空，则右子树上所有结点的值均大于它的根结点的值；\n",
    "它的左、右子树也分别为二叉排序树"
   ]
  },
  {
   "cell_type": "markdown",
   "metadata": {},
   "source": [
    "### 平衡二叉搜索树\n",
    "平衡二叉搜索树：又被称为AVL（Adelson-Velsky and Landis）树，且具有以下性质：\n",
    "它是一棵空树或它的左右两个子树的**高度差**的绝对值不超过1，并且左右两个子树都是一棵平衡二叉树。"
   ]
  },
  {
   "cell_type": "markdown",
   "metadata": {},
   "source": [
    "## 二叉树的存储方式\n",
    "二叉树可以链式存储，也可以顺序存储。\n",
    "\n",
    "链式存储方式就用指针， 顺序存储的方式就是用数组。"
   ]
  },
  {
   "cell_type": "markdown",
   "metadata": {},
   "source": [
    "* 链式存储顾名思义就是顺序存储的元素在内存是连续分布的，而链式存储则是通过指针把分布在各个地址的节点串联一起。\n",
    "* 数组来存储二叉树如何遍历的呢？\n",
    "\n",
    "如果父节点的数组下标是 i，那么它的左孩子就是 i * 2 + 1，右孩子就是 i * 2 + 2。\n",
    "\n",
    "但是用链式表示的二叉树，更有利于我们理解，所以一般我们都是用链式存储二叉树。\n",
    "\n",
    "所以大家要了解，用数组依然可以表示二叉树。"
   ]
  },
  {
   "cell_type": "markdown",
   "metadata": {},
   "source": [
    "## 二叉树的遍历方式\n",
    "* 深度优先遍历：先往深走，遇到叶子节点再往回走。\n",
    "* 广度优先遍历：一层一层的去遍历。"
   ]
  },
  {
   "cell_type": "markdown",
   "metadata": {},
   "source": [
    "那么从深度优先遍历和广度优先遍历进一步拓展，才有如下遍历方式：\n",
    "\n",
    "* 深度优先遍历\n",
    "\n",
    "** 前序遍历（递归法，迭代法）\n",
    "\n",
    "** 中序遍历（递归法，迭代法）\n",
    "\n",
    "** 后序遍历（递归法，迭代法）\n",
    "\n",
    "* 广度优先遍历\n",
    "\n",
    "** 层次遍历（迭代法）\n",
    "\n",
    "在深度优先遍历中：有三个顺序，前中后序遍历，\n",
    "\n",
    "这里前中后，其实指的就是中间节点的遍历顺序，只要记住 前中后序指的就是中间节点的位置就可以了。\n",
    "\n",
    "看如下中间节点的顺序，就可以发现，中间节点的顺序就是所谓的遍历方式\n",
    "\n",
    "** 前序遍历：中左右\n",
    "\n",
    "** 中序遍历：左中右\n",
    "\n",
    "** 后序遍历：左右中"
   ]
  },
  {
   "cell_type": "markdown",
   "metadata": {},
   "source": [
    "## 二叉树的定义"
   ]
  },
  {
   "cell_type": "code",
   "execution_count": null,
   "metadata": {},
   "outputs": [],
   "source": [
    "class TreeNode:\n",
    "    def __init__(self, val, left = None, right = None):\n",
    "        self.val = val\n",
    "        self.left = left\n",
    "        self.right = right"
   ]
  },
  {
   "cell_type": "markdown",
   "metadata": {},
   "source": [
    "# 2. 二叉树的递归遍历\n",
    "* https://programmercarl.com/%E4%BA%8C%E5%8F%89%E6%A0%91%E7%9A%84%E9%80%92%E5%BD%92%E9%81%8D%E5%8E%86.html"
   ]
  },
  {
   "cell_type": "markdown",
   "metadata": {},
   "source": [
    "每次写递归，都按照这三要素来写:\n",
    "\n",
    "1. 确定递归函数的参数和返回值： 确定哪些参数是递归的过程中需要处理的，那么就在递归函数里加上这个参数， 并且还要明确每次递归的返回值是什么进而确定递归函数的返回类型。\n",
    "\n",
    "2. 确定终止条件： 写完了递归算法, 运行的时候，经常会遇到栈溢出的错误，就是没写终止条件或者终止条件写的不对，操作系统也是用一个栈的结构来保存每一层递归的信息，如果递归没有终止，操作系统的内存栈必然就会溢出。\n",
    "\n",
    "3. 确定单层递归的逻辑： 确定每一层递归需要处理的信息。在这里也就会重复调用自己来实现递归的过程。\n",
    "\n"
   ]
  },
  {
   "cell_type": "code",
   "execution_count": null,
   "metadata": {},
   "outputs": [],
   "source": [
    "# 前序遍历-递归-LC144_二叉树的前序遍历\n",
    "# Definition for a binary tree node.\n",
    "# class TreeNode:\n",
    "#     def __init__(self, val=0, left=None, right=None):\n",
    "#         self.val = val\n",
    "#         self.left = left\n",
    "#         self.right = right\n",
    "\n",
    "class Solution:\n",
    "    def preorderTraversal(self, root: TreeNode) -> List[int]:\n",
    "        if not root:\n",
    "            return []\n",
    "\n",
    "        left = self.preorderTraversal(root.left)\n",
    "        right = self.preorderTraversal(root.right)\n",
    "\n",
    "        return  [root.val] + left +  right\n"
   ]
  },
  {
   "cell_type": "code",
   "execution_count": null,
   "metadata": {},
   "outputs": [],
   "source": [
    "# 中序遍历-递归-LC94_二叉树的中序遍历\n",
    "class Solution:\n",
    "    def inorderTraversal(self, root: TreeNode) -> List[int]:\n",
    "        if root is None:\n",
    "            return []\n",
    "\n",
    "        left = self.inorderTraversal(root.left)\n",
    "        right = self.inorderTraversal(root.right)\n",
    "\n",
    "        return left + [root.val] + right"
   ]
  },
  {
   "cell_type": "code",
   "execution_count": null,
   "metadata": {},
   "outputs": [],
   "source": [
    "# 后序遍历-递归-LC145_二叉树的后序遍历\n",
    "class Solution:\n",
    "    def postorderTraversal(self, root: TreeNode) -> List[int]:\n",
    "        if not root:\n",
    "            return []\n",
    "\n",
    "        left = self.postorderTraversal(root.left)\n",
    "        right = self.postorderTraversal(root.right)\n",
    "\n",
    "        return left + right + [root.val]"
   ]
  },
  {
   "cell_type": "markdown",
   "metadata": {},
   "source": [
    "# 3. 二叉树的迭代遍历"
   ]
  },
  {
   "cell_type": "code",
   "execution_count": null,
   "metadata": {},
   "outputs": [],
   "source": [
    "# 前序遍历-迭代-LC144_二叉树的前序遍历\n",
    "class Solution:\n",
    "    def preorderTraversal(self, root: TreeNode) -> List[int]:\n",
    "        # 根结点为空则返回空列表\n",
    "        if not root:\n",
    "            return []\n",
    "        stack = [root]\n",
    "        result = []\n",
    "        while stack:\n",
    "            node = stack.pop()\n",
    "            # 中结点先处理\n",
    "            result.append(node.val)\n",
    "            # 右孩子先入栈\n",
    "            if node.right:\n",
    "                stack.append(node.right)\n",
    "            # 左孩子后入栈\n",
    "            if node.left:\n",
    "                stack.append(node.left)\n",
    "        return result"
   ]
  },
  {
   "cell_type": "code",
   "execution_count": null,
   "metadata": {},
   "outputs": [],
   "source": [
    "# 中序遍历-迭代-LC94_二叉树的中序遍历\n",
    "class Solution:\n",
    "    def inorderTraversal(self, root: TreeNode) -> List[int]:\n",
    "        if not root:\n",
    "            return []\n",
    "        stack = []  # 不能提前将root结点加入stack中\n",
    "        result = []\n",
    "        cur = root\n",
    "        while cur or stack:\n",
    "            # 先迭代访问最底层的左子树结点\n",
    "            if cur:     \n",
    "                stack.append(cur)\n",
    "                cur = cur.left\t\t\n",
    "            # 到达最左结点后处理栈顶结点    \n",
    "            else:\t\t\n",
    "                cur = stack.pop()\n",
    "                result.append(cur.val)\n",
    "                # 取栈顶元素右结点\n",
    "                cur = cur.right\t\n",
    "        return result"
   ]
  },
  {
   "cell_type": "code",
   "execution_count": null,
   "metadata": {},
   "outputs": [],
   "source": [
    "# 后序遍历-迭代-LC145_二叉树的后序遍历\n",
    "class Solution:\n",
    "   def postorderTraversal(self, root: TreeNode) -> List[int]:\n",
    "       if not root:\n",
    "           return []\n",
    "       stack = [root]\n",
    "       result = []\n",
    "       while stack:\n",
    "           node = stack.pop()\n",
    "           # 中结点先处理\n",
    "           result.append(node.val)\n",
    "           # 左孩子先入栈\n",
    "           if node.left:\n",
    "               stack.append(node.left)\n",
    "           # 右孩子后入栈\n",
    "           if node.right:\n",
    "               stack.append(node.right)\n",
    "       # 将最终的数组翻转\n",
    "       return result[::-1]"
   ]
  },
  {
   "cell_type": "markdown",
   "metadata": {},
   "source": [
    "# 4. 二叉树的统一迭代法\n"
   ]
  },
  {
   "cell_type": "code",
   "execution_count": null,
   "metadata": {},
   "outputs": [],
   "source": [
    "# 迭代法前序遍历：\n",
    "class Solution:\n",
    "    def preorderTraversal(self, root: TreeNode) -> List[int]:\n",
    "        result = []\n",
    "        st= []\n",
    "        if root:\n",
    "            st.append(root)\n",
    "        while st:\n",
    "            node = st.pop()\n",
    "            if node != None:\n",
    "                if node.right: #右\n",
    "                    st.append(node.right)\n",
    "                if node.left: #左\n",
    "                    st.append(node.left)\n",
    "                st.append(node) #中\n",
    "                st.append(None)\n",
    "            else:\n",
    "                node = st.pop()\n",
    "                result.append(node.val)\n",
    "        return result"
   ]
  },
  {
   "cell_type": "code",
   "execution_count": null,
   "metadata": {},
   "outputs": [],
   "source": [
    "# 迭代法中序遍历：\n",
    "class Solution:\n",
    "    def inorderTraversal(self, root: TreeNode) -> List[int]:\n",
    "        result = []\n",
    "        st = []\n",
    "        if root:\n",
    "            st.append(root)\n",
    "        while st:\n",
    "            node = st.pop()\n",
    "            if node != None:\n",
    "                if node.right: #添加右节点（空节点不入栈）\n",
    "                    st.append(node.right)\n",
    "                \n",
    "                st.append(node) #添加中节点\n",
    "                st.append(None) #中节点访问过，但是还没有处理，加入空节点做为标记。\n",
    "                \n",
    "                if node.left: #添加左节点（空节点不入栈）\n",
    "                    st.append(node.left)\n",
    "            else: #只有遇到空节点的时候，才将下一个节点放进结果集\n",
    "                node = st.pop() #重新取出栈中元素\n",
    "                result.append(node.val) #加入到结果集\n",
    "        return result"
   ]
  },
  {
   "cell_type": "code",
   "execution_count": null,
   "metadata": {},
   "outputs": [],
   "source": [
    "# 迭代法后序遍历：\n",
    "class Solution:\n",
    "    def postorderTraversal(self, root: TreeNode) -> List[int]:\n",
    "        result = []\n",
    "        st = []\n",
    "        if root:\n",
    "            st.append(root)\n",
    "        while st:\n",
    "            node = st.pop()\n",
    "            if node != None:\n",
    "                st.append(node) #中\n",
    "                st.append(None)\n",
    "                \n",
    "                if node.right: #右\n",
    "                    st.append(node.right)\n",
    "                if node.left: #左\n",
    "                    st.append(node.left)\n",
    "            else:\n",
    "                node = st.pop()\n",
    "                result.append(node.val)\n",
    "        return result"
   ]
  }
 ],
 "metadata": {
  "kernelspec": {
   "display_name": "Python 3",
   "language": "python",
   "name": "python3"
  },
  "language_info": {
   "codemirror_mode": {
    "name": "ipython",
    "version": 3
   },
   "file_extension": ".py",
   "mimetype": "text/x-python",
   "name": "python",
   "nbconvert_exporter": "python",
   "pygments_lexer": "ipython3",
   "version": "3.12.0"
  }
 },
 "nbformat": 4,
 "nbformat_minor": 2
}
