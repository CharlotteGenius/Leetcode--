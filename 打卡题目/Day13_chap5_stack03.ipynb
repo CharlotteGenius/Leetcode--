{
 "cells": [
  {
   "cell_type": "markdown",
   "metadata": {},
   "source": [
    "# 239. Sliding Window Maximum\n",
    "* https://leetcode.com/problems/sliding-window-maximum/description/\n",
    "* https://programmercarl.com/0239.%E6%BB%91%E5%8A%A8%E7%AA%97%E5%8F%A3%E6%9C%80%E5%A4%A7%E5%80%BC.html#%E5%85%B6%E4%BB%96%E8%AF%AD%E8%A8%80%E7%89%88%E6%9C%AC"
   ]
  },
  {
   "cell_type": "markdown",
   "metadata": {},
   "source": [
    "难点在于需要自己定义一个单调数列，用deque会比list更快。\n",
    "\n",
    "每次pop和push其实都在保证：queue的第一个值是最大值"
   ]
  },
  {
   "cell_type": "code",
   "execution_count": null,
   "metadata": {},
   "outputs": [],
   "source": [
    "from collections import deque\n",
    "class MyQueue:\n",
    "    def __init__(self):\n",
    "        self.queue = deque() #单调队列，list会超时\n",
    "    \n",
    "    #每次弹出的时候，比较当前要弹出的数值是否等于队列出口元素的数值，如果相等则弹出。\n",
    "    #同时pop之前判断队列当前是否为空。\n",
    "    def pop(self, value):\n",
    "        if self.queue and value == self.queue[0]:\n",
    "            self.queue.popleft()#list.pop()时间复杂度为O(n),这里需要使用collections.deque()\n",
    "            \n",
    "    #如果push的数值大于入口元素的数值，那么就将队列后端的数值弹出，直到push的数值小于等于队列入口元素的数值为止。\n",
    "    #这样就保持了队列里的数值是单调从大到小的了。\n",
    "    def push(self, value):\n",
    "        while self.queue and value > self.queue[-1]:\n",
    "            self.queue.pop()\n",
    "        self.queue.append(value)\n",
    "    \n",
    "     #查询当前队列里的最大值 直接返回队列前端也就是front就可以了。\n",
    "    def front(self):\n",
    "        return self.queue[0]\n",
    "\n",
    "class Solution:\n",
    "    def maxSlidingWindow(self, nums: List[int], k: int) -> List[int]:\n",
    "        que = MyQueue()\n",
    "        res = []\n",
    "        for i in range(k):\n",
    "            que.push(nums[i])\n",
    "        res.append(que.front())\n",
    "        for i in range(k, len(nums)):\n",
    "            que.pop(nums[i-k]) #\n",
    "            que.push(nums[i])\n",
    "            res.append(que.front())\n",
    "        return res\n",
    "        \n"
   ]
  },
  {
   "cell_type": "markdown",
   "metadata": {},
   "source": [
    "# 347. Top K Frequent Elements\n",
    "* https://leetcode.com/problems/top-k-frequent-elements/description/\n",
    "* https://programmercarl.com/0347.%E5%89%8DK%E4%B8%AA%E9%AB%98%E9%A2%91%E5%85%83%E7%B4%A0.html"
   ]
  },
  {
   "cell_type": "markdown",
   "metadata": {},
   "source": [
    "用heapq来实现排序，priority queue"
   ]
  },
  {
   "cell_type": "code",
   "execution_count": null,
   "metadata": {},
   "outputs": [],
   "source": [
    "import heapq\n",
    "#时间复杂度：O(nlogk)\n",
    "#空间复杂度：O(n)\n",
    "\n",
    "class Solution:\n",
    "    def topKFrequent(self, nums: List[int], k: int) -> List[int]:\n",
    "        map_ = {} #nums[i]:对应出现的次数\n",
    "        for i in range(len(nums)):\n",
    "            map_[nums[i]] = map_.get(nums[i], 0) + 1\n",
    "        \n",
    "        pri_que = [] #小顶堆，大小为k，对频率排序\n",
    "\n",
    "        for key, freq in map_.items():\n",
    "            heapq.heappush(pri_que, (freq, key))\n",
    "            if len(pri_que) > k: #如果堆的大小大于了K，则队列弹出，保证堆的大小一直为k\n",
    "                heapq.heappop(pri_que)\n",
    "        \n",
    "        #找出前K个高频元素，因为小顶堆先弹出的是最小的，所以倒序来输出到数组\n",
    "        result = [0] * k\n",
    "        for i in range(k-1, -1, -1):\n",
    "            result[i] = heapq.heappop(pri_que)[1]\n",
    "        return result"
   ]
  },
  {
   "cell_type": "markdown",
   "metadata": {},
   "source": [
    "# 栈与队列"
   ]
  },
  {
   "cell_type": "markdown",
   "metadata": {},
   "source": [
    "栈里面的元素在内存中是连续分布的么？\n",
    "\n",
    "这个问题有两个陷阱：\n",
    "\n",
    "陷阱1：栈是容器适配器，底层容器使用不同的容器，导致栈内数据在内存中不一定是连续分布的。\n",
    "\n",
    "陷阱2：缺省情况下，默认底层容器是deque，那么deque在内存中的数据分布是什么样的呢？ 答案是：不连续的，下文也会提到deque。"
   ]
  },
  {
   "cell_type": "markdown",
   "metadata": {},
   "source": [
    "递归的实现是栈：每一次递归调用都会把函数的局部变量、参数值和返回地址等压入调用栈中，然后递归返回的时候，从栈顶弹出上一次递归的各项参数，所以这就是递归为什么可以返回上一层位置的原因。\n",
    "\n",
    "所以栈在计算机领域中应用是非常广泛的。\n",
    "\n"
   ]
  },
  {
   "cell_type": "markdown",
   "metadata": {},
   "source": [
    "## 71. Simplify Path\n",
    "* https://leetcode.com/problems/simplify-path/description/\n",
    "因为遇到..就要返回上一目录，所以用栈可以pop掉上一目录"
   ]
  },
  {
   "cell_type": "code",
   "execution_count": null,
   "metadata": {},
   "outputs": [],
   "source": [
    "class Solution:\n",
    "    def simplifyPath(self, path: str) -> str:\n",
    "        res = []\n",
    "        path = path.split('/')\n",
    "        for i in path:\n",
    "            if res and i == '..':\n",
    "                res.pop() # 返回上一目录\n",
    "            elif i not in ['.', '..', '']:\n",
    "                res.append(i)\n",
    "        return \"/\" + \"/\".join(res)"
   ]
  }
 ],
 "metadata": {
  "kernelspec": {
   "display_name": "Python 3",
   "language": "python",
   "name": "python3"
  },
  "language_info": {
   "name": "python",
   "version": "3.12.0"
  }
 },
 "nbformat": 4,
 "nbformat_minor": 2
}
