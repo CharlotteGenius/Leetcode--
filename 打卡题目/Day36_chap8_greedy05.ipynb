{
 "cells": [
  {
   "cell_type": "markdown",
   "metadata": {},
   "source": [
    "# 435. Non-overlapping Intervals\n",
    "* https://leetcode.com/problems/non-overlapping-intervals/description/\n",
    "* https://programmercarl.com/0435.%E6%97%A0%E9%87%8D%E5%8F%A0%E5%8C%BA%E9%97%B4.html"
   ]
  },
  {
   "cell_type": "code",
   "execution_count": null,
   "metadata": {},
   "outputs": [],
   "source": [
    "# 我又自己写出来了 我太牛了\n",
    "# 放在vscode里才发现 sl就没用到过...\n",
    "class Solution:\n",
    "    def eraseOverlapIntervals(self, intervals: List[List[int]]) -> int:\n",
    "        intervals.sort(key=lambda x:x[0])\n",
    "        print(intervals)\n",
    "        sl, sr = intervals[0][0], intervals[0][1]\n",
    "        res = 0\n",
    "        for i in range(1, len(intervals)):\n",
    "            if intervals[i][0] < sr:\n",
    "                res += 1\n",
    "                sl = intervals[i][0]\n",
    "                sr = min(sr, intervals[i][1])\n",
    "            else:\n",
    "                sl, sr = intervals[i][0], intervals[i][1]\n",
    "        return res"
   ]
  },
  {
   "cell_type": "code",
   "execution_count": null,
   "metadata": {},
   "outputs": [],
   "source": [
    "# 贪心 基于左边界\n",
    "\n",
    "class Solution:\n",
    "    def eraseOverlapIntervals(self, intervals: List[List[int]]) -> int:\n",
    "        if not intervals:\n",
    "            return 0\n",
    "        \n",
    "        intervals.sort(key=lambda x: x[0])  # 按照左边界升序排序\n",
    "        count = 0  # 记录重叠区间数量\n",
    "        \n",
    "        for i in range(1, len(intervals)):\n",
    "            if intervals[i][0] < intervals[i - 1][1]:  # 存在重叠区间\n",
    "                intervals[i][1] = min(intervals[i - 1][1], intervals[i][1])  # 更新重叠区间的右边界\n",
    "                count += 1\n",
    "        \n",
    "        return count"
   ]
  },
  {
   "cell_type": "code",
   "execution_count": null,
   "metadata": {},
   "outputs": [],
   "source": [
    "# 贪心 基于左边界 把452.用最少数量的箭引爆气球代码稍做修改\n",
    "\n",
    "class Solution:\n",
    "    def eraseOverlapIntervals(self, intervals: List[List[int]]) -> int:\n",
    "        if not intervals:\n",
    "            return 0\n",
    "        \n",
    "        intervals.sort(key=lambda x: x[0])  # 按照左边界升序排序\n",
    "        \n",
    "        result = 1  # 不重叠区间数量，初始化为1，因为至少有一个不重叠的区间\n",
    "        \n",
    "        for i in range(1, len(intervals)):\n",
    "            if intervals[i][0] >= intervals[i - 1][1]:  # 没有重叠\n",
    "                result += 1\n",
    "            else:  # 重叠情况\n",
    "                intervals[i][1] = min(intervals[i - 1][1], intervals[i][1])  # 更新重叠区间的右边界\n",
    "        \n",
    "        return len(intervals) - result"
   ]
  },
  {
   "cell_type": "markdown",
   "metadata": {},
   "source": [
    "# 763. Partition Labels\n",
    "* https://leetcode.com/problems/partition-labels/description/\n",
    "* https://programmercarl.com/0763.%E5%88%92%E5%88%86%E5%AD%97%E6%AF%8D%E5%8C%BA%E9%97%B4.html"
   ]
  },
  {
   "cell_type": "code",
   "execution_count": null,
   "metadata": {},
   "outputs": [],
   "source": [
    "class Solution:\n",
    "    def partitionLabels(self, s: str) -> List[int]:\n",
    "        from collections import defaultdict\n",
    "        d = defaultdict(int)\n",
    "        for i, letter in enumerate(s):\n",
    "            d[letter] = i\n",
    "        \n",
    "        res = []\n",
    "        start = 0\n",
    "        end = 0\n",
    "        for i, letter in enumerate(s):\n",
    "            end = max(end, d[letter]) # 当前字符出现的最远位置\n",
    "            if i == end:\n",
    "                res.append(end-start+1)\n",
    "                start = i+1\n",
    "        return res"
   ]
  },
  {
   "cell_type": "code",
   "execution_count": null,
   "metadata": {},
   "outputs": [],
   "source": [
    "# 贪心（版本二）\n",
    "# 与452.用最少数量的箭引爆气球 (opens new window)、435.无重叠区间 (opens new window)相同的思路。\n",
    "\n",
    "class Solution:\n",
    "    def countLabels(self, s):\n",
    "        # 初始化一个长度为26的区间列表，初始值为负无穷\n",
    "        # 用哈希表会比较efficient的找到index，不然用list找index就会变成n^2\n",
    "        hash = [[float('-inf'), float('-inf')] for _ in range(26)]\n",
    "        hash_filter = []\n",
    "        for i in range(len(s)):\n",
    "            if hash[ord(s[i]) - ord('a')][0] == float('-inf'):\n",
    "                hash[ord(s[i]) - ord('a')][0] = i\n",
    "            hash[ord(s[i]) - ord('a')][1] = i # 记录每一个字母的区间[最左，最右]\n",
    "\n",
    "        for i in range(len(hash)):\n",
    "            if hash[i][0] != float('-inf'):\n",
    "                hash_filter.append(hash[i])\n",
    "        return hash_filter\n",
    "\n",
    "    def partitionLabels(self, s):\n",
    "        res = []\n",
    "        hash = self.countLabels(s)\n",
    "        # 这样就变成了一系列两个值的list，找到non-overlapping的分割\n",
    "        hash.sort(key=lambda x: x[0])  # 按左边界从小到大排序\n",
    "        rightBoard = hash[0][1]  # 记录最大右边界\n",
    "        leftBoard = 0\n",
    "        for i in range(1, len(hash)):\n",
    "            if hash[i][0] > rightBoard:  # 出现分割点\n",
    "                res.append(rightBoard - leftBoard + 1)\n",
    "                leftBoard = hash[i][0]\n",
    "            rightBoard = max(rightBoard, hash[i][1])\n",
    "        res.append(rightBoard - leftBoard + 1)  # 最右端\n",
    "        return res\n",
    "            "
   ]
  },
  {
   "cell_type": "markdown",
   "metadata": {},
   "source": [
    "# 56. Merge Intervals\n",
    "* https://leetcode.com/problems/merge-intervals/description/\n",
    "* https://programmercarl.com/0056.%E5%90%88%E5%B9%B6%E5%8C%BA%E9%97%B4.html"
   ]
  },
  {
   "cell_type": "code",
   "execution_count": null,
   "metadata": {},
   "outputs": [],
   "source": [
    "# 我太帅了\n",
    "# 有更新则不加，不更新了则加上，最后一个别忘了加上\n",
    "class Solution:\n",
    "    def merge(self, intervals: List[List[int]]) -> List[List[int]]:\n",
    "        if len(intervals) <= 1:\n",
    "            return intervals\n",
    "        \n",
    "        intervals.sort(key=lambda x:x[0])\n",
    "        sl, sr = intervals[0][0], intervals[0][1]\n",
    "        res = []\n",
    "        for i in range(1, len(intervals)):\n",
    "            if intervals[i][0] <= sr:\n",
    "                sr = max(sr, intervals[i][1])\n",
    "            else:\n",
    "                res.append([sl, sr])\n",
    "                sl, sr = intervals[i][0], intervals[i][1]\n",
    "        res.append([sl, sr])\n",
    "        return res"
   ]
  },
  {
   "cell_type": "code",
   "execution_count": null,
   "metadata": {},
   "outputs": [],
   "source": [
    "# 将res的最后一个区间 与interval新出现的区间比较\n",
    "# 重叠则更新res的最后一个区间的右边界，如果不重叠则直接添加\n",
    "class Solution:\n",
    "    def merge(self, intervals):\n",
    "        result = []\n",
    "        if len(intervals) == 0:\n",
    "            return result  # 区间集合为空直接返回\n",
    "\n",
    "        intervals.sort(key=lambda x: x[0])  # 按照区间的左边界进行排序\n",
    "        result.append(intervals[0])  # 第一个区间可以直接放入结果集中\n",
    "\n",
    "        for i in range(1, len(intervals)):\n",
    "            if result[-1][1] >= intervals[i][0]:  # 发现重叠区间\n",
    "                # 合并区间，只需要更新结果集最后一个区间的右边界，因为根据排序，左边界已经是最小的\n",
    "                result[-1][1] = max(result[-1][1], intervals[i][1])\n",
    "            else:\n",
    "                result.append(intervals[i])  # 区间不重叠\n",
    "\n",
    "        return result"
   ]
  }
 ],
 "metadata": {
  "kernelspec": {
   "display_name": "Python 3",
   "language": "python",
   "name": "python3"
  },
  "language_info": {
   "name": "python",
   "version": "3.12.0"
  }
 },
 "nbformat": 4,
 "nbformat_minor": 2
}
