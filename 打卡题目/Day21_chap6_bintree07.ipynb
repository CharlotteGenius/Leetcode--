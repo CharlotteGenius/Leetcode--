{
 "cells": [
  {
   "cell_type": "markdown",
   "metadata": {},
   "source": [
    "# 530. Minimum Absolute Difference in BST\n",
    "* https://leetcode.com/problems/minimum-absolute-difference-in-bst/description/\n",
    "* https://programmercarl.com/0530.%E4%BA%8C%E5%8F%89%E6%90%9C%E7%B4%A2%E6%A0%91%E7%9A%84%E6%9C%80%E5%B0%8F%E7%BB%9D%E5%AF%B9%E5%B7%AE.html"
   ]
  },
  {
   "cell_type": "code",
   "execution_count": null,
   "metadata": {},
   "outputs": [],
   "source": [
    "# 复制粘贴了Day20的98题\n",
    "class Solution:\n",
    "    def __init__(self):\n",
    "        self.vec = []\n",
    "\n",
    "    def traversal(self, root):\n",
    "        if root is None:\n",
    "            return\n",
    "        self.traversal(root.left)\n",
    "        self.vec.append(root.val)  # 将二叉搜索树转换为有序数组\n",
    "        self.traversal(root.right)\n",
    "\n",
    "    def getMinimumDifference(self, root: Optional[TreeNode]) -> int:\n",
    "        self.vec = []  # 清空数组\n",
    "        self.traversal(root)\n",
    "        min_diff = float(\"inf\")\n",
    "        for i in range(1, len(self.vec)):\n",
    "            min_diff = min(min_diff, self.vec[i]-self.vec[i - 1])\n",
    "        return min_diff"
   ]
  },
  {
   "cell_type": "code",
   "execution_count": null,
   "metadata": {},
   "outputs": [],
   "source": [
    "# 递归法（版本二）利用中序递增，找到该树最小值\n",
    "class Solution:\n",
    "    def __init__(self):\n",
    "        self.result = float('inf')\n",
    "        self.pre = None\n",
    "\n",
    "    def traversal(self, cur):\n",
    "        if cur is None:\n",
    "            return\n",
    "        self.traversal(cur.left)  # 左\n",
    "        if self.pre is not None:  # 中\n",
    "            self.result = min(self.result, cur.val - self.pre.val)\n",
    "        self.pre = cur  # 记录前一个\n",
    "        self.traversal(cur.right)  # 右\n",
    "\n",
    "    def getMinimumDifference(self, root):\n",
    "        self.traversal(root)\n",
    "        return self.result"
   ]
  },
  {
   "cell_type": "code",
   "execution_count": null,
   "metadata": {},
   "outputs": [],
   "source": [
    "# 迭代法\n",
    "class Solution:\n",
    "    def getMinimumDifference(self, root):\n",
    "        stack = []\n",
    "        cur = root\n",
    "        pre = None\n",
    "        result = float('inf')\n",
    "\n",
    "        while cur is not None or len(stack) > 0:\n",
    "            if cur is not None:\n",
    "                stack.append(cur)  # 将访问的节点放进栈\n",
    "                cur = cur.left  # 左\n",
    "            else:\n",
    "                cur = stack.pop()\n",
    "                if pre is not None:  # 中\n",
    "                    result = min(result, cur.val - pre.val)\n",
    "                pre = cur\n",
    "                cur = cur.right  # 右\n",
    "\n",
    "        return result"
   ]
  },
  {
   "cell_type": "markdown",
   "metadata": {},
   "source": [
    "# 501. Find Mode in Binary Search Tree\n",
    "* https://leetcode.com/problems/find-mode-in-binary-search-tree/description/\n",
    "* https://programmercarl.com/0501.%E4%BA%8C%E5%8F%89%E6%90%9C%E7%B4%A2%E6%A0%91%E4%B8%AD%E7%9A%84%E4%BC%97%E6%95%B0.html"
   ]
  },
  {
   "cell_type": "code",
   "execution_count": null,
   "metadata": {},
   "outputs": [],
   "source": [
    "class Solution:\n",
    "    def findMode(self, root: Optional[TreeNode]) -> List[int]:\n",
    "        freq_map = collections.defaultdict(int)\n",
    "        result = []\n",
    "        if not root:\n",
    "            return result\n",
    "        self.searchBST(root, freq_map)\n",
    "        max_freq = max(freq_map.values())\n",
    "        for key, freq in freq_map.items():\n",
    "            if freq == max_freq:\n",
    "                result.append(key)\n",
    "        return result\n",
    "\n",
    "    def searchBST(self, cur, freq_map):\n",
    "        if not cur:\n",
    "            return\n",
    "        freq_map[cur.val] += 1\n",
    "        self.searchBST(cur.left, freq_map)\n",
    "        self.searchBST(cur.right, freq_map)"
   ]
  },
  {
   "cell_type": "markdown",
   "metadata": {},
   "source": [
    "遍历有序数组的元素出现频率，从头遍历，那么一定是相邻两个元素作比较，然后就把出现频率最高的元素输出就可以了。\n",
    "\n",
    "关键是在有序数组上的话，好搞，在树上怎么搞呢？\n",
    "\n",
    "这就考察对树的操作了。\n",
    "\n",
    "在二叉树：搜索树的最小绝对差 (opens new window)中我们就使用了pre指针和cur指针的技巧，这次又用上了。\n",
    "\n",
    "弄一个指针指向前一个节点，这样每次cur（当前节点）才能和pre（前一个节点）作比较。\n",
    "\n",
    "而且初始化的时候pre = NULL，这样当pre为NULL时候，我们就知道这是比较的第一个元素。"
   ]
  },
  {
   "cell_type": "code",
   "execution_count": null,
   "metadata": {},
   "outputs": [],
   "source": [
    "# 递归 版本二 使用二叉树的性质\n",
    "# 与前一个节点相同就+1， 不同就更新上一个节点，因为相同的数值只会在附近？\n",
    "class Solution:\n",
    "    def searchBST(self, cur):\n",
    "        if not cur:\n",
    "            return\n",
    "        self.searchBST(cur.left) # 左中右顺序\n",
    "        \n",
    "        if not self.pre: # 第一个节点\n",
    "            self.count = 1\n",
    "        elif self.pre.val == cur.val: # 与前一个节点数值相同\n",
    "            self.count += 1\n",
    "        else: # 与前一个节点数值不同\n",
    "            self.count = 1\n",
    "        self.pre = cur # 更新上一个节点\n",
    "\n",
    "        if self.count == self.maxCount:\n",
    "            self.result.append(cur.val)\n",
    "        if self.count > self.maxCount: # 如果计数大于最大值频率\n",
    "            self.maxCount = self.count # 更新最大频率\n",
    "            self.result = [cur.val] # 不要忘记清空result，之前result里存放的都失效了\n",
    "        \n",
    "        self.searchBST(cur.right)\n",
    "        return\n",
    "\n",
    "    def findMode(self, root: Optional[TreeNode]) -> List[int]:\n",
    "        self.count = 0\n",
    "        self.maxCount = 0\n",
    "        self.pre = None\n",
    "        self.result = []\n",
    "\n",
    "        self.searchBST(root)\n",
    "        return self.result"
   ]
  },
  {
   "cell_type": "code",
   "execution_count": null,
   "metadata": {},
   "outputs": [],
   "source": [
    "# 迭代法\n",
    "\n",
    "class Solution:\n",
    "    def findMode(self, root):\n",
    "        st = []\n",
    "        cur = root\n",
    "        pre = None\n",
    "        maxCount = 0  # 最大频率\n",
    "        count = 0  # 统计频率\n",
    "        result = []\n",
    "\n",
    "        while cur is not None or st:\n",
    "            if cur is not None:  # 指针来访问节点，访问到最底层\n",
    "                st.append(cur)  # 将访问的节点放进栈\n",
    "                cur = cur.left  # 左\n",
    "            else:\n",
    "                cur = st.pop()\n",
    "                if pre is None:  # 第一个节点\n",
    "                    count = 1\n",
    "                elif pre.val == cur.val:  # 与前一个节点数值相同\n",
    "                    count += 1\n",
    "                else:  # 与前一个节点数值不同\n",
    "                    count = 1\n",
    "\n",
    "                if count == maxCount:  # 如果和最大值相同，放进result中\n",
    "                    result.append(cur.val)\n",
    "\n",
    "                if count > maxCount:  # 如果计数大于最大值频率\n",
    "                    maxCount = count  # 更新最大频率\n",
    "                    result = [cur.val]  # 很关键的一步，不要忘记清空result，之前result里的元素都失效了\n",
    "\n",
    "                pre = cur\n",
    "                cur = cur.right  # 右\n",
    "\n",
    "        return result"
   ]
  },
  {
   "cell_type": "markdown",
   "metadata": {},
   "source": [
    "# 236. Lowest Common Ancestor of a Binary Tree\n",
    "* https://leetcode.com/problems/lowest-common-ancestor-of-a-binary-tree/description/\n",
    "* https://programmercarl.com/0236.%E4%BA%8C%E5%8F%89%E6%A0%91%E7%9A%84%E6%9C%80%E8%BF%91%E5%85%AC%E5%85%B1%E7%A5%96%E5%85%88.html"
   ]
  },
  {
   "cell_type": "markdown",
   "metadata": {},
   "source": [
    "遇到这个题目首先想的是要是能自底向上查找就好了，这样就可以找到公共祖先了。\n",
    "\n",
    "那么二叉树如何可以自底向上查找呢？\n",
    "\n",
    "回溯啊，二叉树回溯的过程就是从低到上。\n",
    "\n",
    "后序遍历（左右中）就是天然的回溯过程，可以根据左右子树的返回值，来处理中节点的逻辑。"
   ]
  },
  {
   "cell_type": "code",
   "execution_count": null,
   "metadata": {},
   "outputs": [],
   "source": [
    "class Solution:\n",
    "    def lowestCommonAncestor(self, root: 'TreeNode', p: 'TreeNode', q: 'TreeNode') -> 'TreeNode':\n",
    "        if root == q or root == p or not root:\n",
    "            return root\n",
    "\n",
    "        left = self.lowestCommonAncestor(root.left, p, q)\n",
    "        right = self.lowestCommonAncestor(root.right, p, q)\n",
    "\n",
    "        if left and right:\n",
    "            return root\n",
    "        if not left and right:\n",
    "            return right\n",
    "        elif not right and left:\n",
    "            return left\n",
    "        else:\n",
    "            return None"
   ]
  },
  {
   "cell_type": "code",
   "execution_count": null,
   "metadata": {},
   "outputs": [],
   "source": [
    "# 递归精简\n",
    "class Solution:\n",
    "    def lowestCommonAncestor(self, root, p, q):\n",
    "        if root == q or root == p or root is None:\n",
    "            return root\n",
    "\n",
    "        left = self.lowestCommonAncestor(root.left, p, q)\n",
    "        right = self.lowestCommonAncestor(root.right, p, q)\n",
    "\n",
    "        if left and right:\n",
    "            return root\n",
    "\n",
    "        if not left:\n",
    "            return right\n",
    "        return left"
   ]
  }
 ],
 "metadata": {
  "kernelspec": {
   "display_name": "Python 3",
   "language": "python",
   "name": "python3"
  },
  "language_info": {
   "name": "python",
   "version": "3.12.0"
  }
 },
 "nbformat": 4,
 "nbformat_minor": 2
}
