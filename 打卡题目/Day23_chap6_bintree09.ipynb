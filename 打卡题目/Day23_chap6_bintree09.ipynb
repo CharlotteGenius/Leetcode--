{
 "cells": [
  {
   "cell_type": "markdown",
   "metadata": {},
   "source": [
    "# 669. Trim a Binary Search Tree\n",
    "* https://leetcode.com/problems/trim-a-binary-search-tree/description/\n",
    "* https://programmercarl.com/0669.%E4%BF%AE%E5%89%AA%E4%BA%8C%E5%8F%89%E6%90%9C%E7%B4%A2%E6%A0%91.html"
   ]
  },
  {
   "cell_type": "code",
   "execution_count": null,
   "metadata": {},
   "outputs": [],
   "source": [
    "# 哇我自己写的，我好帅！！！\n",
    "class Solution:\n",
    "    def trimBST(self, root: Optional[TreeNode], low: int, high: int) -> Optional[TreeNode]:\n",
    "        if not root:\n",
    "            return None\n",
    "        if root.val < low:\n",
    "            return self.trimBST(root.right, low, high)\n",
    "        elif root.val > high:\n",
    "            return self.trimBST(root.left, low, high)\n",
    "        else:\n",
    "            root.left = self.trimBST(root.left, low, high)\n",
    "            root.right = self.trimBST(root.right, low, high)\n",
    "        return root"
   ]
  },
  {
   "cell_type": "code",
   "execution_count": null,
   "metadata": {},
   "outputs": [],
   "source": [
    "# 迭代法\n",
    "\n",
    "class Solution:\n",
    "    def trimBST(self, root: TreeNode, L: int, R: int) -> TreeNode:\n",
    "        if not root:\n",
    "            return None\n",
    "        \n",
    "        # 处理头结点，让root移动到[L, R] 范围内，注意是左闭右闭\n",
    "        while root and (root.val < L or root.val > R):\n",
    "            if root.val < L:\n",
    "                root = root.right  # 小于L往右走\n",
    "            else:\n",
    "                root = root.left  # 大于R往左走\n",
    "        \n",
    "        cur = root\n",
    "        \n",
    "        # 此时root已经在[L, R] 范围内，处理左孩子元素小于L的情况\n",
    "        while cur:\n",
    "            while cur.left and cur.left.val < L:\n",
    "                cur.left = cur.left.right\n",
    "            cur = cur.left\n",
    "        \n",
    "        cur = root\n",
    "        \n",
    "        # 此时root已经在[L, R] 范围内，处理右孩子大于R的情况\n",
    "        while cur:\n",
    "            while cur.right and cur.right.val > R:\n",
    "                cur.right = cur.right.left\n",
    "            cur = cur.right\n",
    "        \n",
    "        return root"
   ]
  },
  {
   "cell_type": "markdown",
   "metadata": {},
   "source": [
    "# 108. Convert Sorted Array to Binary Search Tree\n",
    "\n",
    "将有序数组转换为二叉搜索树\n",
    "\n",
    "* https://leetcode.com/problems/convert-sorted-array-to-binary-search-tree/description/\n",
    "* https://programmercarl.com/0108.%E5%B0%86%E6%9C%89%E5%BA%8F%E6%95%B0%E7%BB%84%E8%BD%AC%E6%8D%A2%E4%B8%BA%E4%BA%8C%E5%8F%89%E6%90%9C%E7%B4%A2%E6%A0%91.html\n",
    "\n",
    "A height-balanced binary tree is a binary tree in which the depth of the two subtrees of every node never differs by more than one.\n",
    "\n",
    "其实数组构造二叉树，构成平衡树是自然而然的事情，因为大家默认都是从数组中间位置取值作为节点元素，一般不会随机取。所以想构成不平衡的二叉树是自找麻烦。\n",
    "\n",
    "本质就是寻找分割点，分割点作为当前节点，然后递归左区间和右区间。\n"
   ]
  },
  {
   "cell_type": "code",
   "execution_count": null,
   "metadata": {},
   "outputs": [],
   "source": [
    "# 好神奇的递归~！\n",
    "class Solution:\n",
    "    def sortedArrayToBST(self, nums: List[int]) -> Optional[TreeNode]:\n",
    "        if len(nums)==0:\n",
    "            return None\n",
    "        if len(nums)==1:\n",
    "            return TreeNode(val = nums[0])\n",
    "        mid = int(len(nums)//2)\n",
    "        root = TreeNode(val = nums[mid])\n",
    "        root.left = self.sortedArrayToBST(nums[:mid])\n",
    "        root.right = self.sortedArrayToBST(nums[mid+1:])\n",
    "        return root"
   ]
  },
  {
   "cell_type": "code",
   "execution_count": null,
   "metadata": {},
   "outputs": [],
   "source": [
    "class Solution:\n",
    "    def traversal(self, nums: List[int], left: int, right: int) -> TreeNode:\n",
    "        if left > right:\n",
    "            return None\n",
    "        \n",
    "        mid = left + (right - left) // 2 # 这种写法可以避免out of range\n",
    "        root = TreeNode(nums[mid])\n",
    "        root.left = self.traversal(nums, left, mid - 1)\n",
    "        root.right = self.traversal(nums, mid + 1, right)\n",
    "        return root\n",
    "    \n",
    "    def sortedArrayToBST(self, nums: List[int]) -> TreeNode:\n",
    "        root = self.traversal(nums, 0, len(nums) - 1)\n",
    "        return root"
   ]
  },
  {
   "cell_type": "code",
   "execution_count": null,
   "metadata": {},
   "outputs": [],
   "source": [
    "# 迭代法\n",
    "\n",
    "from collections import deque\n",
    "\n",
    "class Solution:\n",
    "    def sortedArrayToBST(self, nums: List[int]) -> TreeNode:\n",
    "        if len(nums) == 0:\n",
    "            return None\n",
    "        \n",
    "        root = TreeNode(0)  # 初始根节点\n",
    "        nodeQue = deque()   # 放遍历的节点\n",
    "        leftQue = deque()   # 保存左区间下标\n",
    "        rightQue = deque()  # 保存右区间下标\n",
    "        \n",
    "        nodeQue.append(root)               # 根节点入队列\n",
    "        leftQue.append(0)                  # 0为左区间下标初始位置\n",
    "        rightQue.append(len(nums) - 1)     # len(nums) - 1为右区间下标初始位置\n",
    "\n",
    "        while nodeQue:\n",
    "            curNode = nodeQue.popleft()\n",
    "            left = leftQue.popleft()\n",
    "            right = rightQue.popleft()\n",
    "            mid = left + (right - left) // 2\n",
    "\n",
    "            curNode.val = nums[mid]  # 将mid对应的元素给中间节点\n",
    "\n",
    "            if left <= mid - 1:  # 处理左区间\n",
    "                curNode.left = TreeNode(0)\n",
    "                nodeQue.append(curNode.left)\n",
    "                leftQue.append(left)\n",
    "                rightQue.append(mid - 1)\n",
    "\n",
    "            if right >= mid + 1:  # 处理右区间\n",
    "                curNode.right = TreeNode(0)\n",
    "                nodeQue.append(curNode.right)\n",
    "                leftQue.append(mid + 1)\n",
    "                rightQue.append(right)\n",
    "\n",
    "        return root\n"
   ]
  },
  {
   "cell_type": "markdown",
   "metadata": {},
   "source": [
    "# 538. Convert BST to Greater Tree\n",
    "* https://leetcode.com/problems/convert-bst-to-greater-tree/description/\n",
    "* https://programmercarl.com/0538.%E6%8A%8A%E4%BA%8C%E5%8F%89%E6%90%9C%E7%B4%A2%E6%A0%91%E8%BD%AC%E6%8D%A2%E4%B8%BA%E7%B4%AF%E5%8A%A0%E6%A0%91.html#%E7%AE%97%E6%B3%95%E5%85%AC%E5%BC%80%E8%AF%BE\n",
    "\n",
    "其实这就是一棵树，大家可能看起来有点别扭，换一个角度来看，这就是一个有序数组[2, 5, 13]，求从后到前的累加数组，也就是[20, 18, 13]，是不是感觉这就简单了。\n",
    "\n",
    "为什么变成数组就是感觉简单了呢？\n",
    "\n",
    "因为数组大家都知道怎么遍历啊，从后向前，挨个累加就完事了，这换成了二叉搜索树，看起来就别扭了一些是不是。\n",
    "\n",
    "那么知道如何遍历这个二叉树，也就迎刃而解了，从树中可以看出累加的顺序是**右中左**，所以我们需要反中序遍历这个二叉树，然后顺序累加就可以了。\n",
    "\n",
    "本题依然需要一个pre指针记录当前遍历节点cur的前一个节点，这样才方便做累加。\n",
    "\n",
    "注意要右中左来遍历二叉树， 中节点的处理逻辑就是让cur的数值加上前一个节点的数值。"
   ]
  },
  {
   "cell_type": "code",
   "execution_count": null,
   "metadata": {},
   "outputs": [],
   "source": [
    "class Solution:\n",
    "    def convertBST(self, root: Optional[TreeNode]) -> Optional[TreeNode]:\n",
    "        self.pre = 0\n",
    "        self.traversal(root)\n",
    "        return root\n",
    "    \n",
    "    def traversal(self, cur):\n",
    "        if not cur:\n",
    "            return\n",
    "        self.traversal(cur.right)\n",
    "        cur.val += self.pre\n",
    "        self.pre = cur.val\n",
    "        self.traversal(cur.left)"
   ]
  },
  {
   "cell_type": "code",
   "execution_count": null,
   "metadata": {},
   "outputs": [],
   "source": [
    "class Solution:\n",
    "    def __init__(self):\n",
    "        self.count = 0\n",
    "\n",
    "    def convertBST(self, root: Optional[TreeNode]) -> Optional[TreeNode]:\n",
    "        if root == None:\n",
    "            return \n",
    "        '''\n",
    "        倒序累加替换：  \n",
    "        '''\n",
    "        # 右\n",
    "        self.convertBST(root.right)\n",
    "\n",
    "        # 中\n",
    "        # 中节点：用当前root的值加上pre的值\n",
    "        self.count += root.val\n",
    "        root.val = self.count \n",
    "\n",
    "        # 左\n",
    "        self.convertBST(root.left)\n",
    "\n",
    "        return root \n",
    "        "
   ]
  },
  {
   "cell_type": "code",
   "execution_count": null,
   "metadata": {},
   "outputs": [],
   "source": [
    "# 迭代\n",
    "class Solution:\n",
    "    def convertBST(self, root: Optional[TreeNode]) -> Optional[TreeNode]:\n",
    "        pre = 0\n",
    "        queue = []\n",
    "        cur = root\n",
    "        while cur or queue:\n",
    "            if cur:\n",
    "                queue.append(cur)\n",
    "                cur = cur.right # 右\n",
    "            else:\n",
    "                cur = queue.pop() # 中\n",
    "                cur.val += pre\n",
    "                pre = cur.val\n",
    "                cur = cur.left # 左\n",
    "        return root"
   ]
  },
  {
   "cell_type": "markdown",
   "metadata": {},
   "source": [
    "# 二叉树总结\n",
    "* https://programmercarl.com/%E4%BA%8C%E5%8F%89%E6%A0%91%E6%80%BB%E7%BB%93%E7%AF%87.html"
   ]
  },
  {
   "cell_type": "markdown",
   "metadata": {},
   "source": []
  }
 ],
 "metadata": {
  "kernelspec": {
   "display_name": "Python 3",
   "language": "python",
   "name": "python3"
  },
  "language_info": {
   "codemirror_mode": {
    "name": "ipython",
    "version": 3
   },
   "file_extension": ".py",
   "mimetype": "text/x-python",
   "name": "python",
   "nbconvert_exporter": "python",
   "pygments_lexer": "ipython3",
   "version": "3.12.0"
  }
 },
 "nbformat": 4,
 "nbformat_minor": 2
}
