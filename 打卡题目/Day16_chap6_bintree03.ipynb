{
 "cells": [
  {
   "cell_type": "markdown",
   "metadata": {},
   "source": [
    "# 104. Maximum Depth of Binary Tree\n",
    "* https://programmercarl.com/0104.%E4%BA%8C%E5%8F%89%E6%A0%91%E7%9A%84%E6%9C%80%E5%A4%A7%E6%B7%B1%E5%BA%A6.html\n",
    "* 嗯?这题Day15做过了\n",
    "* 这次要用递归法！\n",
    "* 而根节点的高度就是二叉树的最大深度，所以本题中我们通过后序求的根节点高度来求的二叉树最大深度。\n",
    "1. 确定递归函数的参数和返回值：参数就是传入树的根节点，返回就返回这棵树的深度，所以返回值为int类型。\n",
    "\n",
    "2. 确定终止条件：如果为空节点的话，就返回0，表示高度为0。\n",
    "\n",
    "3. 确定单层递归的逻辑：先求它的左子树的深度，再求右子树的深度，最后取左右深度最大的数值 再+1 （加1是因为算上当前中间节点）就是目前节点为根节点的树的深度。\n"
   ]
  },
  {
   "cell_type": "code",
   "execution_count": null,
   "metadata": {},
   "outputs": [],
   "source": [
    "# 自己写出来这个递归啦！\n",
    "# 迭代可以参考Day15~\n",
    "class Solution:\n",
    "    def maxDepth(self, root: Optional[TreeNode]) -> int:\n",
    "        if not root:\n",
    "            return 0\n",
    "        return max(self.maxDepth(root.left), self.maxDepth(root.right)) + 1"
   ]
  },
  {
   "cell_type": "markdown",
   "metadata": {},
   "source": [
    "# 559. Maximum Depth of N-ary Tree\n",
    "* https://leetcode.com/problems/maximum-depth-of-n-ary-tree/description/\n",
    "* https://programmercarl.com/0104.%E4%BA%8C%E5%8F%89%E6%A0%91%E7%9A%84%E6%9C%80%E5%A4%A7%E6%B7%B1%E5%BA%A6.html#%E5%85%B6%E4%BB%96%E8%AF%AD%E8%A8%80%E7%89%88%E6%9C%AC"
   ]
  },
  {
   "cell_type": "code",
   "execution_count": null,
   "metadata": {},
   "outputs": [],
   "source": [
    "# 自己写的，现在只会层序遍历...\n",
    "class Solution:\n",
    "    def maxDepth(self, root: 'Node') -> int:\n",
    "        if not root:\n",
    "            return 0\n",
    "        queue = collections.deque([root])\n",
    "        depth = 0\n",
    "        while queue:\n",
    "            depth += 1\n",
    "            for _ in range(len(queue)):\n",
    "                cur = queue.popleft()\n",
    "                if cur.children:\n",
    "                    for child in cur.children:\n",
    "                        queue.append(child)\n",
    "        return depth"
   ]
  },
  {
   "cell_type": "code",
   "execution_count": null,
   "metadata": {},
   "outputs": [],
   "source": [
    "class Solution:\n",
    "    def maxDepth(self, root: 'Node') -> int:\n",
    "        if not root:\n",
    "            return 0\n",
    "        max_depth = 1\n",
    "        for child in root.children:\n",
    "            max_depth = max(max_depth, self.maxDepth(child)+1)\n",
    "        return max_depth"
   ]
  },
  {
   "cell_type": "markdown",
   "metadata": {},
   "source": [
    "# 111. 二叉树的最小深度 \n",
    "* 也是Day15做过的！再回头看看！\n",
    "* 这次用递归法~~！\n",
    "* https://programmercarl.com/0111.%E4%BA%8C%E5%8F%89%E6%A0%91%E7%9A%84%E6%9C%80%E5%B0%8F%E6%B7%B1%E5%BA%A6.html\n",
    "* 这题有坑，要注意左有右无的时候，只看另一边"
   ]
  },
  {
   "cell_type": "markdown",
   "metadata": {},
   "source": [
    "最小深度是从根节点到最近叶子节点的最短路径上的节点数量。注意是叶子节点。\n",
    "\n",
    "什么是叶子节点，左右孩子都为空的节点才是叶子节点！\n",
    "\n",
    "1. 确定递归函数的参数和返回值 参数为要传入的二叉树根节点，返回的是int类型的深度。\n",
    "\n",
    "2. 确定终止条件 终止条件也是遇到空节点返回0，表示当前节点的高度为0。\n",
    "\n",
    "3. 确定单层递归的逻辑\n",
    "\n",
    "如果左子树为空，右子树不为空，说明最小深度是 1 + 右子树的深度。\n",
    "\n",
    "反之，右子树为空，左子树不为空，最小深度是 1 + 左子树的深度。 最后如果左右子树都不为空，返回左右子树深度最小值 + 1 。\n",
    "\n"
   ]
  },
  {
   "cell_type": "code",
   "execution_count": null,
   "metadata": {},
   "outputs": [],
   "source": [
    "class Solution:\n",
    "    def minDepth(self, root: Optional[TreeNode]) -> int:\n",
    "        if not root:\n",
    "            return 0\n",
    "        if not root.left and root.right:\n",
    "            return self.minDepth(root.right) + 1\n",
    "        if not root.right and root.left:\n",
    "            return self.minDepth(root.left) + 1\n",
    "        return min(self.minDepth(root.right), self.minDepth(root.left)) + 1"
   ]
  },
  {
   "cell_type": "markdown",
   "metadata": {},
   "source": [
    "# 222. Count Complete Tree Nodes\n",
    "* https://leetcode.com/problems/count-complete-tree-nodes/description/\n",
    "* https://programmercarl.com/0222.%E5%AE%8C%E5%85%A8%E4%BA%8C%E5%8F%89%E6%A0%91%E7%9A%84%E8%8A%82%E7%82%B9%E4%B8%AA%E6%95%B0.html"
   ]
  },
  {
   "cell_type": "code",
   "execution_count": null,
   "metadata": {},
   "outputs": [],
   "source": [
    "class Solution:\n",
    "    def countNodes(self, root: Optional[TreeNode]) -> int:\n",
    "        if not root:\n",
    "            return 0\n",
    "        return self.countNodes(root.left) + self.countNodes(root.right) + 1"
   ]
  },
  {
   "cell_type": "code",
   "execution_count": null,
   "metadata": {},
   "outputs": [],
   "source": [
    "# 迭代法：\n",
    "import collections\n",
    "class Solution:\n",
    "    def countNodes(self, root: TreeNode) -> int:\n",
    "        queue = collections.deque()\n",
    "        if root:\n",
    "            queue.append(root)\n",
    "        result = 0\n",
    "        while queue:\n",
    "            for i in range(len(queue)):\n",
    "                cur = queue.popleft()\n",
    "                result += 1 #记录节点数量\n",
    "                if cur.left:\n",
    "                    queue.append(cur.left)\n",
    "                if cur.right:\n",
    "                    queue.append(cur.right)\n",
    "        return result"
   ]
  }
 ],
 "metadata": {
  "kernelspec": {
   "display_name": "Python 3",
   "language": "python",
   "name": "python3"
  },
  "language_info": {
   "name": "python",
   "version": "3.12.0"
  }
 },
 "nbformat": 4,
 "nbformat_minor": 2
}
