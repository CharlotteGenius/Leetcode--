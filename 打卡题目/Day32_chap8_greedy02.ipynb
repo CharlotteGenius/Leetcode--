{
 "cells": [
  {
   "cell_type": "markdown",
   "metadata": {},
   "source": [
    "# 122. Best Time to Buy and Sell Stock II\n",
    "* https://leetcode.com/problems/best-time-to-buy-and-sell-stock-ii/description/\n",
    "* https://programmercarl.com/0122.%E4%B9%B0%E5%8D%96%E8%82%A1%E7%A5%A8%E7%9A%84%E6%9C%80%E4%BD%B3%E6%97%B6%E6%9C%BAII.html"
   ]
  },
  {
   "cell_type": "code",
   "execution_count": null,
   "metadata": {},
   "outputs": [],
   "source": [
    "# 巧妙啊巧妙啊！\n",
    "# 其实只要算每天的利润，然后把正利润相加就行，因为连续利润其实就是分割成每天的利润！\n",
    "class Solution:\n",
    "    def maxProfit(self, prices: List[int]) -> int:\n",
    "        s = 0\n",
    "        for i in range(1, len(prices)):\n",
    "            p = prices[i]-prices[i-1]\n",
    "            if p > 0:\n",
    "                s += p\n",
    "        return s"
   ]
  },
  {
   "cell_type": "code",
   "execution_count": null,
   "metadata": {},
   "outputs": [],
   "source": [
    "class Solution:\n",
    "    def maxProfit(self, prices: List[int]) -> int:\n",
    "        result = 0\n",
    "        for i in range(1, len(prices)):\n",
    "            result += max(prices[i] - prices[i - 1], 0)\n",
    "        return result"
   ]
  },
  {
   "cell_type": "code",
   "execution_count": null,
   "metadata": {},
   "outputs": [],
   "source": [
    "# 动态规划\n",
    "\n",
    "class Solution:\n",
    "    def maxProfit(self, prices: List[int]) -> int:\n",
    "        length = len(prices)\n",
    "        dp = [[0] * 2 for _ in range(length)]\n",
    "        dp[0][0] = -prices[0]\n",
    "        dp[0][1] = 0\n",
    "        for i in range(1, length):\n",
    "            dp[i][0] = max(dp[i-1][0], dp[i-1][1] - prices[i]) #注意这里是和121. 买卖股票的最佳时机唯一不同的地方\n",
    "            dp[i][1] = max(dp[i-1][1], dp[i-1][0] + prices[i])\n",
    "        return dp[-1][1]"
   ]
  },
  {
   "cell_type": "markdown",
   "metadata": {},
   "source": [
    "# 55. Jump Game\n",
    "* https://leetcode.com/problems/jump-game/\n",
    "* https://programmercarl.com/0055.%E8%B7%B3%E8%B7%83%E6%B8%B8%E6%88%8F.html"
   ]
  },
  {
   "cell_type": "code",
   "execution_count": null,
   "metadata": {},
   "outputs": [],
   "source": [
    "# 这个是自己按DP的写法写的，但是在lc会超时！！！！\n",
    "# Not working!!!!\n",
    "class Solution:\n",
    "    def canJump(self, nums: List[int]) -> bool:\n",
    "        T = [0] * len(nums)\n",
    "        T[0] = True\n",
    "        for i in range(1, len(nums)):\n",
    "            for j in range(i):\n",
    "                if T[j] and nums[j] >= i-j:\n",
    "                    T[i] = True\n",
    "        return T[-1]\n"
   ]
  },
  {
   "cell_type": "markdown",
   "metadata": {},
   "source": [
    "这个问题就转化为跳跃覆盖范围究竟可不可以覆盖到终点！\n",
    "\n",
    "每次移动取最大跳跃步数（得到最大的覆盖范围），每移动一个单位，就更新最大覆盖范围。\n",
    "\n",
    "贪心算法局部最优解：每次取最大跳跃步数（取最大覆盖范围），整体最优解：最后得到整体最大覆盖范围，看是否能到终点。"
   ]
  },
  {
   "cell_type": "code",
   "execution_count": null,
   "metadata": {},
   "outputs": [],
   "source": [
    "class Solution:\n",
    "    def canJump(self, nums: List[int]) -> bool:\n",
    "        cover = 0\n",
    "        if len(nums) == 1: \n",
    "            return True\n",
    "        i = 0\n",
    "        # python不支持动态修改for循环中变量,使用while循环代替\n",
    "        while i <= cover:\n",
    "            cover = max(i + nums[i], cover)\n",
    "            if cover >= len(nums) - 1: \n",
    "                return True\n",
    "            i += 1\n",
    "        return False"
   ]
  },
  {
   "cell_type": "code",
   "execution_count": null,
   "metadata": {},
   "outputs": [],
   "source": [
    "## for循环\n",
    "class Solution:\n",
    "    def canJump(self, nums: List[int]) -> bool:\n",
    "        cover = 0\n",
    "        if len(nums) == 1: \n",
    "            return True\n",
    "        for i in range(len(nums)):\n",
    "            if i <= cover:\n",
    "                cover = max(i + nums[i], cover)\n",
    "                if cover >= len(nums) - 1: \n",
    "                    return True\n",
    "        return False"
   ]
  },
  {
   "cell_type": "markdown",
   "metadata": {},
   "source": [
    "# 45. Jump Game II\n",
    "* https://leetcode.com/problems/jump-game-ii/description/\n",
    "* https://programmercarl.com/0045.%E8%B7%B3%E8%B7%83%E6%B8%B8%E6%88%8FII.html#google_vignette\n",
    "\n",
    "要从覆盖范围出发，不管怎么跳，覆盖范围内一定是可以跳到的，以最小的步数增加覆盖范围，覆盖范围一旦覆盖了终点，得到的就是最少步数！\n",
    "\n",
    "这里需要统计两个覆盖范围，当前这一步的最大覆盖和下一步最大覆盖。\n",
    "\n",
    "如果移动下标达到了当前这一步的最大覆盖最远距离了，还没有到终点的话，那么就必须再走一步来增加覆盖范围，直到覆盖范围覆盖了终点。\n",
    "\n",
    "当移动下标达到了当前覆盖的最远距离下标时\n",
    "\n",
    "* 如果当前覆盖最远距离下标不是是集合终点，步数就加一，还需要继续走。\n",
    "* 如果当前覆盖最远距离下标就是是集合终点，步数不用加一，因为不能再往后走了。"
   ]
  },
  {
   "cell_type": "code",
   "execution_count": null,
   "metadata": {},
   "outputs": [],
   "source": [
    "class Solution:\n",
    "    def jump(self, nums: List[int]) -> int:\n",
    "        if len(nums) == 1:\n",
    "            return 0\n",
    "        \n",
    "        cur_dist = 0 # 当前覆盖最远距离下标\n",
    "        ans = 0 # 记录走的最大步数\n",
    "        next_dist = 0 # 下一步覆盖最远距离下标\n",
    "\n",
    "        for i in range(len(nums)):\n",
    "            next_dist = max(nums[i]+i, next_dist)\n",
    "            if i == cur_dist: # 遇到覆盖最远距离\n",
    "                ans += 1 # 需要再走一步\n",
    "                cur_dist = next_dist # 更新当前覆盖最远距离\n",
    "                if next_dist >= len(nums) - 1:\n",
    "                    break\n",
    "        return ans"
   ]
  },
  {
   "cell_type": "code",
   "execution_count": null,
   "metadata": {},
   "outputs": [],
   "source": [
    "class Solution:\n",
    "    def jump(self, nums: List[int]) -> int:\n",
    "        cur_dist = 0 # 当前覆盖最远距离下标\n",
    "        ans = 0 # 记录走的最大步数\n",
    "        next_dist = 0 # 下一步覆盖最远距离下标\n",
    "\n",
    "        for i in range(len(nums) - 1):\n",
    "            next_dist = max(nums[i]+i, next_dist)\n",
    "            if i == cur_dist: # 遇到覆盖最远距离\n",
    "                ans += 1 # 需要再走一步\n",
    "                cur_dist = next_dist # 更新当前覆盖最远距离\n",
    "                \n",
    "        return ans"
   ]
  },
  {
   "cell_type": "code",
   "execution_count": null,
   "metadata": {},
   "outputs": [],
   "source": [
    "# 类似于55的解法\n",
    "class Solution:\n",
    "    def jump(self, nums: List[int]) -> int:\n",
    "        if len(nums)==1:  # 如果数组只有一个元素，不需要跳跃，步数为0\n",
    "            return 0\n",
    "\n",
    "        i = 0\n",
    "        ans = 0\n",
    "        cover = 0\n",
    "\n",
    "        while i <= cover:\n",
    "            for i in range(i, cover+1):\n",
    "                cover = max(nums[i]+i, cover)\n",
    "                if cover >= len(nums) - 1:\n",
    "                    return ans+1\n",
    "            ans += 1 # 每一轮遍历结束，步数+1"
   ]
  },
  {
   "cell_type": "code",
   "execution_count": null,
   "metadata": {},
   "outputs": [],
   "source": [
    "# DP\n",
    "class Solution:\n",
    "    def jump(self, nums: List[int]) -> int:\n",
    "        result = [10**4+1] * len(nums)  # 初始化结果数组，初始值为一个较大的数\n",
    "        result[0] = 0  # 起始位置的步数为0\n",
    "\n",
    "        for i in range(len(nums)):\n",
    "            for j in range(nums[i] + 1):\n",
    "                if i + j < len(nums):\n",
    "                    result[i+j] = min(result[i+j], result[i]+1)   # 更新到达下一跳位置的最少步数\n",
    "                    \n",
    "        return result[-1]  # 返回到达最后一个位置的最少步数"
   ]
  }
 ],
 "metadata": {
  "kernelspec": {
   "display_name": "Python 3",
   "language": "python",
   "name": "python3"
  },
  "language_info": {
   "name": "python",
   "version": "3.12.0"
  }
 },
 "nbformat": 4,
 "nbformat_minor": 2
}
