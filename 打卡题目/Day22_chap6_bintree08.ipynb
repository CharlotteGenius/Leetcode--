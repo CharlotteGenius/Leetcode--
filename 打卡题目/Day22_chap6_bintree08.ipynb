{
 "cells": [
  {
   "cell_type": "markdown",
   "metadata": {},
   "source": [
    "# 235. Lowest Common Ancestor of a Binary Search Tree\n",
    "* https://leetcode.com/problems/lowest-common-ancestor-of-a-binary-search-tree/description/\n",
    "* https://programmercarl.com/0235.%E4%BA%8C%E5%8F%89%E6%90%9C%E7%B4%A2%E6%A0%91%E7%9A%84%E6%9C%80%E8%BF%91%E5%85%AC%E5%85%B1%E7%A5%96%E5%85%88.html\n",
    "\n",
    "这题跟236的唯一区别就是二叉树和二叉搜索树，所以二叉树的方法在这儿都能用，但是可以更简单\n",
    "\n",
    "如果 cur 小于 p，同时 cur 小于 q，那么就应该向右遍历（目标区间在右子树）。\n",
    "\n",
    "剩下的情况，就是cur节点在区间（p <= cur && cur <= q）或者 （q <= cur && cur <= p）中，那么cur就是最近公共祖先了，直接返回cur。\n",
    "\n"
   ]
  },
  {
   "cell_type": "code",
   "execution_count": null,
   "metadata": {},
   "outputs": [],
   "source": [
    "class Solution:\n",
    "    def lowestCommonAncestor(self, root, p, q):\n",
    "        if not root:\n",
    "            return root\n",
    "\n",
    "        if root.val > p.val and root.val > q.val:           # 左\n",
    "            left = self.lowestCommonAncestor(root.left, p, q)\n",
    "            if left:\n",
    "                return left\n",
    "\n",
    "        if root.val < p.val and root.val < q.val:           # 右\n",
    "            right = self.lowestCommonAncestor(root.right, p, q)\n",
    "            if right:\n",
    "                return right\n",
    "\n",
    "        return root"
   ]
  },
  {
   "cell_type": "code",
   "execution_count": null,
   "metadata": {},
   "outputs": [],
   "source": [
    "# 是因为二叉搜索树必有root value吗？\n",
    "class Solution:\n",
    "    def lowestCommonAncestor(self, root: 'TreeNode', p: 'TreeNode', q: 'TreeNode') -> 'TreeNode':\n",
    "        if root.val > p.val and root.val > q.val:\n",
    "            return self.lowestCommonAncestor(root.left, p, q)\n",
    "        elif root.val < p.val and root.val < q.val:\n",
    "            return self.lowestCommonAncestor(root.right, p, q)\n",
    "        else:\n",
    "            return root"
   ]
  },
  {
   "cell_type": "code",
   "execution_count": null,
   "metadata": {},
   "outputs": [],
   "source": [
    "# 迭代法\n",
    "class Solution:\n",
    "    def lowestCommonAncestor(self, root, p, q):\n",
    "        while root:\n",
    "            if root.val > p.val and root.val > q.val:\n",
    "                root = root.left\n",
    "            elif root.val < p.val and root.val < q.val:\n",
    "                root = root.right\n",
    "            else:\n",
    "                return root\n",
    "        return None"
   ]
  },
  {
   "cell_type": "markdown",
   "metadata": {},
   "source": [
    "# 701. Insert into a Binary Search Tree\n",
    "* https://leetcode.com/problems/insert-into-a-binary-search-tree/description/\n",
    "* https://programmercarl.com/0701.%E4%BA%8C%E5%8F%89%E6%90%9C%E7%B4%A2%E6%A0%91%E4%B8%AD%E7%9A%84%E6%8F%92%E5%85%A5%E6%93%8D%E4%BD%9C.html\n",
    "\n",
    "只要按照二叉搜索树的规则去遍历，遇到空节点就插入节点就可以了。\n",
    "\n",
    "终止条件就是找到遍历的节点为null的时候，就是要插入节点的位置了，并把插入的节点返回。\n",
    "\n",
    "* 需要遍历整棵树么？\n",
    "\n",
    "别忘了这是搜索树，遍历整棵搜索树简直是对搜索树的侮辱。"
   ]
  },
  {
   "cell_type": "code",
   "execution_count": null,
   "metadata": {},
   "outputs": [],
   "source": [
    "class Solution:\n",
    "    def insertIntoBST(self, root: Optional[TreeNode], val: int) -> Optional[TreeNode]:\n",
    "        node = TreeNode(val)\n",
    "        if not root or root.val == val:\n",
    "            return node\n",
    "        if val > root.val:\n",
    "            if not root.right:\n",
    "                root.right = node\n",
    "            else:\n",
    "                self.insertIntoBST(root.right, val)\n",
    "        elif val < root.val:\n",
    "            if not root.left:\n",
    "                root.left = node\n",
    "            else:\n",
    "                self.insertIntoBST(root.left, val)\n",
    "        \n",
    "        return root"
   ]
  },
  {
   "cell_type": "code",
   "execution_count": null,
   "metadata": {},
   "outputs": [],
   "source": [
    "# 化简\n",
    "class Solution:\n",
    "    def insertIntoBST(self, root: Optional[TreeNode], val: int) -> Optional[TreeNode]:\n",
    "        node = TreeNode(val)\n",
    "        if not root or root.val == val:\n",
    "            return node\n",
    "        if val > root.val:\n",
    "            root.right = self.insertIntoBST(root.right, val)\n",
    "        elif val < root.val:\n",
    "            root.left = self.insertIntoBST(root.left, val)\n",
    "        return root"
   ]
  },
  {
   "cell_type": "code",
   "execution_count": null,
   "metadata": {},
   "outputs": [],
   "source": [
    "# 迭代法\n",
    "class Solution:\n",
    "    def insertIntoBST(self, root, val):\n",
    "        if root is None:  # 如果根节点为空，创建新节点作为根节点并返回\n",
    "            node = TreeNode(val)\n",
    "            return node\n",
    "\n",
    "        cur = root\n",
    "        parent = root  # 记录上一个节点，用于连接新节点\n",
    "        while cur is not None:\n",
    "            parent = cur\n",
    "            if cur.val > val:\n",
    "                cur = cur.left\n",
    "            else:\n",
    "                cur = cur.right\n",
    "\n",
    "        node = TreeNode(val)\n",
    "        if val < parent.val:\n",
    "            parent.left = node  # 将新节点连接到父节点的左子树\n",
    "        else:\n",
    "            parent.right = node  # 将新节点连接到父节点的右子树\n",
    "\n",
    "        return root"
   ]
  },
  {
   "cell_type": "markdown",
   "metadata": {},
   "source": [
    "# 450. Delete Node in a BST\n",
    "* https://leetcode.com/problems/delete-node-in-a-bst/description/\n",
    "* https://programmercarl.com/0450.%E5%88%A0%E9%99%A4%E4%BA%8C%E5%8F%89%E6%90%9C%E7%B4%A2%E6%A0%91%E4%B8%AD%E7%9A%84%E8%8A%82%E7%82%B9.html"
   ]
  },
  {
   "cell_type": "code",
   "execution_count": null,
   "metadata": {},
   "outputs": [],
   "source": [
    "# 主要难点在于 左右都有孩子的时候，\n",
    "# 要把左边挂在右边孩子树的最左叶子上，\n",
    "# 因为右边数肯定比左边所有数值都大\n",
    "class Solution:\n",
    "    def deleteNode(self, root: Optional[TreeNode], key: int) -> Optional[TreeNode]:\n",
    "        if not root:\n",
    "            return None\n",
    "        if root.val == key:\n",
    "            if not root.left:\n",
    "                return root.right\n",
    "            elif not root.right:\n",
    "                return root.left\n",
    "            elif root.left and root.right:\n",
    "                cur = root.right\n",
    "                while cur.left:\n",
    "                    cur = cur.left\n",
    "                cur.left = root.left\n",
    "                return root.right\n",
    "        if root.val > key:\n",
    "            root.left = self.deleteNode(root.left, key)\n",
    "        if root.val < key:\n",
    "            root.right = self.deleteNode(root.right, key)\n",
    "        return root"
   ]
  },
  {
   "cell_type": "code",
   "execution_count": null,
   "metadata": {},
   "outputs": [],
   "source": [
    "# 递归法（版本二）\n",
    "\n",
    "class Solution:\n",
    "    def deleteNode(self, root, key):\n",
    "        if root is None:  # 如果根节点为空，直接返回\n",
    "            return root\n",
    "        if root.val == key:  # 找到要删除的节点\n",
    "            if root.right is None:  # 如果右子树为空，直接返回左子树作为新的根节点\n",
    "                return root.left\n",
    "            cur = root.right\n",
    "            while cur.left:  # 找到右子树中的最左节点\n",
    "                cur = cur.left\n",
    "            root.val, cur.val = cur.val, root.val  # 将要删除的节点值与最左节点值交换\n",
    "        root.left = self.deleteNode(root.left, key)  # 在左子树中递归删除目标节点\n",
    "        root.right = self.deleteNode(root.right, key)  # 在右子树中递归删除目标节点\n",
    "        return root\n"
   ]
  },
  {
   "cell_type": "code",
   "execution_count": null,
   "metadata": {},
   "outputs": [],
   "source": [
    "# 迭代法\n",
    "\n",
    "class Solution:\n",
    "    def deleteOneNode(self, target: TreeNode) -> TreeNode:\n",
    "        \"\"\"\n",
    "        将目标节点（删除节点）的左子树放到目标节点的右子树的最左面节点的左孩子位置上\n",
    "        并返回目标节点右孩子为新的根节点\n",
    "        是动画里模拟的过程\n",
    "        \"\"\"\n",
    "        if target is None:\n",
    "            return target\n",
    "        if target.right is None:\n",
    "            return target.left\n",
    "        cur = target.right\n",
    "        while cur.left:\n",
    "            cur = cur.left\n",
    "        cur.left = target.left\n",
    "        return target.right\n",
    "\n",
    "    def deleteNode(self, root: TreeNode, key: int) -> TreeNode:\n",
    "        if root is None:\n",
    "            return root\n",
    "        cur = root\n",
    "        pre = None  # 记录cur的父节点，用来删除cur\n",
    "        while cur:\n",
    "            if cur.val == key:\n",
    "                break\n",
    "            pre = cur\n",
    "            if cur.val > key:\n",
    "                cur = cur.left\n",
    "            else:\n",
    "                cur = cur.right\n",
    "        if pre is None:  # 如果搜索树只有头结点\n",
    "            return self.deleteOneNode(cur)\n",
    "        # pre 要知道是删左孩子还是右孩子\n",
    "        if pre.left and pre.left.val == key:\n",
    "            pre.left = self.deleteOneNode(cur)\n",
    "        if pre.right and pre.right.val == key:\n",
    "            pre.right = self.deleteOneNode(cur)\n",
    "        return root"
   ]
  }
 ],
 "metadata": {
  "kernelspec": {
   "display_name": "Python 3",
   "language": "python",
   "name": "python3"
  },
  "language_info": {
   "name": "python",
   "version": "3.12.0"
  }
 },
 "nbformat": 4,
 "nbformat_minor": 2
}
