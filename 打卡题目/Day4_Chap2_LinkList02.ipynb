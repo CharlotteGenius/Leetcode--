{
 "cells": [
  {
   "cell_type": "markdown",
   "metadata": {},
   "source": [
    "# 24. Swap Nodes in Pairs\n",
    "* https://leetcode.com/problems/swap-nodes-in-pairs/description/\n",
    "* explain: https://programmercarl.com/0024.%E4%B8%A4%E4%B8%A4%E4%BA%A4%E6%8D%A2%E9%93%BE%E8%A1%A8%E4%B8%AD%E7%9A%84%E8%8A%82%E7%82%B9.html#%E5%85%B6%E4%BB%96%E8%AF%AD%E8%A8%80%E7%89%88%E6%9C%AC\n",
    "\n",
    "Main mistake I made: set curr to the node that needs to be swapped.\n",
    "\n",
    "We need to set the previous node to curr, because its next also need to be changed."
   ]
  },
  {
   "cell_type": "code",
   "execution_count": null,
   "metadata": {},
   "outputs": [],
   "source": [
    "# Definition for singly-linked list.\n",
    "# class ListNode:\n",
    "#     def __init__(self, val=0, next=None):\n",
    "#         self.val = val\n",
    "#         self.next = next\n",
    "class Solution:\n",
    "    def swapPairs(self, head: Optional[ListNode]) -> Optional[ListNode]:\n",
    "        dummy = ListNode(next=head)\n",
    "        curr = dummy\n",
    "        while curr.next and curr.next.next:\n",
    "            tmp1 = curr.next\n",
    "            tmp2 = curr.next.next.next\n",
    "\n",
    "            curr.next = curr.next.next\n",
    "            curr.next.next = tmp1\n",
    "            curr.next.next.next = tmp2\n",
    "\n",
    "            curr = curr.next.next\n",
    "        return dummy.next"
   ]
  },
  {
   "cell_type": "markdown",
   "metadata": {},
   "source": [
    "# 19. Remove Nth Node From End of List\n",
    "* https://leetcode.com/problems/remove-nth-node-from-end-of-list/description/\n",
    "* https://programmercarl.com/0019.%E5%88%A0%E9%99%A4%E9%93%BE%E8%A1%A8%E7%9A%84%E5%80%92%E6%95%B0%E7%AC%ACN%E4%B8%AA%E8%8A%82%E7%82%B9.html\n"
   ]
  },
  {
   "cell_type": "markdown",
   "metadata": {},
   "source": [
    "## 这个应该是之前看lc上solution写的\n",
    "用到collctions.deque，现在已经看不懂了= ="
   ]
  },
  {
   "cell_type": "code",
   "execution_count": null,
   "metadata": {},
   "outputs": [],
   "source": [
    "# Definition for singly-linked list.\n",
    "# class ListNode:\n",
    "#     def __init__(self, val=0, next=None):\n",
    "#         self.val = val\n",
    "#         self.next = next\n",
    "class Solution:\n",
    "    def removeNthFromEnd(self, head: Optional[ListNode], n: int) -> Optional[ListNode]:\n",
    "        # sliding window\n",
    "        from typing import Optional\n",
    "        from collections import deque\n",
    "        \n",
    "        # find the last n+1 nodes\n",
    "        buffer = deque(maxlen=n + 1)\n",
    "        curr = head\n",
    "        while curr:\n",
    "            buffer.append(curr)\n",
    "            curr = curr.next\n",
    "        \n",
    "        # The node preceding the node to delete\n",
    "        preceding_node = buffer[0]\n",
    "        \n",
    "        if len(buffer)==1:\n",
    "            return None\n",
    "        elif len(buffer)==n:\n",
    "            # imply the list has only n nodes, so remove the head\n",
    "            return head.next\n",
    "        else:\n",
    "            preceding_node.next = preceding_node.next.next\n",
    "            return head\n",
    "            "
   ]
  },
  {
   "cell_type": "markdown",
   "metadata": {},
   "source": [
    "## 聪明的快慢指针！\n",
    "* fast首先走n+1步 ，为什么是n+1呢，因为只有这样同时移动的时候slow才能指向删除节点的上一个节点（方便做删除操作）\n",
    "* fast和slow同时移动，直到fast指向末尾\n",
    "* 删除slow指向的下一个节点（因为此时slow和fast之间间隔n）"
   ]
  },
  {
   "cell_type": "code",
   "execution_count": null,
   "metadata": {},
   "outputs": [],
   "source": [
    "# Definition for singly-linked list.\n",
    "# class ListNode:\n",
    "#     def __init__(self, val=0, next=None):\n",
    "#         self.val = val\n",
    "#         self.next = next\n",
    "class Solution:\n",
    "    def removeNthFromEnd(self, head: Optional[ListNode], n: int) -> Optional[ListNode]:\n",
    "        dummy = ListNode(next=head)\n",
    "        slow = dummy\n",
    "        fast = dummy\n",
    "        i = 0\n",
    "        while fast:\n",
    "            fast = fast.next\n",
    "            i += 1\n",
    "            if i > n+1:\n",
    "                slow = slow.next\n",
    "        slow.next = slow.next.next\n",
    "        return dummy.next\n"
   ]
  },
  {
   "cell_type": "markdown",
   "metadata": {},
   "source": [
    "# 160. Intersection of Two Linked Lists\n",
    "* https://leetcode.com/problems/intersection-of-two-linked-lists/description/\n",
    "* https://programmercarl.com/%E9%9D%A2%E8%AF%95%E9%A2%9802.07.%E9%93%BE%E8%A1%A8%E7%9B%B8%E4%BA%A4.html#%E6%80%9D%E8%B7%AF\n"
   ]
  },
  {
   "cell_type": "markdown",
   "metadata": {},
   "source": [
    "## 重点：同步两个pointer\n",
    "怎么同步呢？要知道两个list长度只差"
   ]
  },
  {
   "cell_type": "code",
   "execution_count": null,
   "metadata": {},
   "outputs": [],
   "source": [
    "# Definition for singly-linked list.\n",
    "# class ListNode:\n",
    "#     def __init__(self, x):\n",
    "#         self.val = x\n",
    "#         self.next = None\n",
    "\n",
    "class Solution:\n",
    "    def getIntersectionNode(self, headA: ListNode, headB: ListNode) -> Optional[ListNode]:\n",
    "        lenA, lenB = 0, 0\n",
    "        currA, currB = headA, headB\n",
    "        while currA:\n",
    "            lenA += 1\n",
    "            currA = currA.next\n",
    "        while currB:\n",
    "            lenB += 1\n",
    "            currB = currB.next\n",
    "\n",
    "        curA, curB = headA, headB\n",
    "        if lenA > lenB:     # 让curB为最长链表的头，lenB为其长度\n",
    "            curA, curB = curB, curA\n",
    "            lenA, lenB = lenB, lenA \n",
    "        for _ in range(lenB-lenA): # 让curA和curB在同一起点上（末尾位置对齐）\n",
    "            curB = curB.next\n",
    "        \n",
    "        while curA and curB:\n",
    "            if curA == curB:\n",
    "                return curA\n",
    "            curA = curA.next\n",
    "            curB = curB.next\n",
    "        \n",
    "        return None"
   ]
  },
  {
   "cell_type": "code",
   "execution_count": null,
   "metadata": {},
   "outputs": [],
   "source": [
    "#（版本二）求长度，同时出发 （代码复用）\n",
    "class Solution:\n",
    "    def getIntersectionNode(self, headA: ListNode, headB: ListNode) -> ListNode:\n",
    "        lenA = self.getLength(headA)\n",
    "        lenB = self.getLength(headB)\n",
    "        \n",
    "        # 通过移动较长的链表，使两链表长度相等\n",
    "        if lenA > lenB:\n",
    "            headA = self.moveForward(headA, lenA - lenB)\n",
    "        else:\n",
    "            headB = self.moveForward(headB, lenB - lenA)\n",
    "        \n",
    "        # 将两个头向前移动，直到它们相交\n",
    "        while headA and headB:\n",
    "            if headA == headB:\n",
    "                return headA\n",
    "            headA = headA.next\n",
    "            headB = headB.next\n",
    "        \n",
    "        return None\n",
    "    \n",
    "    def getLength(self, head: ListNode) -> int:\n",
    "        length = 0\n",
    "        while head:\n",
    "            length += 1\n",
    "            head = head.next\n",
    "        return length\n",
    "    \n",
    "    def moveForward(self, head: ListNode, steps: int) -> ListNode:\n",
    "        while steps > 0:\n",
    "            head = head.next\n",
    "            steps -= 1\n",
    "        return head"
   ]
  },
  {
   "cell_type": "code",
   "execution_count": null,
   "metadata": {},
   "outputs": [],
   "source": [
    "#（版本三）求长度，同时出发 （代码复用 + 精简）\n",
    "# 跟版本二一样，只不过写法用了个dis\n",
    "class Solution:\n",
    "    def getIntersectionNode(self, headA: ListNode, headB: ListNode) -> ListNode:\n",
    "        dis = self.getLength(headA) - self.getLength(headB)\n",
    "        \n",
    "        # 通过移动较长的链表，使两链表长度相等\n",
    "        if dis > 0:\n",
    "            headA = self.moveForward(headA, dis)\n",
    "        else:\n",
    "            headB = self.moveForward(headB, abs(dis))\n",
    "        \n",
    "        # 将两个头向前移动，直到它们相交\n",
    "        while headA and headB:\n",
    "            if headA == headB:\n",
    "                return headA\n",
    "            headA = headA.next\n",
    "            headB = headB.next\n",
    "        \n",
    "        return None\n",
    "    \n",
    "    def getLength(self, head: ListNode) -> int:\n",
    "        length = 0\n",
    "        while head:\n",
    "            length += 1\n",
    "            head = head.next\n",
    "        return length\n",
    "    \n",
    "    def moveForward(self, head: ListNode, steps: int) -> ListNode:\n",
    "        while steps > 0:\n",
    "            head = head.next\n",
    "            steps -= 1\n",
    "        return head"
   ]
  },
  {
   "cell_type": "code",
   "execution_count": null,
   "metadata": {},
   "outputs": [],
   "source": [
    "#（版本四）等比例法\n",
    "\n",
    "class Solution:\n",
    "    def getIntersectionNode(self, headA: ListNode, headB: ListNode) -> ListNode:\n",
    "        # 处理边缘情况\n",
    "        if not headA or not headB:\n",
    "            return None\n",
    "        \n",
    "        # 在每个链表的头部初始化两个指针\n",
    "        pointerA = headA\n",
    "        pointerB = headB\n",
    "        \n",
    "        # 遍历两个链表直到指针相交，将链表当做是环来处理，（循环跑的次数应该是长度之差？\n",
    "        while pointerA != pointerB:\n",
    "            # 将指针向前移动一个节点\n",
    "            pointerA = pointerA.next if pointerA else headB\n",
    "            pointerB = pointerB.next if pointerB else headA\n",
    "        \n",
    "        # 如果相交，指针将位于交点节点，如果没有交点，值为None\n",
    "        return pointerA"
   ]
  },
  {
   "cell_type": "markdown",
   "metadata": {},
   "source": [
    "# 142. Linked List Cycle II\n",
    "* https://leetcode.com/problems/linked-list-cycle-ii/description/\n",
    "* https://programmercarl.com/0142.%E7%8E%AF%E5%BD%A2%E9%93%BE%E8%A1%A8II.html 教程讲的好清楚...\n",
    "\n",
    "总之就是一个fast一个slow，速度分别为2和1，因为相对速度是1，所以只要有环，那么一定会相遇。\n",
    "\n",
    "x=起点到环入口的距离; y=环入口到相遇点的距离; z=相遇点到环入口的距离\n",
    "\n",
    "2 * (x+y) = x + y + n*(y + z) 两个指针跑的距离\n",
    "\n",
    "得到：x = (n-1)*(y+z) + z\n",
    "\n",
    "那么我们重新两个pointer，一个起点在起点，一个起点在相遇点，逐步前进，就会在入口相遇。"
   ]
  },
  {
   "cell_type": "code",
   "execution_count": null,
   "metadata": {},
   "outputs": [],
   "source": [
    "class Solution:\n",
    "    def detectCycle(self, head: Optional[ListNode]) -> Optional[ListNode]:\n",
    "        if head == None or head.next == None:\n",
    "            return None\n",
    "        slow, fast = head, head\n",
    "        while fast and fast.next:\n",
    "            slow = slow.next\n",
    "            fast = fast.next.next\n",
    "            if slow == fast:\n",
    "                slow = head\n",
    "                while slow != fast:\n",
    "                    slow = slow.next\n",
    "                    fast = fast.next\n",
    "                return fast\n",
    "            \n",
    "        return None"
   ]
  },
  {
   "cell_type": "code",
   "execution_count": null,
   "metadata": {},
   "outputs": [],
   "source": [
    "#（版本二）集合法\n",
    "\n",
    "class Solution:\n",
    "    def detectCycle(self, head: ListNode) -> ListNode:\n",
    "        visited = set()\n",
    "        \n",
    "        while head:\n",
    "            if head in visited:\n",
    "                return head\n",
    "            visited.add(head)\n",
    "            head = head.next\n",
    "        \n",
    "        return None"
   ]
  }
 ],
 "metadata": {
  "kernelspec": {
   "display_name": "Python 3",
   "language": "python",
   "name": "python3"
  },
  "language_info": {
   "name": "python",
   "version": "3.12.0"
  }
 },
 "nbformat": 4,
 "nbformat_minor": 2
}
