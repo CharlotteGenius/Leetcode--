{
 "cells": [
  {
   "cell_type": "markdown",
   "metadata": {},
   "source": [
    "# 454. 4Sum II\n",
    "* https://leetcode.com/problems/4sum-ii/description/\n",
    "* https://programmercarl.com/0454.%E5%9B%9B%E6%95%B0%E7%9B%B8%E5%8A%A0II.html#%E5%85%B6%E4%BB%96%E8%AF%AD%E8%A8%80%E7%89%88%E6%9C%AC\n",
    "\n",
    "我以为会有比n^2更好的方法...但似乎没有？"
   ]
  },
  {
   "cell_type": "code",
   "execution_count": null,
   "metadata": {},
   "outputs": [],
   "source": [
    "class Solution:\n",
    "    def fourSumCount(self, nums1: List[int], nums2: List[int], nums3: List[int], nums4: List[int]) -> int:\n",
    "        from collections import defaultdict\n",
    "        count = defaultdict(lambda: 0)\n",
    "        for n1 in nums1:\n",
    "            for n2 in nums2:\n",
    "                count[n1+n2] += 1\n",
    "        res = 0\n",
    "        for n3 in nums3:\n",
    "            for n4 in nums4:\n",
    "                if -n3-n4 in count:\n",
    "                    res += count[-n3-n4]\n",
    "        return res"
   ]
  },
  {
   "cell_type": "markdown",
   "metadata": {},
   "source": [
    "# 383. Ransom Note\n",
    "* https://leetcode.com/problems/ransom-note/description/\n",
    "* https://programmercarl.com/0383.%E8%B5%8E%E9%87%91%E4%BF%A1.html"
   ]
  },
  {
   "cell_type": "code",
   "execution_count": null,
   "metadata": {},
   "outputs": [],
   "source": [
    "# 我还是很喜欢用pop掉这个方式\n",
    "# 不过不知道是不是在原list上操作有某种negative impression的感觉\n",
    "class Solution:\n",
    "    def canConstruct(self, ransomNote: str, magazine: str) -> bool:\n",
    "        mag = list(magazine)\n",
    "        for i in ransomNote:\n",
    "            if i in mag:\n",
    "                mag.remove(i)\n",
    "            else:\n",
    "                return False\n",
    "        return True"
   ]
  },
  {
   "cell_type": "code",
   "execution_count": null,
   "metadata": {},
   "outputs": [],
   "source": [
    "# 依然是非常精妙的用26个格子的数组\n",
    "# 跟dict是一个意思，但是由于初始空间设定好了，空间复杂度是O(1)\n",
    "class Solution:\n",
    "    def canConstruct(self, ransomNote: str, magazine: str) -> bool:\n",
    "        ransom_count = [0] * 26\n",
    "        magazine_count = [0] * 26\n",
    "        for c in ransomNote:\n",
    "            ransom_count[ord(c) - ord('a')] += 1\n",
    "        for c in magazine:\n",
    "            magazine_count[ord(c) - ord('a')] += 1\n",
    "        return all(ransom_count[i] <= magazine_count[i] for i in range(26))"
   ]
  },
  {
   "cell_type": "markdown",
   "metadata": {},
   "source": [
    "# 3Sum\n",
    "* https://leetcode.com/problems/3sum/\n",
    "* https://programmercarl.com/0015.%E4%B8%89%E6%95%B0%E4%B9%8B%E5%92%8C.html#%E6%80%9D%E8%B7%AF \n",
    "\n",
    "其实这道题目使用哈希法并不十分合适，因为在去重的操作中有很多细节需要注意，在面试中很难直接写出没有bug的代码。\n",
    "\n",
    "而且使用哈希法 在使用两层for循环的时候，能做的剪枝操作很有限，虽然时间复杂度是O(n^2)，也是可以在leetcode上通过，但是程序的执行时间依然比较长 。\n"
   ]
  },
  {
   "cell_type": "code",
   "execution_count": null,
   "metadata": {},
   "outputs": [],
   "source": [
    "class Solution:\n",
    "    def threeSum(self, nums: List[int]) -> List[List[int]]:\n",
    "        nums.sort()\n",
    "        res = []\n",
    "        for i in range(len(nums)-2):\n",
    "            if nums[i] > 0:\n",
    "                break\n",
    "            # 跳过相同的元素以避免重复\n",
    "            if i > 0 and nums[i] == nums[i - 1]:\n",
    "                continue\n",
    "            l = i+1\n",
    "            r = len(nums)-1\n",
    "            while l < r:\n",
    "                s = nums[i] + nums[l] + nums[r]\n",
    "                if s > 0:\n",
    "                    r -= 1\n",
    "                elif s < 0:\n",
    "                    l += 1\n",
    "                else:\n",
    "                    res.append([nums[i], nums[l], nums[r]])\n",
    "                    while nums[r] == nums[r-1] and l < r:\n",
    "                        r -= 1\n",
    "                    while nums[l] == nums[l+1] and l < r:\n",
    "                        l += 1\n",
    "                    r -= 1\n",
    "                    l += 1\n",
    "        return res"
   ]
  },
  {
   "cell_type": "code",
   "execution_count": null,
   "metadata": {},
   "outputs": [],
   "source": [
    "# 使用字典\n",
    "class Solution:\n",
    "    def threeSum(self, nums: List[int]) -> List[List[int]]:\n",
    "        result = []\n",
    "        nums.sort()\n",
    "        # 找出a + b + c = 0\n",
    "        # a = nums[i], b = nums[j], c = -(a + b)\n",
    "        for i in range(len(nums)):\n",
    "            # 排序之后如果第一个元素已经大于零，那么不可能凑成三元组\n",
    "            if nums[i] > 0:\n",
    "                break\n",
    "            if i > 0 and nums[i] == nums[i - 1]: # 跳过相同的第一项\n",
    "                continue\n",
    "            d = {}\n",
    "            for j in range(i + 1, len(nums)):\n",
    "                if j > i + 2 and nums[j] == nums[j-1] == nums[j-2]: # 三元组元素b去重\n",
    "                    continue\n",
    "                c = 0 - (nums[i] + nums[j])\n",
    "                if c in d:\n",
    "                    result.append([nums[i], nums[j], c])\n",
    "                    d.pop(c) # 三元组元素c去重\n",
    "                else:\n",
    "                    d[nums[j]] = j\n",
    "        return result"
   ]
  },
  {
   "cell_type": "markdown",
   "metadata": {},
   "source": [
    "# 18. 4Sum\n",
    "* https://leetcode.com/problems/4sum/description/\n",
    "* https://programmercarl.com/0018.%E5%9B%9B%E6%95%B0%E4%B9%8B%E5%92%8C.html\n"
   ]
  },
  {
   "cell_type": "markdown",
   "metadata": {},
   "source": [
    "15.三数之和 (opens new window)的双指针解法是一层for循环num[i]为确定值，然后循环内有left和right下标作为双指针，找到nums[i] + nums[left] + nums[right] == 0。\n",
    "\n",
    "四数之和的双指针解法是两层for循环nums[k] + nums[i]为确定值，依然是循环内有left和right下标作为双指针，找出nums[k] + nums[i] + nums[left] + nums[right] == target的情况，三数之和的时间复杂度是O(n^2)，四数之和的时间复杂度是O(n^3) 。\n",
    "\n",
    "那么一样的道理，五数之和、六数之和等等都采用这种解法。\n",
    "\n",
    "对于15.三数之和 (opens new window)双指针法就是将原本暴力O(n^3)的解法，降为O(n^2)的解法，四数之和的双指针解法就是将原本暴力O(n^4)的解法，降为O(n^3)的解法。\n",
    "\n",
    "之前我们讲过哈希表的经典题目：454.四数相加II (opens new window)，相对于本题简单很多，因为本题是要求在一个集合中找出四个数相加等于target，同时四元组不能重复。\n",
    "\n",
    "而454.四数相加II (opens new window)是四个独立的数组，只要找到A[i] + B[j] + C[k] + D[l] = 0就可以，不用考虑有重复的四个元素相加等于0的情况，所以相对于本题还是简单了不少！"
   ]
  },
  {
   "cell_type": "code",
   "execution_count": null,
   "metadata": {},
   "outputs": [],
   "source": [
    "class Solution:\n",
    "    def fourSum(self, nums: List[int], target: int) -> List[List[int]]:\n",
    "        nums.sort()\n",
    "        n = len(nums)\n",
    "        result = []\n",
    "        for i in range(n):\n",
    "            if nums[i] > target and nums[i] > 0 and target > 0:# 剪枝（可省）\n",
    "                break\n",
    "            if i > 0 and nums[i] == nums[i-1]:# 去重\n",
    "                continue\n",
    "            for j in range(i+1, n):\n",
    "                if nums[i] + nums[j] > target and target > 0: #剪枝（可省）\n",
    "                    break\n",
    "                if j > i+1 and nums[j] == nums[j-1]: # 去重\n",
    "                    continue\n",
    "                left, right = j+1, n-1\n",
    "                while left < right:\n",
    "                    s = nums[i] + nums[j] + nums[left] + nums[right]\n",
    "                    if s == target:\n",
    "                        result.append([nums[i], nums[j], nums[left], nums[right]])\n",
    "                        while left < right and nums[left] == nums[left+1]:\n",
    "                            left += 1\n",
    "                        while left < right and nums[right] == nums[right-1]:\n",
    "                            right -= 1\n",
    "                        left += 1\n",
    "                        right -= 1\n",
    "                    elif s < target:\n",
    "                        left += 1\n",
    "                    else:\n",
    "                        right -= 1\n",
    "        return result"
   ]
  },
  {
   "cell_type": "code",
   "execution_count": null,
   "metadata": {},
   "outputs": [],
   "source": [
    "class Solution(object):\n",
    "    def fourSum(self, nums, target):\n",
    "        \"\"\"\n",
    "        :type nums: List[int]\n",
    "        :type target: int\n",
    "        :rtype: List[List[int]]\n",
    "        \"\"\"\n",
    "        # 创建一个字典来存储输入列表中每个数字的频率\n",
    "        freq = {}\n",
    "        for num in nums:\n",
    "            freq[num] = freq.get(num, 0) + 1\n",
    "        \n",
    "        # 创建一个集合来存储最终答案，并遍历4个数字的所有唯一组合\n",
    "        ans = set()\n",
    "        for i in range(len(nums)):\n",
    "            for j in range(i + 1, len(nums)):\n",
    "                for k in range(j + 1, len(nums)):\n",
    "                    val = target - (nums[i] + nums[j] + nums[k])\n",
    "                    if val in freq:\n",
    "                        # 确保没有重复\n",
    "                        count = (nums[i] == val) + (nums[j] == val) + (nums[k] == val)\n",
    "                        if freq[val] > count:\n",
    "                            ans.add(tuple(sorted([nums[i], nums[j], nums[k], val])))\n",
    "        \n",
    "        return [list(x) for x in ans]\n"
   ]
  },
  {
   "cell_type": "code",
   "execution_count": 5,
   "metadata": {},
   "outputs": [
    {
     "data": {
      "text/plain": [
       "[(1, 2, 3)]"
      ]
     },
     "execution_count": 5,
     "metadata": {},
     "output_type": "execute_result"
    }
   ],
   "source": [
    "a = set()\n",
    "a.add((1,2,3))\n",
    "list(a)"
   ]
  },
  {
   "cell_type": "code",
   "execution_count": null,
   "metadata": {},
   "outputs": [],
   "source": [
    "# 解答提供了很多去重的方法，但是lc上似乎是接受像以上这种结果的，不一定需要list of list\n",
    "class Solution:\n",
    "    def fourSum(self, nums: List[int], target: int) -> List[List[int]]:\n",
    "        result = set()\n",
    "        nums.sort()\n",
    "        for i in range(len(nums)):\n",
    "            for j in range(i+1,len(nums)):\n",
    "                k , l= j+1 , len(nums)-1\n",
    "                while k < l:\n",
    "                    if(nums[i]+nums[j]+nums[k]+nums[l] == target):\n",
    "                        result.add((nums[i],nums[j],nums[k],nums[l]))\n",
    "                    if(nums[i]+nums[j]+nums[k]+nums[l] > target):\n",
    "                        l-=1 \n",
    "                    else:\n",
    "                        k+=1 \n",
    "\n",
    "        return list(result)"
   ]
  }
 ],
 "metadata": {
  "kernelspec": {
   "display_name": "Python 3",
   "language": "python",
   "name": "python3"
  },
  "language_info": {
   "codemirror_mode": {
    "name": "ipython",
    "version": 3
   },
   "file_extension": ".py",
   "mimetype": "text/x-python",
   "name": "python",
   "nbconvert_exporter": "python",
   "pygments_lexer": "ipython3",
   "version": "3.12.0"
  }
 },
 "nbformat": 4,
 "nbformat_minor": 2
}
