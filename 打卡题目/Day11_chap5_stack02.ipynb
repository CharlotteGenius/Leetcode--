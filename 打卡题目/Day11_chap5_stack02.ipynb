{
 "cells": [
  {
   "cell_type": "markdown",
   "metadata": {},
   "source": [
    "# 20. Valid Parentheses\n",
    "* https://leetcode.com/problems/valid-parentheses/\n",
    "* https://programmercarl.com/0020.%E6%9C%89%E6%95%88%E7%9A%84%E6%8B%AC%E5%8F%B7.html#%E5%85%B6%E4%BB%96%E8%AF%AD%E8%A8%80%E7%89%88%E6%9C%AC"
   ]
  },
  {
   "cell_type": "code",
   "execution_count": null,
   "metadata": {},
   "outputs": [],
   "source": [
    "# 自己写的，不知道是不是有点繁琐了...\n",
    "class Solution:\n",
    "    def isValid(self, s: str) -> bool:\n",
    "        stack = []\n",
    "        for i in s:\n",
    "            if i == '(' or i == '{' or  i == '[':\n",
    "                stack.append(i)\n",
    "            elif i == ')':\n",
    "                if len(stack)==0 or stack.pop(-1) != '(':\n",
    "                    return False\n",
    "            elif i == '}':\n",
    "                if len(stack)==0 or stack.pop(-1) != '{':\n",
    "                    return False\n",
    "            elif i == ']':\n",
    "                if len(stack)==0 or stack.pop(-1) != '[':\n",
    "                    return False\n",
    "        if len(stack)==0:\n",
    "            return True\n",
    "        else:\n",
    "            return False"
   ]
  },
  {
   "cell_type": "code",
   "execution_count": null,
   "metadata": {},
   "outputs": [],
   "source": [
    "# 方法一，仅使用栈，更省空间\n",
    "class Solution:\n",
    "    def isValid(self, s: str) -> bool:\n",
    "        stack = []\n",
    "        \n",
    "        for item in s:\n",
    "            if item == '(':\n",
    "                stack.append(')')\n",
    "            elif item == '[':\n",
    "                stack.append(']')\n",
    "            elif item == '{':\n",
    "                stack.append('}')\n",
    "            elif not stack or stack[-1] != item:\n",
    "                return False\n",
    "            else:\n",
    "                stack.pop()\n",
    "        \n",
    "        return True if not stack else False"
   ]
  },
  {
   "cell_type": "code",
   "execution_count": null,
   "metadata": {},
   "outputs": [],
   "source": [
    "# 方法二，使用字典\n",
    "# 字典还挺妙的， 就不用有那么多if了\n",
    "class Solution:\n",
    "    def isValid(self, s: str) -> bool:\n",
    "        stack = []\n",
    "        mapping = {\n",
    "            '(': ')',\n",
    "            '[': ']',\n",
    "            '{': '}'\n",
    "        }\n",
    "        for item in s:\n",
    "            if item in mapping.keys():\n",
    "                stack.append(mapping[item])\n",
    "            elif not stack or stack[-1] != item: \n",
    "                return False\n",
    "            else: \n",
    "                stack.pop()\n",
    "        return True if not stack else False"
   ]
  },
  {
   "cell_type": "markdown",
   "metadata": {},
   "source": [
    "# 1047. Remove All Adjacent Duplicates In String\n",
    "* https://leetcode.com/problems/remove-all-adjacent-duplicates-in-string/description/\n",
    "* https://leetcode.com/problems/remove-all-adjacent-duplicates-in-string/description/"
   ]
  },
  {
   "cell_type": "code",
   "execution_count": null,
   "metadata": {},
   "outputs": [],
   "source": [
    "# 自己写的~\n",
    "class Solution:\n",
    "    def removeDuplicates(self, s: str) -> str:\n",
    "        stack = []\n",
    "        for i in s:\n",
    "            if len(stack)>0 and i == stack[-1]:\n",
    "                stack.pop(-1)\n",
    "            else:\n",
    "                stack.append(i)\n",
    "        res = ''\n",
    "        for i in stack:\n",
    "            res += i\n",
    "        return res"
   ]
  },
  {
   "cell_type": "code",
   "execution_count": null,
   "metadata": {},
   "outputs": [],
   "source": [
    "# 方法一，使用栈\n",
    "# 跟我写的一样，只是好像更简洁？\n",
    "class Solution:\n",
    "    def removeDuplicates(self, s: str) -> str:\n",
    "        res = list()\n",
    "        for item in s:\n",
    "            if res and res[-1] == item:\n",
    "                res.pop()\n",
    "            else:\n",
    "                res.append(item)\n",
    "        return \"\".join(res)  # 字符串拼接"
   ]
  },
  {
   "cell_type": "code",
   "execution_count": null,
   "metadata": {},
   "outputs": [],
   "source": [
    "# 方法二，使用双指针模拟栈，如果不让用栈可以作为备选方法。\n",
    "class Solution:\n",
    "    def removeDuplicates(self, s: str) -> str:\n",
    "        res = list(s)\n",
    "        slow = fast = 0\n",
    "        length = len(res)\n",
    "\n",
    "        while fast < length:\n",
    "            # 如果一样直接换，不一样会把后面的填在slow的位置\n",
    "            res[slow] = res[fast]\n",
    "            \n",
    "            # 如果发现和前一个一样，就退一格指针\n",
    "            if slow > 0 and res[slow] == res[slow - 1]:\n",
    "                slow -= 1\n",
    "            else:\n",
    "                slow += 1\n",
    "            fast += 1\n",
    "            \n",
    "        return ''.join(res[0: slow])"
   ]
  }
 ],
 "metadata": {
  "kernelspec": {
   "display_name": "Python 3",
   "language": "python",
   "name": "python3"
  },
  "language_info": {
   "name": "python",
   "version": "3.12.0"
  }
 },
 "nbformat": 4,
 "nbformat_minor": 2
}
