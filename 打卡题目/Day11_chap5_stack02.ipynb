{
 "cells": [
  {
   "cell_type": "markdown",
   "metadata": {},
   "source": [
    "# 20. Valid Parentheses\n",
    "* https://leetcode.com/problems/valid-parentheses/\n",
    "* https://programmercarl.com/0020.%E6%9C%89%E6%95%88%E7%9A%84%E6%8B%AC%E5%8F%B7.html#%E5%85%B6%E4%BB%96%E8%AF%AD%E8%A8%80%E7%89%88%E6%9C%AC"
   ]
  },
  {
   "cell_type": "code",
   "execution_count": null,
   "metadata": {},
   "outputs": [],
   "source": [
    "# 自己写的，不知道是不是有点繁琐了...\n",
    "class Solution:\n",
    "    def isValid(self, s: str) -> bool:\n",
    "        stack = []\n",
    "        for i in s:\n",
    "            if i == '(' or i == '{' or  i == '[':\n",
    "                stack.append(i)\n",
    "            elif i == ')':\n",
    "                if len(stack)==0 or stack.pop(-1) != '(':\n",
    "                    return False\n",
    "            elif i == '}':\n",
    "                if len(stack)==0 or stack.pop(-1) != '{':\n",
    "                    return False\n",
    "            elif i == ']':\n",
    "                if len(stack)==0 or stack.pop(-1) != '[':\n",
    "                    return False\n",
    "        if len(stack)==0:\n",
    "            return True\n",
    "        else:\n",
    "            return False"
   ]
  },
  {
   "cell_type": "code",
   "execution_count": null,
   "metadata": {},
   "outputs": [],
   "source": [
    "# 方法一，仅使用栈，更省空间\n",
    "class Solution:\n",
    "    def isValid(self, s: str) -> bool:\n",
    "        stack = []\n",
    "        \n",
    "        for item in s:\n",
    "            if item == '(':\n",
    "                stack.append(')')\n",
    "            elif item == '[':\n",
    "                stack.append(']')\n",
    "            elif item == '{':\n",
    "                stack.append('}')\n",
    "            elif not stack or stack[-1] != item:\n",
    "                return False\n",
    "            else:\n",
    "                stack.pop()\n",
    "        \n",
    "        return True if not stack else False"
   ]
  },
  {
   "cell_type": "code",
   "execution_count": null,
   "metadata": {},
   "outputs": [],
   "source": [
    "# 方法二，使用字典\n",
    "# 字典还挺妙的， 就不用有那么多if了\n",
    "class Solution:\n",
    "    def isValid(self, s: str) -> bool:\n",
    "        stack = []\n",
    "        mapping = {\n",
    "            '(': ')',\n",
    "            '[': ']',\n",
    "            '{': '}'\n",
    "        }\n",
    "        for item in s:\n",
    "            if item in mapping.keys():\n",
    "                stack.append(mapping[item])\n",
    "            elif not stack or stack[-1] != item: \n",
    "                return False\n",
    "            else: \n",
    "                stack.pop()\n",
    "        return True if not stack else False"
   ]
  },
  {
   "cell_type": "markdown",
   "metadata": {},
   "source": [
    "# 1047. Remove All Adjacent Duplicates In String\n",
    "* https://leetcode.com/problems/remove-all-adjacent-duplicates-in-string/description/\n",
    "* https://leetcode.com/problems/remove-all-adjacent-duplicates-in-string/description/"
   ]
  },
  {
   "cell_type": "code",
   "execution_count": null,
   "metadata": {},
   "outputs": [],
   "source": [
    "# 自己写的~\n",
    "class Solution:\n",
    "    def removeDuplicates(self, s: str) -> str:\n",
    "        stack = []\n",
    "        for i in s:\n",
    "            if len(stack)>0 and i == stack[-1]:\n",
    "                stack.pop(-1)\n",
    "            else:\n",
    "                stack.append(i)\n",
    "        res = ''\n",
    "        for i in stack:\n",
    "            res += i\n",
    "        return res"
   ]
  },
  {
   "cell_type": "code",
   "execution_count": null,
   "metadata": {},
   "outputs": [],
   "source": [
    "# 方法一，使用栈\n",
    "# 跟我写的一样，只是好像更简洁？\n",
    "class Solution:\n",
    "    def removeDuplicates(self, s: str) -> str:\n",
    "        res = list()\n",
    "        for item in s:\n",
    "            if res and res[-1] == item:\n",
    "                res.pop()\n",
    "            else:\n",
    "                res.append(item)\n",
    "        return \"\".join(res)  # 字符串拼接"
   ]
  },
  {
   "cell_type": "code",
   "execution_count": null,
   "metadata": {},
   "outputs": [],
   "source": [
    "# 方法二，使用双指针模拟栈，如果不让用栈可以作为备选方法。\n",
    "class Solution:\n",
    "    def removeDuplicates(self, s: str) -> str:\n",
    "        res = list(s)\n",
    "        slow = fast = 0\n",
    "        length = len(res)\n",
    "\n",
    "        while fast < length:\n",
    "            # 如果一样直接换，不一样会把后面的填在slow的位置\n",
    "            res[slow] = res[fast]\n",
    "            \n",
    "            # 如果发现和前一个一样，就退一格指针\n",
    "            if slow > 0 and res[slow] == res[slow - 1]:\n",
    "                slow -= 1\n",
    "            else:\n",
    "                slow += 1\n",
    "            fast += 1\n",
    "            \n",
    "        return ''.join(res[0: slow])"
   ]
  },
  {
   "cell_type": "markdown",
   "metadata": {},
   "source": [
    "# 150. Evaluate Reverse Polish Notation\n",
    "* https://leetcode.com/problems/evaluate-reverse-polish-notation/description/\n",
    "* https://programmercarl.com/0150.%E9%80%86%E6%B3%A2%E5%85%B0%E8%A1%A8%E8%BE%BE%E5%BC%8F%E6%B1%82%E5%80%BC.html"
   ]
  },
  {
   "cell_type": "code",
   "execution_count": 3,
   "metadata": {},
   "outputs": [
    {
     "data": {
      "text/plain": [
       "-11"
      ]
     },
     "execution_count": 3,
     "metadata": {},
     "output_type": "execute_result"
    }
   ],
   "source": [
    "int(\"-11\")"
   ]
  },
  {
   "cell_type": "code",
   "execution_count": 2,
   "metadata": {},
   "outputs": [
    {
     "data": {
      "text/plain": [
       "False"
      ]
     },
     "execution_count": 2,
     "metadata": {},
     "output_type": "execute_result"
    }
   ],
   "source": [
    "\"-11\".isdigit()"
   ]
  },
  {
   "cell_type": "code",
   "execution_count": null,
   "metadata": {},
   "outputs": [],
   "source": [
    "# 又是自己做出来的一题~！\n",
    "class Solution:\n",
    "    def evalRPN(self, tokens: List[str]) -> int:\n",
    "        stack = []\n",
    "        op = ['+', '-', '*', '/']\n",
    "        res = int(tokens[0])\n",
    "        for ind, i in enumerate(tokens):\n",
    "            if i not in op:\n",
    "                stack.append(int(i))\n",
    "            elif i in op:\n",
    "                if i == '+':\n",
    "                    res = stack.pop(-1) + stack.pop(-1)\n",
    "                    stack.append(res)\n",
    "                elif i == '-':\n",
    "                    res = - stack.pop(-1) + stack.pop(-1)\n",
    "                    stack.append(res)\n",
    "                elif i == '*':\n",
    "                    res = stack.pop(-1) * stack.pop(-1)\n",
    "                    stack.append(res)\n",
    "                elif i == '/':\n",
    "                    res = int(1/stack.pop(-1) * stack.pop(-1))\n",
    "                    stack.append(res)\n",
    "        return stack[0]\n"
   ]
  },
  {
   "cell_type": "code",
   "execution_count": null,
   "metadata": {},
   "outputs": [],
   "source": [
    "from operator import add, sub, mul\n",
    "\n",
    "class Solution:\n",
    "    op_map = {'+': add, '-': sub, '*': mul, '/': lambda x, y: int(x / y)}\n",
    "    \n",
    "    def evalRPN(self, tokens: List[str]) -> int:\n",
    "        stack = []\n",
    "        for token in tokens:\n",
    "            if token not in {'+', '-', '*', '/'}:\n",
    "                stack.append(int(token))\n",
    "            else:\n",
    "                op2 = stack.pop()\n",
    "                op1 = stack.pop()\n",
    "                stack.append(self.op_map[token](op1, op2))  # 第一个出来的在运算符后面\n",
    "        return stack.pop()"
   ]
  },
  {
   "cell_type": "code",
   "execution_count": null,
   "metadata": {},
   "outputs": [],
   "source": [
    "# 另一种可行，但因为使用eval相对较慢的方法:\n",
    "\n",
    "class Solution:\n",
    "    def evalRPN(self, tokens: List[str]) -> int:\n",
    "        stack = []\n",
    "        for item in tokens:\n",
    "            if item not in {\"+\", \"-\", \"*\", \"/\"}:\n",
    "                stack.append(item)\n",
    "            else:\n",
    "                first_num, second_num = stack.pop(), stack.pop()\n",
    "                stack.append(\n",
    "                    int(eval(f'{second_num} {item} {first_num}'))   # 第一个出来的在运算符后面\n",
    "                )\n",
    "        return int(stack.pop()) # 如果一开始只有一个数，那么会是字符串形式的\n"
   ]
  }
 ],
 "metadata": {
  "kernelspec": {
   "display_name": "Python 3",
   "language": "python",
   "name": "python3"
  },
  "language_info": {
   "codemirror_mode": {
    "name": "ipython",
    "version": 3
   },
   "file_extension": ".py",
   "mimetype": "text/x-python",
   "name": "python",
   "nbconvert_exporter": "python",
   "pygments_lexer": "ipython3",
   "version": "3.1.undefined"
  }
 },
 "nbformat": 4,
 "nbformat_minor": 2
}
