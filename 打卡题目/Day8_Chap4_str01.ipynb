{
 "cells": [
  {
   "cell_type": "markdown",
   "metadata": {},
   "source": [
    "# 344. Reverse String\n",
    "* https://leetcode.com/problems/reverse-string/\n",
    "* https://programmercarl.com/0344.%E5%8F%8D%E8%BD%AC%E5%AD%97%E7%AC%A6%E4%B8%B2.html"
   ]
  },
  {
   "cell_type": "code",
   "execution_count": null,
   "metadata": {},
   "outputs": [],
   "source": [
    "# 本来只是想试试...没想真的能过lc\n",
    "class Solution:\n",
    "    def reverseString(self, s: List[str]) -> None:\n",
    "        \"\"\"\n",
    "        Do not return anything, modify s in-place instead.\n",
    "        \"\"\"\n",
    "        s.reverse()\n",
    "        # s = s[::-1] 也可以\n",
    "        # s[:] = [s[i] for i in range(len(s) - 1, -1, -1)] 列表推导"
   ]
  },
  {
   "cell_type": "code",
   "execution_count": null,
   "metadata": {},
   "outputs": [],
   "source": [
    "# 双指针 不断交换头尾即可\n",
    "class Solution:\n",
    "    def reverseString(self, s: List[str]) -> None:\n",
    "        \"\"\"\n",
    "        Do not return anything, modify s in-place instead.\n",
    "        \"\"\"\n",
    "        r = len(s)-1\n",
    "        for l in range(len(s)//2):\n",
    "            s[l], s[r] = s[r], s[l]\n",
    "            r -= 1"
   ]
  },
  {
   "cell_type": "code",
   "execution_count": null,
   "metadata": {},
   "outputs": [],
   "source": [
    "class Solution:\n",
    "    def reverseString(self, s: List[str]) -> None:\n",
    "        \"\"\"\n",
    "        Do not return anything, modify s in-place instead.\n",
    "        \"\"\"\n",
    "        stack = []\n",
    "        for char in s:\n",
    "            stack.append(char)\n",
    "        for i in range(len(s)):\n",
    "            s[i] = stack.pop()"
   ]
  },
  {
   "cell_type": "markdown",
   "metadata": {},
   "source": [
    "# 541. Reverse String II\n",
    "* https://leetcode.com/problems/reverse-string-ii/description/\n",
    "* https://programmercarl.com/0541.%E5%8F%8D%E8%BD%AC%E5%AD%97%E7%AC%A6%E4%B8%B2II.html\n"
   ]
  },
  {
   "cell_type": "code",
   "execution_count": null,
   "metadata": {},
   "outputs": [],
   "source": [
    "# 自己最初的写法，想的满多的，应该可以直接用reverse或者[::-1]之类的\n",
    "class Solution:\n",
    "    def reverseStr(self, s: str, k: int) -> str:\n",
    "        if k == 0:\n",
    "            return s\n",
    "        s = list(s)\n",
    "        i = 0\n",
    "        while i*k < len(s):\n",
    "            p1 = k*i\n",
    "            p2 = k*(i+1)-1\n",
    "            if p2 >= len(s):\n",
    "                p2 = len(s)-1\n",
    "            while p1 < p2:\n",
    "                s[p1], s[p2] = s[p2], s[p1]\n",
    "                p1 += 1\n",
    "                p2 -= 1\n",
    "            i += 2\n",
    "        res = \"\"\n",
    "        for t in s:\n",
    "            res += t\n",
    "        return res"
   ]
  },
  {
   "cell_type": "code",
   "execution_count": null,
   "metadata": {},
   "outputs": [],
   "source": [
    "class Solution:\n",
    "    def reverseStr(self, s: str, k: int) -> str:\n",
    "        # Two pointers. Another is inside the loop.\n",
    "        p = 0\n",
    "        while p < len(s):\n",
    "            p2 = p + k\n",
    "            # Written in this could be more pythonic.\n",
    "            s = s[:p] + s[p: p2][::-1] + s[p2:]\n",
    "            p = p + 2 * k\n",
    "        return s"
   ]
  },
  {
   "cell_type": "markdown",
   "metadata": {},
   "source": [
    "# 卡码网54：替换数字\n",
    "* https://kamacoder.com/problempage.php?pid=1064\n",
    "* https://programmercarl.com/kama54.%E6%9B%BF%E6%8D%A2%E6%95%B0%E5%AD%97.html#%E6%80%9D%E8%B7%AF\n"
   ]
  },
  {
   "cell_type": "code",
   "execution_count": null,
   "metadata": {},
   "outputs": [],
   "source": [
    "# 别的语言还挺复杂的，为了节省O(n)的这个空间，但是python就这样吧\n",
    "class Solution:\n",
    "    def change(self, s):\n",
    "        lst = list(s) # Python里面的string也是不可改的，所以也是需要额外空间的。空间复杂度：O(n)。\n",
    "        for i in range(len(lst)):\n",
    "            if lst[i].isdigit():\n",
    "                lst[i] = \"number\"\n",
    "        return ''.join(lst)"
   ]
  },
  {
   "cell_type": "markdown",
   "metadata": {},
   "source": [
    "# 151. Reverse Words in a String\n",
    "* https://leetcode.com/problems/reverse-words-in-a-string/description/\n",
    "* https://programmercarl.com/0151.%E7%BF%BB%E8%BD%AC%E5%AD%97%E7%AC%A6%E4%B8%B2%E9%87%8C%E7%9A%84%E5%8D%95%E8%AF%8D.html#%E7%AE%97%E6%B3%95%E5%85%AC%E5%BC%80%E8%AF%BE"
   ]
  },
  {
   "cell_type": "markdown",
   "metadata": {},
   "source": [
    "一些同学会使用split库函数，分隔单词，然后定义一个新的string字符串，最后再把单词倒序相加，那么这道题题目就是一道水题了，失去了它的意义。\n",
    "\n",
    "所以：不要使用辅助空间，空间复杂度要求为O(1)。\n",
    "\n",
    "不能使用辅助空间之后，那么只能在原字符串上下功夫了。\n",
    "\n",
    "如果将整个字符串都反转过来，那么单词的顺序指定是倒序了，只不过单词本身也倒序了，那么再把单词反转一下，单词不就正过来了。\n",
    "\n",
    "所以解题思路如下：\n",
    "\n",
    "移除多余空格\n",
    "将整个字符串反转\n",
    "将每个单词反转\n",
    "举个例子，源字符串为：\"the sky is blue \"\n",
    "\n",
    "移除多余空格 : \"the sky is blue\"\n",
    "字符串反转：\"eulb si yks eht\"\n",
    "单词反转：\"blue is sky the\"\n",
    "这样我们就完成了翻转字符串里的单词。"
   ]
  },
  {
   "cell_type": "code",
   "execution_count": null,
   "metadata": {},
   "outputs": [],
   "source": [
    "class Solution:\n",
    "    def reverseWords(self, s: str) -> str:\n",
    "        l = s.split()\n",
    "        l.reverse()\n",
    "        res = \"\"\n",
    "        for i in l:\n",
    "            res += i + \" \"\n",
    "        return res[:-1]"
   ]
  },
  {
   "cell_type": "code",
   "execution_count": null,
   "metadata": {},
   "outputs": [],
   "source": [
    "class Solution:\n",
    "    def reverseWords(self, s: str) -> str:\n",
    "        # 删除前后空白\n",
    "        s = s.strip()\n",
    "        # 反转整个字符串\n",
    "        s = s[::-1]\n",
    "        # 将字符串拆分为单词，并反转每个单词\n",
    "        s = ' '.join(word[::-1] for word in s.split())\n",
    "        return s"
   ]
  },
  {
   "cell_type": "code",
   "execution_count": null,
   "metadata": {},
   "outputs": [],
   "source": [
    "# 使用双指针（我感觉双指针跟reverse（）区别不大啊...）\n",
    "class Solution:\n",
    "    def reverseWords(self, s: str) -> str:\n",
    "        # 将字符串拆分为单词，即转换成列表类型\n",
    "        words = s.split()\n",
    "\n",
    "        # 反转单词\n",
    "        left, right = 0, len(words) - 1\n",
    "        while left < right:\n",
    "            words[left], words[right] = words[right], words[left]\n",
    "            left += 1\n",
    "            right -= 1\n",
    "\n",
    "        # 将列表转换成字符串\n",
    "        return \" \".join(words)"
   ]
  },
  {
   "cell_type": "markdown",
   "metadata": {},
   "source": [
    "# 卡码网 55. 右旋字符串\n",
    "为了让本题更有意义，提升一下本题难度：不能申请额外空间，只能在本串上操作\n",
    "* https://kamacoder.com/problempage.php?pid=1065\n",
    "* https://programmercarl.com/kama55.%E5%8F%B3%E6%97%8B%E5%AD%97%E7%AC%A6%E4%B8%B2.html"
   ]
  },
  {
   "cell_type": "markdown",
   "metadata": {},
   "source": [
    "\n",
    "字符串的右旋转操作是把字符串尾部的若干个字符转移到字符串的前面。给定一个字符串 s 和一个正整数 k，请编写一个函数，将字符串中的后面 k 个字符移到字符串的前面，实现字符串的右旋转操作。 \n",
    "\n",
    "例如，对于输入字符串 \"abcdefg\" 和整数 2，函数应该将其转换为 \"fgabcde\"。\n",
    "\n",
    "\n",
    "输入共包含两行，第一行为一个正整数 k，代表右旋转的位数。第二行为字符串 s，代表需要旋转的字符串。\n",
    "\n",
    "输出共一行，为进行了右旋转操作后的字符串。"
   ]
  },
  {
   "cell_type": "markdown",
   "metadata": {},
   "source": [
    "* 其实，思路就是 通过 整体倒叙，把两段子串顺序颠倒，两个段子串里的的字符在倒叙一把，负负得正，这样就不影响子串里面字符的顺序了。\n",
    "\n",
    "只不过...python就不能用这些小技巧了..."
   ]
  },
  {
   "cell_type": "code",
   "execution_count": null,
   "metadata": {},
   "outputs": [],
   "source": [
    "#通过切片反转第一段和第二段字符串\n",
    "#注意：python中字符串是不可变的，所以也需要额外空间\n",
    "s = s[len(s)-k:] + s[:len(s)-k]"
   ]
  }
 ],
 "metadata": {
  "kernelspec": {
   "display_name": "Python 3",
   "language": "python",
   "name": "python3"
  },
  "language_info": {
   "name": "python",
   "version": "3.12.0"
  }
 },
 "nbformat": 4,
 "nbformat_minor": 2
}
