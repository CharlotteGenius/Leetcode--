{
 "cells": [
  {
   "cell_type": "markdown",
   "metadata": {},
   "source": [
    "# 654. Maximum Binary Tree\n",
    "* https://leetcode.com/problems/maximum-binary-tree/description/\n",
    "* https://programmercarl.com/0654.%E6%9C%80%E5%A4%A7%E4%BA%8C%E5%8F%89%E6%A0%91.html\n",
    "\n",
    "二叉树的根是数组中的最大元素。\n",
    "\n",
    "左子树是通过数组中最大值左边部分构造出的最大二叉树。\n",
    "\n",
    "右子树是通过数组中最大值右边部分构造出的最大二叉树。\n",
    "\n",
    "通过给定的数组构建最大二叉树，并且输出这个树的根节点。"
   ]
  },
  {
   "cell_type": "code",
   "execution_count": null,
   "metadata": {},
   "outputs": [],
   "source": [
    "# 妈妈我又独立做出一题了呜呜呜\n",
    "class Solution:\n",
    "    def constructMaximumBinaryTree(self, nums: List[int]) -> Optional[TreeNode]:\n",
    "        if nums == []:\n",
    "            return None\n",
    "        largest = max(nums)\n",
    "        \n",
    "        large_idx = nums.index(largest)\n",
    "        nums_left = nums[:large_idx]\n",
    "        nums_right = nums[large_idx+1:]\n",
    "        left = self.constructMaximumBinaryTree(nums_left)\n",
    "        right = self.constructMaximumBinaryTree(nums_right)\n",
    "\n",
    "        root = TreeNode(largest, left=left, right=right)\n",
    "        return root"
   ]
  },
  {
   "cell_type": "markdown",
   "metadata": {},
   "source": [
    "# 617. Merge Two Binary Trees\n",
    "* https://leetcode.com/problems/merge-two-binary-trees/description/\n",
    "* https://programmercarl.com/0617.%E5%90%88%E5%B9%B6%E4%BA%8C%E5%8F%89%E6%A0%91.html#%E5%85%B6%E4%BB%96%E8%AF%AD%E8%A8%80%E7%89%88%E6%9C%AC"
   ]
  },
  {
   "cell_type": "code",
   "execution_count": null,
   "metadata": {},
   "outputs": [],
   "source": [
    "class Solution:\n",
    "    def mergeTrees(self, root1: Optional[TreeNode], root2: Optional[TreeNode]) -> Optional[TreeNode]:\n",
    "        if not root1:\n",
    "            return root2\n",
    "        if not root2:\n",
    "            return root1\n",
    "\n",
    "        root = TreeNode(val=root1.val+root2.val)\n",
    "        root.left = self.mergeTrees(root1.left, root2.left)\n",
    "        root.right = self.mergeTrees(root1.right, root2.right)\n",
    "        return root"
   ]
  },
  {
   "cell_type": "markdown",
   "metadata": {},
   "source": [
    "# 700. Search in a Binary Search Tree\n",
    "* https://leetcode.com/problems/search-in-a-binary-search-tree/description/\n",
    "* https://programmercarl.com/0700.%E4%BA%8C%E5%8F%89%E6%90%9C%E7%B4%A2%E6%A0%91%E4%B8%AD%E7%9A%84%E6%90%9C%E7%B4%A2.html\n",
    "\n",
    "答案更简洁...因为左边小右边大，不过这里就不加上了，题目比较简单"
   ]
  },
  {
   "cell_type": "code",
   "execution_count": null,
   "metadata": {},
   "outputs": [],
   "source": [
    "# 自己写的迭代\n",
    "class Solution:\n",
    "    def searchBST(self, root: Optional[TreeNode], val: int) -> Optional[TreeNode]:\n",
    "        if not root:\n",
    "            return None\n",
    "        queue = collections.deque([root])\n",
    "        while queue:\n",
    "            for _ in range(len(queue)):\n",
    "                cur = queue.popleft()\n",
    "                if cur.val == val:\n",
    "                    return cur\n",
    "                if cur.left:\n",
    "                    queue.append(cur.left)\n",
    "                if cur.right:\n",
    "                    queue.append(cur.right)\n",
    "        return None"
   ]
  },
  {
   "cell_type": "code",
   "execution_count": null,
   "metadata": {},
   "outputs": [],
   "source": [
    "# 自己写的递归！！\n",
    "class Solution:\n",
    "    def searchBST(self, root: Optional[TreeNode], val: int) -> Optional[TreeNode]:\n",
    "        if not root:\n",
    "            return None\n",
    "        if root.val == val:\n",
    "            return root\n",
    "        else:\n",
    "            left = self.searchBST(root.left, val)\n",
    "            right = self.searchBST(root.right, val)\n",
    "            if left:\n",
    "                return left\n",
    "            else:\n",
    "                return right"
   ]
  },
  {
   "cell_type": "markdown",
   "metadata": {},
   "source": [
    "# 98. Validate Binary Search Tree\n",
    "* https://leetcode.com/problems/validate-binary-search-tree/description/\n",
    "* https://programmercarl.com/0098.%E9%AA%8C%E8%AF%81%E4%BA%8C%E5%8F%89%E6%90%9C%E7%B4%A2%E6%A0%91.html\n",
    "\n",
    "给定一个二叉树，判断其是否是一个有效的二叉搜索树。\n",
    "\n",
    "假设一个二叉搜索树具有如下特征：\n",
    "\n",
    "1. 节点的左子树只包含小于当前节点的数。\n",
    "2. 节点的右子树只包含大于当前节点的数。\n",
    "3. 所有左子树和右子树自身必须也是二叉搜索树。"
   ]
  },
  {
   "cell_type": "code",
   "execution_count": null,
   "metadata": {},
   "outputs": [],
   "source": [
    "# 左中右顺序递增，转换成数组\n",
    "class Solution:\n",
    "    def __init__(self):\n",
    "        self.vec = []\n",
    "\n",
    "    def traversal(self, root):\n",
    "        if root is None:\n",
    "            return\n",
    "        self.traversal(root.left)\n",
    "        self.vec.append(root.val)  # 将二叉搜索树转换为有序数组\n",
    "        self.traversal(root.right)\n",
    "\n",
    "    def isValidBST(self, root):\n",
    "        self.vec = []  # 清空数组\n",
    "        self.traversal(root)\n",
    "        for i in range(1, len(self.vec)):\n",
    "            # 注意要小于等于，搜索树里不能有相同元素\n",
    "            if self.vec[i] <= self.vec[i - 1]:\n",
    "                return False\n",
    "        return True"
   ]
  },
  {
   "cell_type": "code",
   "execution_count": null,
   "metadata": {},
   "outputs": [],
   "source": [
    "# 递归法（版本二）设定极小值，进行比较\n",
    "\n",
    "class Solution:\n",
    "    def __init__(self):\n",
    "        self.maxVal = float('-inf')  # 因为后台测试数据中有int最小值\n",
    "\n",
    "    def isValidBST(self, root):\n",
    "        if root is None:\n",
    "            return True\n",
    "\n",
    "        left = self.isValidBST(root.left)\n",
    "        # 中序遍历，验证遍历的元素是不是从小到大\n",
    "        if self.maxVal < root.val:\n",
    "            self.maxVal = root.val\n",
    "        else:\n",
    "            return False\n",
    "        right = self.isValidBST(root.right)\n",
    "\n",
    "        return left and right"
   ]
  },
  {
   "cell_type": "code",
   "execution_count": null,
   "metadata": {},
   "outputs": [],
   "source": [
    "# 递归法（版本三）直接取该树的最小值\n",
    "\n",
    "class Solution:\n",
    "    def __init__(self):\n",
    "        self.pre = None  # 用来记录前一个节点\n",
    "\n",
    "    def isValidBST(self, root):\n",
    "        if root is None:\n",
    "            return True\n",
    "\n",
    "        left = self.isValidBST(root.left)\n",
    "\n",
    "        if self.pre is not None and self.pre.val >= root.val:\n",
    "            return False\n",
    "        self.pre = root  # 记录前一个节点\n",
    "\n",
    "        right = self.isValidBST(root.right)\n",
    "        return left and right"
   ]
  },
  {
   "cell_type": "code",
   "execution_count": null,
   "metadata": {},
   "outputs": [],
   "source": [
    "# 迭代法\n",
    "\n",
    "class Solution:\n",
    "    def isValidBST(self, root):\n",
    "        stack = []\n",
    "        cur = root\n",
    "        pre = None  # 记录前一个节点\n",
    "        while cur is not None or len(stack) > 0:\n",
    "            if cur is not None:\n",
    "                stack.append(cur)\n",
    "                cur = cur.left  # 左\n",
    "            else:\n",
    "                cur = stack.pop()  # 中\n",
    "                if pre is not None and cur.val <= pre.val:\n",
    "                    return False\n",
    "                pre = cur  # 保存前一个访问的结点\n",
    "                cur = cur.right  # 右\n",
    "        return True"
   ]
  }
 ],
 "metadata": {
  "kernelspec": {
   "display_name": "Python 3",
   "language": "python",
   "name": "python3"
  },
  "language_info": {
   "codemirror_mode": {
    "name": "ipython",
    "version": 3
   },
   "file_extension": ".py",
   "mimetype": "text/x-python",
   "name": "python",
   "nbconvert_exporter": "python",
   "pygments_lexer": "ipython3",
   "version": "3.12.0"
  }
 },
 "nbformat": 4,
 "nbformat_minor": 2
}
