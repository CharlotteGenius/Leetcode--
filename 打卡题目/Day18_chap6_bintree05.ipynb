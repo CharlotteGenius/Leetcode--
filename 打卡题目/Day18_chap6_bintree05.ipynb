{
 "cells": [
  {
   "cell_type": "markdown",
   "metadata": {},
   "source": [
    "# 513. Find Bottom Left Tree Value\n",
    "* https://leetcode.com/problems/find-bottom-left-tree-value/description/\n",
    "* https://programmercarl.com/0513.%E6%89%BE%E6%A0%91%E5%B7%A6%E4%B8%8B%E8%A7%92%E7%9A%84%E5%80%BC.html#%E7%AE%97%E6%B3%95%E5%85%AC%E5%BC%80%E8%AF%BE\n",
    "\n",
    "咋眼一看，这道题目用递归的话就就一直向左遍历，最后一个就是答案呗？\n",
    "\n",
    "没有这么简单，一直向左遍历到最后一个，它未必是最后一行啊。\n",
    "\n",
    "我们来分析一下题目：在树的最后一行找到最左边的值。\n",
    "\n",
    "首先要是最后一行，然后是最左边的值。\n",
    "\n",
    "如果使用递归法，如何判断是最后一行呢，其实就是深度最大的叶子节点一定是最后一行。\n",
    "\n",
    "那么如何找最左边的呢？可以使用前序遍历（当然中序，后序都可以，因为本题没有 中间节点的处理逻辑，只要左优先就行），保证优先左边搜索，然后记录深度最大的叶子节点，此时就是树的最后一行最左边的值。"
   ]
  },
  {
   "cell_type": "code",
   "execution_count": null,
   "metadata": {},
   "outputs": [],
   "source": [
    "class Solution:\n",
    "    def findBottomLeftValue(self, root: Optional[TreeNode]) -> int:\n",
    "        self.maxdepth = -1    # 用一个global的参数来记录最深深度\n",
    "        self.result = None    # 每次遇到最深深度的时候update一下\n",
    "        self.traversal(root, 0)\n",
    "        return self.result\n",
    "\n",
    "    def traversal(self, root, depth):\n",
    "        if not root.left and not root.right:\n",
    "            if depth > self.maxdepth:\n",
    "                self.maxdepth = depth\n",
    "                self.result = root.val\n",
    "\n",
    "        if root.left:\n",
    "            self.traversal(root.left, depth+1)\n",
    "        if root.right:\n",
    "            self.traversal(root.right, depth+1)"
   ]
  },
  {
   "cell_type": "code",
   "execution_count": null,
   "metadata": {},
   "outputs": [],
   "source": [
    "# 迭代法\n",
    "class Solution:\n",
    "    def findBottomLeftValue(self, root: Optional[TreeNode]) -> int:\n",
    "        if not root:\n",
    "            return 0\n",
    "        queue = collections.deque([root])\n",
    "        result = 0\n",
    "        while queue:\n",
    "            for i in range(len(queue)):\n",
    "                cur = queue.popleft()\n",
    "                if i == 0: # 最先pop的点是每一层最左边的点,所有层遍历的话result就会更新到结果\n",
    "                    result = cur.val\n",
    "                if cur.left:\n",
    "                    queue.append(cur.left)\n",
    "                if cur.right:\n",
    "                    queue.append(cur.right)\n",
    "        return result"
   ]
  },
  {
   "cell_type": "markdown",
   "metadata": {},
   "source": [
    "# 112. Path Sum\n",
    "* https://leetcode.com/problems/path-sum/description/\n",
    "* https://programmercarl.com/0112.%E8%B7%AF%E5%BE%84%E6%80%BB%E5%92%8C.html"
   ]
  },
  {
   "cell_type": "code",
   "execution_count": null,
   "metadata": {},
   "outputs": [],
   "source": [
    "# 呜呜呜呜呜呜呜呜呜终于自己独立写出一个正确的迭代了...\n",
    "\n",
    "class Solution:\n",
    "    def hasPathSum(self, root: Optional[TreeNode], targetSum: int) -> bool:\n",
    "        if not root:\n",
    "            return False\n",
    "        self.target = targetSum\n",
    "        self.result = False\n",
    "        self.traversal(root, root.val)\n",
    "        return self.result\n",
    "\n",
    "    def traversal(self, node, s):\n",
    "        if not node.left and not node.right:\n",
    "            if s == self.target:\n",
    "                self.result = True\n",
    "        if node.left:\n",
    "            self.traversal(node.left, s+node.left.val)\n",
    "        if node.right:\n",
    "            self.traversal(node.right, s+node.right.val)"
   ]
  },
  {
   "cell_type": "code",
   "execution_count": null,
   "metadata": {},
   "outputs": [],
   "source": [
    "# 递归精简版\n",
    "class Solution:\n",
    "    def hasPathSum(self, root: TreeNode, sum: int) -> bool:\n",
    "        if not root:\n",
    "            return False\n",
    "        if not root.left and not root.right and sum == root.val:\n",
    "            return True\n",
    "        return self.hasPathSum(root.left, sum - root.val) or self.hasPathSum(root.right, sum - root.val)"
   ]
  },
  {
   "cell_type": "code",
   "execution_count": null,
   "metadata": {},
   "outputs": [],
   "source": [
    "# 迭代法\n",
    "class Solution:\n",
    "    def hasPathSum(self, root: TreeNode, sum: int) -> bool:\n",
    "        if not root:\n",
    "            return False\n",
    "        # 此时栈里要放的是pair<节点指针，路径数值>\n",
    "        st = [(root, root.val)]\n",
    "        while st:\n",
    "            node, path_sum = st.pop()\n",
    "            # 如果该节点是叶子节点了，同时该节点的路径数值等于sum，那么就返回true\n",
    "            if not node.left and not node.right and path_sum == sum:\n",
    "                return True\n",
    "            # 右节点，压进去一个节点的时候，将该节点的路径数值也记录下来\n",
    "            if node.right:\n",
    "                st.append((node.right, path_sum + node.right.val))\n",
    "            # 左节点，压进去一个节点的时候，将该节点的路径数值也记录下来\n",
    "            if node.left:\n",
    "                st.append((node.left, path_sum + node.left.val))\n",
    "        return False"
   ]
  },
  {
   "cell_type": "markdown",
   "metadata": {},
   "source": [
    "# 113. Path Sum II\n",
    "* https://leetcode.com/problems/path-sum-ii/description/\n",
    "* https://programmercarl.com/0112.%E8%B7%AF%E5%BE%84%E6%80%BB%E5%92%8C.html#%E5%85%B6%E4%BB%96%E8%AF%AD%E8%A8%80%E7%89%88%E6%9C%AC"
   ]
  },
  {
   "cell_type": "code",
   "execution_count": null,
   "metadata": {},
   "outputs": [],
   "source": [
    "# 自己写的，但是注意要用path[:]而不是path，这样才会复制出一个新的空间\n",
    "# 不然就会对原path进行reference！\n",
    "class Solution:\n",
    "    def pathSum(self, root: Optional[TreeNode], targetSum: int) -> List[List[int]]:\n",
    "        if not root:\n",
    "            return []\n",
    "        self.target = targetSum\n",
    "        self.result = []\n",
    "        self.traversal(root, [root.val])\n",
    "        return self.result\n",
    "\n",
    "    def traversal(self, node, path):\n",
    "        if not node.left and not node.right:\n",
    "            if sum(path) == self.target:\n",
    "                self.result.append(path[:])\n",
    "        if node.left:\n",
    "            path.append(node.left.val)\n",
    "            self.traversal(node.left, path)\n",
    "            path[:] = path[:-1]\n",
    "        if node.right:\n",
    "            path.append(node.right.val)\n",
    "            self.traversal(node.right, path)\n",
    "            path[:] = path[:-1]"
   ]
  },
  {
   "cell_type": "code",
   "execution_count": null,
   "metadata": {},
   "outputs": [],
   "source": [
    "# 迭代法 把路径和node作为tuple一起放在queue里面\n",
    "class Solution:\n",
    "    def pathSum(self, root: TreeNode, targetSum: int) -> List[List[int]]:\n",
    "        if not root:\n",
    "            return []\n",
    "        stack = [(root, [root.val])]\n",
    "        res = []\n",
    "        while stack:\n",
    "            node, path = stack.pop()\n",
    "            if not node.left and not node.right and sum(path) == targetSum:\n",
    "                res.append(path)\n",
    "            if node.right:\n",
    "                stack.append((node.right, path + [node.right.val]))\n",
    "            if node.left:\n",
    "                stack.append((node.left, path + [node.left.val]))\n",
    "        return res\n"
   ]
  },
  {
   "cell_type": "markdown",
   "metadata": {},
   "source": [
    "# 106. Construct Binary Tree from Inorder and Postorder Traversal\n",
    "* https://leetcode.com/problems/construct-binary-tree-from-inorder-and-postorder-traversal/description/\n",
    "* https://programmercarl.com/0106.%E4%BB%8E%E4%B8%AD%E5%BA%8F%E4%B8%8E%E5%90%8E%E5%BA%8F%E9%81%8D%E5%8E%86%E5%BA%8F%E5%88%97%E6%9E%84%E9%80%A0%E4%BA%8C%E5%8F%89%E6%A0%91.html\n",
    "\n",
    "根据一棵树的中序遍历与后序遍历构造二叉树。\n",
    "\n",
    "第一步：如果数组大小为零的话，说明是空节点了。\n",
    "\n",
    "第二步：如果不为空，那么取后序数组最后一个元素作为节点元素。\n",
    "\n",
    "第三步：找到后序数组最后一个元素在中序数组的位置，作为切割点\n",
    "\n",
    "第四步：切割中序数组，切成中序左数组和中序右数组 （顺序别搞反了，一定是先切中序数组）\n",
    "\n",
    "第五步：切割后序数组，切成后序左数组和后序右数组\n",
    "\n",
    "第六步：递归处理左区间和右区间"
   ]
  },
  {
   "cell_type": "markdown",
   "metadata": {},
   "source": [
    "* 前序和中序可以唯一确定一棵二叉树。\n",
    "\n",
    "* 后序和中序可以唯一确定一棵二叉树。\n",
    "\n",
    "那么前序和后序可不可以唯一确定一棵二叉树呢？\n",
    "\n",
    "前序和后序不能唯一确定一棵二叉树！，因为没有中序遍历无法确定左右部分，也就是无法分割。\n",
    "\n"
   ]
  },
  {
   "cell_type": "code",
   "execution_count": null,
   "metadata": {},
   "outputs": [],
   "source": [
    "class Solution:\n",
    "    def buildTree(self, inorder: List[int], postorder: List[int]) -> TreeNode:\n",
    "        # 第一步: 特殊情况讨论: 树为空. (递归终止条件)\n",
    "        if not postorder:\n",
    "            return None\n",
    "\n",
    "        # 第二步: 后序遍历的最后一个就是当前的中间节点.\n",
    "        root_val = postorder[-1]\n",
    "        root = TreeNode(root_val)\n",
    "\n",
    "        # 第三步: 找切割点.\n",
    "        separator_idx = inorder.index(root_val)\n",
    "\n",
    "        # 第四步: 切割inorder数组. 得到inorder数组的左,右半边.\n",
    "        inorder_left = inorder[:separator_idx]\n",
    "        inorder_right = inorder[separator_idx + 1:]\n",
    "\n",
    "        # 第五步: 切割postorder数组. 得到postorder数组的左,右半边.\n",
    "        # ⭐️ 重点1: 中序数组大小一定跟后序数组大小是相同的.\n",
    "        postorder_left = postorder[:len(inorder_left)]\n",
    "        postorder_right = postorder[len(inorder_left): len(postorder) - 1]\n",
    "\n",
    "        # 第六步: 递归\n",
    "        root.left = self.buildTree(inorder_left, postorder_left)\n",
    "        root.right = self.buildTree(inorder_right, postorder_right)\n",
    "         # 第七步: 返回答案\n",
    "        return root"
   ]
  },
  {
   "cell_type": "markdown",
   "metadata": {},
   "source": [
    "# 105. Construct Binary Tree from Preorder and Inorder Traversal\n",
    "* https://leetcode.com/problems/construct-binary-tree-from-preorder-and-inorder-traversal/description/\n",
    "\n",
    "前序和中序"
   ]
  },
  {
   "cell_type": "code",
   "execution_count": null,
   "metadata": {},
   "outputs": [],
   "source": [
    "class Solution:\n",
    "    def buildTree(self, preorder: List[int], inorder: List[int]) -> TreeNode:\n",
    "        # 第一步: 特殊情况讨论: 树为空. 或者说是递归终止条件\n",
    "        if not preorder:\n",
    "            return None\n",
    "\n",
    "        # 第二步: 前序遍历的第一个就是当前的中间节点.\n",
    "        root_val = preorder[0]\n",
    "        root = TreeNode(root_val)\n",
    "\n",
    "        # 第三步: 找切割点.\n",
    "        separator_idx = inorder.index(root_val)\n",
    "\n",
    "        # 第四步: 切割inorder数组. 得到inorder数组的左,右半边.\n",
    "        inorder_left = inorder[:separator_idx]\n",
    "        inorder_right = inorder[separator_idx + 1:]\n",
    "\n",
    "        # 第五步: 切割preorder数组. 得到preorder数组的左,右半边.\n",
    "        # ⭐️ 重点1: 中序数组大小一定跟前序数组大小是相同的.\n",
    "        preorder_left = preorder[1:1 + len(inorder_left)]\n",
    "        preorder_right = preorder[1 + len(inorder_left):]\n",
    "\n",
    "        # 第六步: 递归\n",
    "        root.left = self.buildTree(preorder_left, inorder_left)\n",
    "        root.right = self.buildTree(preorder_right, inorder_right)\n",
    "        # 第七步: 返回答案\n",
    "        return root"
   ]
  }
 ],
 "metadata": {
  "kernelspec": {
   "display_name": "Python 3",
   "language": "python",
   "name": "python3"
  },
  "language_info": {
   "name": "python",
   "version": "3.12.0"
  }
 },
 "nbformat": 4,
 "nbformat_minor": 2
}
