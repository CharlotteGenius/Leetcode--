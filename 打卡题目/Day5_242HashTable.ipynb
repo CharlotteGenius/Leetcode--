{
 "cells": [
  {
   "cell_type": "markdown",
   "metadata": {},
   "source": [
    "# 242. Valid Anagram\n",
    "* https://leetcode.com/problems/valid-anagram/description/\n",
    "* https://programmercarl.com/0242.%E6%9C%89%E6%95%88%E7%9A%84%E5%AD%97%E6%AF%8D%E5%BC%82%E4%BD%8D%E8%AF%8D.html#%E5%85%B6%E4%BB%96%E8%AF%AD%E8%A8%80%E7%89%88%E6%9C%AC"
   ]
  },
  {
   "cell_type": "markdown",
   "metadata": {},
   "source": [
    "## 自己写的，第一反应就是用collections.Counter\n",
    "似乎是有点耍赖的方法，但是lc是接受的"
   ]
  },
  {
   "cell_type": "code",
   "execution_count": null,
   "metadata": {},
   "outputs": [],
   "source": [
    "class Solution:\n",
    "    def isAnagram(self, s: str, t: str) -> bool:\n",
    "        from collections import Counter\n",
    "        cs = Counter(s)\n",
    "        ct = Counter(t)\n",
    "        return cs == ct"
   ]
  },
  {
   "cell_type": "markdown",
   "metadata": {},
   "source": [
    "## 差不多的意思，用collections.defaultDict\n",
    "与直接定义dict的区别是，对于不存在的输入不会报错，而是直接从0的基础开始+1"
   ]
  },
  {
   "cell_type": "code",
   "execution_count": null,
   "metadata": {},
   "outputs": [],
   "source": [
    "class Solution:\n",
    "    def isAnagram(self, s: str, t: str) -> bool:\n",
    "        from collections import defaultdict\n",
    "        \n",
    "        s_dict = defaultdict(int)\n",
    "        t_dict = defaultdict(int)\n",
    "        for x in s:\n",
    "            s_dict[x] += 1\n",
    "        \n",
    "        for x in t:\n",
    "            t_dict[x] += 1\n",
    "        return s_dict == t_dict"
   ]
  },
  {
   "cell_type": "markdown",
   "metadata": {},
   "source": [
    "## 哈希表Hash Table\n",
    "Need to understand hash table here.\n",
    "* Time: O(n)\n",
    "* Space: O(1) - because it's constant 26! This is the main purpose."
   ]
  },
  {
   "cell_type": "code",
   "execution_count": null,
   "metadata": {
    "vscode": {
     "languageId": "ini"
    }
   },
   "outputs": [],
   "source": [
    "class Solution:\n",
    "    def isAnagram(self, s: str, t: str) -> bool:\n",
    "        record = [0] * 26\n",
    "        for i in s:\n",
    "            #并不需要记住字符a的ASCII，只要求出一个相对数值就可以了\n",
    "            record[ord(i) - ord(\"a\")] += 1\n",
    "        for i in t:\n",
    "            record[ord(i) - ord(\"a\")] -= 1\n",
    "        for i in range(26):\n",
    "            if record[i] != 0:\n",
    "                #record数组如果有的元素不为零0，说明字符串s和t 一定是谁多了字符或者谁少了字符。\n",
    "                return False\n",
    "        return True"
   ]
  },
  {
   "cell_type": "markdown",
   "metadata": {},
   "source": [
    "# 349. Intersection of Two Arrays\n",
    "Given two integer arrays nums1 and nums2, return an array of their \n",
    "intersection. Each element in the result must be unique and you may return the result in any order.\n",
    "\n",
    "* https://leetcode.com/problems/intersection-of-two-arrays/description/\n",
    "* https://programmercarl.com/0349.%E4%B8%A4%E4%B8%AA%E6%95%B0%E7%BB%84%E7%9A%84%E4%BA%A4%E9%9B%86.html"
   ]
  },
  {
   "cell_type": "markdown",
   "metadata": {},
   "source": [
    "## 自己想法：用set()\n",
    "\n",
    "* 拓展\n",
    "那有同学可能问了，遇到哈希问题我直接都用set不就得了，用什么数组啊。\n",
    "\n",
    "直接使用set 不仅占用空间比数组大，而且速度要比数组慢，set把数值映射到key上都要做hash计算的。\n",
    "\n",
    "不要小瞧 这个耗时，在数据量大的情况，差距是很明显的"
   ]
  },
  {
   "cell_type": "code",
   "execution_count": null,
   "metadata": {},
   "outputs": [],
   "source": [
    "class Solution:\n",
    "    def intersection(self, nums1: List[int], nums2: List[int]) -> List[int]:\n",
    "        set1 = set(nums1)\n",
    "        inter = set()\n",
    "        for n in nums2:\n",
    "            if n in set1:\n",
    "                inter.add(n)\n",
    "        return list(inter)"
   ]
  },
  {
   "cell_type": "code",
   "execution_count": null,
   "metadata": {},
   "outputs": [],
   "source": [
    "# Clean Version\n",
    "class Solution:\n",
    "    def intersection(self, nums1: List[int], nums2: List[int]) -> List[int]:\n",
    "        return list(set(nums1) & set(nums2))"
   ]
  },
  {
   "cell_type": "markdown",
   "metadata": {},
   "source": [
    "## 用数组"
   ]
  },
  {
   "cell_type": "code",
   "execution_count": null,
   "metadata": {},
   "outputs": [],
   "source": [
    "class Solution:\n",
    "    def intersection(self, nums1: List[int], nums2: List[int]) -> List[int]:\n",
    "        count1 = [0]*1001\n",
    "        count2 = [0]*1001\n",
    "        result = []\n",
    "        for i in range(len(nums1)):\n",
    "            count1[nums1[i]]+=1\n",
    "        for j in range(len(nums2)):\n",
    "            count2[nums2[j]]+=1\n",
    "        for k in range(1001):\n",
    "            if count1[k]*count2[k]>0:\n",
    "                result.append(k)\n",
    "        return result"
   ]
  },
  {
   "cell_type": "markdown",
   "metadata": {},
   "source": [
    "# 202. Happy number\n",
    "* https://leetcode.com/problems/happy-number/description/\n",
    "* https://programmercarl.com/0202.%E5%BF%AB%E4%B9%90%E6%95%B0.html"
   ]
  },
  {
   "cell_type": "markdown",
   "metadata": {},
   "source": [
    "## 快慢指针\n",
    "转换一下看问题的角度， \n",
    "sum 如果重复出现 return false； \n",
    "\n",
    "类比 ==> 如果链表中有环，元素也会重复出现 ==> 同理可以用我们之前的快慢指针来解决。"
   ]
  },
  {
   "cell_type": "code",
   "execution_count": null,
   "metadata": {},
   "outputs": [],
   "source": [
    "class Solution:\n",
    "    def isHappy(self, n: int) -> bool:\n",
    "        slow, fast = n, n\n",
    "        while True:\n",
    "            slow = self.calc(slow)\n",
    "            fast = self.calc(self.calc(fast))\n",
    "            if slow == fast and slow != 1:\n",
    "                return False\n",
    "            if slow == 1 or fast == 1:\n",
    "                return True\n",
    "\n",
    "    def calc(self, n: int) -> int:\n",
    "        s = 0\n",
    "        for b in str(n):\n",
    "            s += int(b)**2\n",
    "        return s"
   ]
  },
  {
   "cell_type": "markdown",
   "metadata": {},
   "source": [
    "## 使用set - 版本一"
   ]
  },
  {
   "cell_type": "code",
   "execution_count": null,
   "metadata": {},
   "outputs": [],
   "source": [
    "class Solution:\n",
    "    def isHappy(self, n: int) -> bool:        \n",
    "        record = set()\n",
    "\n",
    "        while True:\n",
    "            n = self.get_sum(n)\n",
    "            if n == 1:\n",
    "                return True\n",
    "            \n",
    "            # 如果中间结果重复出现，说明陷入死循环了，该数不是快乐数\n",
    "            if n in record:\n",
    "                return False\n",
    "            else:\n",
    "                record.add(n)\n",
    "\n",
    "    def get_sum(self,n: int) -> int: \n",
    "        new_num = 0\n",
    "        while n:\n",
    "            n, r = divmod(n, 10)\n",
    "            new_num += r ** 2\n",
    "        return new_num"
   ]
  },
  {
   "cell_type": "markdown",
   "metadata": {},
   "source": [
    "## set 版本二"
   ]
  },
  {
   "cell_type": "code",
   "execution_count": null,
   "metadata": {},
   "outputs": [],
   "source": [
    "class Solution:\n",
    "   def isHappy(self, n: int) -> bool:\n",
    "       record = set()\n",
    "       while n not in record:\n",
    "           record.add(n)\n",
    "           new_num = 0\n",
    "           n_str = str(n)\n",
    "           for i in n_str:\n",
    "               new_num += int(i)**2\n",
    "           if new_num==1: return True\n",
    "           else: n = new_num\n",
    "       return False"
   ]
  },
  {
   "cell_type": "markdown",
   "metadata": {},
   "source": [
    "## 使用数组"
   ]
  },
  {
   "cell_type": "code",
   "execution_count": null,
   "metadata": {},
   "outputs": [],
   "source": [
    "class Solution:\n",
    "   def isHappy(self, n: int) -> bool:\n",
    "       record = []\n",
    "       while n not in record:\n",
    "           record.append(n)\n",
    "           new_num = 0\n",
    "           n_str = str(n)\n",
    "           for i in n_str:\n",
    "               new_num += int(i)**2\n",
    "           if new_num == 1: return True\n",
    "           else: n = new_num\n",
    "       return False"
   ]
  },
  {
   "cell_type": "markdown",
   "metadata": {},
   "source": [
    "## 精简set  and    精简数组"
   ]
  },
  {
   "cell_type": "code",
   "execution_count": null,
   "metadata": {},
   "outputs": [],
   "source": [
    "class Solution:\n",
    "   def isHappy(self, n: int) -> bool:\n",
    "       seen = set()\n",
    "       while n != 1:\n",
    "           n = sum(int(i) ** 2 for i in str(n))\n",
    "           if n in seen:\n",
    "               return False\n",
    "           seen.add(n)\n",
    "       return True\n",
    "   \n",
    "class Solution:\n",
    "   def isHappy(self, n: int) -> bool:\n",
    "       seen = []\n",
    "       while n != 1:\n",
    "           n = sum(int(i) ** 2 for i in str(n))\n",
    "           if n in seen:\n",
    "               return False\n",
    "           seen.append(n)\n",
    "       return True"
   ]
  },
  {
   "cell_type": "markdown",
   "metadata": {},
   "source": [
    "# 1. Two Sum\n",
    "* https://leetcode.com/problems/two-sum/description/\n",
    "* https://programmercarl.com/0001.%E4%B8%A4%E6%95%B0%E4%B9%8B%E5%92%8C.html"
   ]
  },
  {
   "cell_type": "markdown",
   "metadata": {},
   "source": [
    "## 自己的想法\n",
    "用pop查看接下来的数列是否含有target-a"
   ]
  },
  {
   "cell_type": "code",
   "execution_count": null,
   "metadata": {},
   "outputs": [],
   "source": [
    "class Solution:\n",
    "    def twoSum(self, nums: List[int], target: int) -> List[int]:\n",
    "        ind = 0\n",
    "        while len(nums)>0:\n",
    "            a = nums.pop(0)\n",
    "            if target - a in nums:\n",
    "                return [ind, ind+nums.index(target-a)+1]\n",
    "            ind += 1"
   ]
  },
  {
   "cell_type": "markdown",
   "metadata": {},
   "source": [
    "## 哈希表"
   ]
  },
  {
   "cell_type": "code",
   "execution_count": null,
   "metadata": {},
   "outputs": [],
   "source": [
    "# 一个数字对应index的dictionary\n",
    "class Solution:\n",
    "    def twoSum(self, nums: List[int], target: int) -> List[int]:\n",
    "        records = dict()\n",
    "\n",
    "        for index, value in enumerate(nums):  \n",
    "            if target - value in records:   # 遍历当前元素，并在map中寻找是否有匹配的key\n",
    "                return [records[target- value], index]\n",
    "            records[value] = index    # 如果没找到匹配对，就把访问过的元素和下标加入到map中\n",
    "        return []"
   ]
  },
  {
   "cell_type": "code",
   "execution_count": null,
   "metadata": {},
   "outputs": [],
   "source": [
    "# set 集合\n",
    "class Solution:\n",
    "    def twoSum(self, nums: List[int], target: int) -> List[int]:\n",
    "        #创建一个集合来存储我们目前看到的数字\n",
    "        seen = set()             \n",
    "        for i, num in enumerate(nums):\n",
    "            complement = target - num\n",
    "            if complement in seen:\n",
    "                return [nums.index(complement), i]\n",
    "            seen.add(num)"
   ]
  },
  {
   "cell_type": "markdown",
   "metadata": {},
   "source": [
    "# 左右指针找两个元素 - 需要先sort"
   ]
  },
  {
   "cell_type": "code",
   "execution_count": null,
   "metadata": {},
   "outputs": [],
   "source": [
    "class Solution:\n",
    "    def twoSum(self, nums: List[int], target: int) -> List[int]:\n",
    "        # 对输入列表进行排序\n",
    "        nums_sorted = sorted(nums)\n",
    "        \n",
    "        # 使用双指针\n",
    "        left = 0\n",
    "        right = len(nums_sorted) - 1\n",
    "        while left < right:\n",
    "            current_sum = nums_sorted[left] + nums_sorted[right]\n",
    "            if current_sum == target:\n",
    "                # 如果和等于目标数，则返回两个数的下标\n",
    "                left_index = nums.index(nums_sorted[left])\n",
    "                right_index = nums.index(nums_sorted[right])\n",
    "                if left_index == right_index:\n",
    "                    right_index = nums[left_index+1:].index(nums_sorted[right]) + left_index + 1\n",
    "                return [left_index, right_index]\n",
    "            elif current_sum < target:\n",
    "                # 如果总和小于目标，则将左侧指针向右移动\n",
    "                left += 1\n",
    "            else:\n",
    "                # 如果总和大于目标值，则将右指针向左移动\n",
    "                right -= 1"
   ]
  }
 ],
 "metadata": {
  "kernelspec": {
   "display_name": "Python 3",
   "language": "python",
   "name": "python3"
  },
  "language_info": {
   "codemirror_mode": {
    "name": "ipython",
    "version": 3
   },
   "file_extension": ".py",
   "mimetype": "text/x-python",
   "name": "python",
   "nbconvert_exporter": "python",
   "pygments_lexer": "ipython3",
   "version": "3.12.0"
  }
 },
 "nbformat": 4,
 "nbformat_minor": 2
}
