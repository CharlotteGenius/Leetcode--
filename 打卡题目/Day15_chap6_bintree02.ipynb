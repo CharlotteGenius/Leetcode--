{
 "cells": [
  {
   "cell_type": "markdown",
   "metadata": {},
   "source": [
    "# 层序遍历*10"
   ]
  },
  {
   "cell_type": "markdown",
   "metadata": {},
   "source": [
    "## 102. Binary Tree Level Order Traversal\n",
    "* https://leetcode.com/problems/binary-tree-level-order-traversal/description/\n",
    "* https://programmercarl.com/0102.%E4%BA%8C%E5%8F%89%E6%A0%91%E7%9A%84%E5%B1%82%E5%BA%8F%E9%81%8D%E5%8E%86.html#_102-%E4%BA%8C%E5%8F%89%E6%A0%91%E7%9A%84%E5%B1%82%E5%BA%8F%E9%81%8D%E5%8E%86\n",
    "\n",
    "二叉树的层序遍历\n",
    "\n",
    "层序遍历：队列！"
   ]
  },
  {
   "cell_type": "markdown",
   "metadata": {},
   "source": [
    "层序遍历一个二叉树。就是从左到右一层一层的去遍历二叉树。这种遍历的方式和我们之前讲过的都不太一样。\n",
    "\n",
    "需要借用一个辅助数据结构即队列来实现，队列先进先出，符合一层一层遍历的逻辑，而用栈先进后出适合模拟深度优先遍历也就是递归的逻辑。\n",
    "\n",
    "而这种层序遍历方式就是图论中的广度优先遍历BFS，只不过我们应用在二叉树上。"
   ]
  },
  {
   "cell_type": "code",
   "execution_count": null,
   "metadata": {},
   "outputs": [],
   "source": [
    "# Definition for a binary tree node.\n",
    "# class TreeNode:\n",
    "#     def __init__(self, val=0, left=None, right=None):\n",
    "#         self.val = val\n",
    "#         self.left = left\n",
    "#         self.right = right\n",
    "class Solution:\n",
    "    def levelOrder(self, root: Optional[TreeNode]) -> List[List[int]]:\n",
    "        from collections import deque\n",
    "        if not root:\n",
    "            return []\n",
    "\n",
    "        queue = deque([root])\n",
    "        res = []\n",
    "        while queue:\n",
    "            level = []\n",
    "            level_nodes = len(queue)\n",
    "            for _ in range(level_nodes):    # 把这一层的node处理完，但是queue并没有空，因为后面又加上了左右子\n",
    "                curr = queue.popleft()\n",
    "                level.append(curr.val) \n",
    "                if curr.left:\n",
    "                    queue.append(curr.left) # 这些左右子不会在这个子循环执行，而是在下一个循环执行\n",
    "                if curr.right:\n",
    "                    queue.append(curr.right)\n",
    "            res.append(level)\n",
    "        return res"
   ]
  },
  {
   "cell_type": "code",
   "execution_count": null,
   "metadata": {},
   "outputs": [],
   "source": [
    "# 递归法\n",
    "# 靠好难啊....\n",
    "class Solution:\n",
    "    def levelOrder(self, root: Optional[TreeNode]) -> List[List[int]]:\n",
    "        levels = [] # 初始化一个所有level的合集\n",
    "        self.helper(root, 0, levels) # 从root开始去add每一个layer，每次add时layer数会加一\n",
    "        return levels\n",
    "    \n",
    "    def helper(self, node, level, levels):\n",
    "        if not node:\n",
    "            return\n",
    "        if len(levels) == level: # 如果当前已经添加的level合集数量等于当前的level no，因为level no从0开始的，root是level0\n",
    "            levels.append([])# 说明此时正在添加一个新的level，我们要初始一个空的level\n",
    "\n",
    "        levels[level].append(node.val) # 在此level上添加当前node值\n",
    "        self.helper(node.left, level + 1, levels) # 如果此点有左孩子，先走左孩子，level加一\n",
    "        self.helper(node.right, level + 1, levels) # 如果此点有右孩子，再走右孩子，level加一\n",
    "        # 这个过程用了一个level no，在添加每层node的时候是用level no来index的，\n",
    "        # 所以不用太担心先后顺序，只有level no是正确的，就只会在那个level上添加node\n"
   ]
  },
  {
   "cell_type": "markdown",
   "metadata": {},
   "source": [
    "## 107.二叉树的层次遍历II Binary Tree Level Order Traversal II\n",
    "* https://leetcode.com/problems/binary-tree-level-order-traversal-ii/submissions/1228675404/\n",
    "\n",
    "相对于102.二叉树的层序遍历，就是最后把result数组反转一下就可以了"
   ]
  },
  {
   "cell_type": "code",
   "execution_count": null,
   "metadata": {},
   "outputs": [],
   "source": [
    "class Solution:\n",
    "    def levelOrderBottom(self, root: TreeNode) -> List[List[int]]:\n",
    "        if not root:\n",
    "            return []\n",
    "        queue = collections.deque([root])\n",
    "        result = []\n",
    "        while queue:\n",
    "            level = []\n",
    "            for _ in range(len(queue)):\n",
    "                cur = queue.popleft()\n",
    "                level.append(cur.val)\n",
    "                if cur.left:\n",
    "                    queue.append(cur.left)\n",
    "                if cur.right:\n",
    "                    queue.append(cur.right)\n",
    "            result.append(level)\n",
    "        return result[::-1]"
   ]
  },
  {
   "cell_type": "markdown",
   "metadata": {},
   "source": [
    "## 199. Binary Tree Right Side View 二叉树的右视图\n",
    "* https://leetcode.com/problems/binary-tree-right-side-view/description/\n",
    "层序遍历的时候，判断是否遍历到单层的最后面的元素，如果是，就放进result数组中，随后返回result就可以了。"
   ]
  },
  {
   "cell_type": "code",
   "execution_count": null,
   "metadata": {},
   "outputs": [],
   "source": [
    "class Solution:\n",
    "    def rightSideView(self, root: Optional[TreeNode]) -> List[int]:\n",
    "        if not root:\n",
    "            return []\n",
    "        queue = collections.deque([root])\n",
    "        result = []\n",
    "        while queue:\n",
    "            level = []\n",
    "            for _ in range(len(queue)):\n",
    "                cur = queue.popleft()\n",
    "                level.append(cur.val)\n",
    "                if cur.left:\n",
    "                    queue.append(cur.left)\n",
    "                if cur.right:\n",
    "                    queue.append(cur.right)\n",
    "            result.append(cur.val) # 102是添加一整个level，这里我们只加最后一个数就好\n",
    "        return result"
   ]
  },
  {
   "cell_type": "markdown",
   "metadata": {},
   "source": [
    "## 637. Average of Levels in Binary Tree 二叉树的层平均值\n",
    "* https://leetcode.com/problems/average-of-levels-in-binary-tree/description/"
   ]
  },
  {
   "cell_type": "code",
   "execution_count": null,
   "metadata": {},
   "outputs": [],
   "source": [
    "class Solution:\n",
    "    def averageOfLevels(self, root: Optional[TreeNode]) -> List[float]:\n",
    "        if not root:\n",
    "            return []\n",
    "        queue = collections.deque([root])\n",
    "        result = []\n",
    "        while queue:\n",
    "            s = 0\n",
    "            size = len(queue)\n",
    "            for _ in range(size):\n",
    "                cur = queue.popleft()\n",
    "                s += cur.val\n",
    "                if cur.left:\n",
    "                    queue.append(cur.left)\n",
    "                if cur.right:\n",
    "                    queue.append(cur.right)\n",
    "            result.append(s/size) # 102是添加一整个level，这里我们只加平均值\n",
    "        return result"
   ]
  },
  {
   "cell_type": "markdown",
   "metadata": {},
   "source": [
    "## 429. N-ary Tree Level Order Traversal N叉树的层序遍历\n",
    "* https://leetcode.com/problems/n-ary-tree-level-order-traversal/description/"
   ]
  },
  {
   "cell_type": "code",
   "execution_count": null,
   "metadata": {},
   "outputs": [],
   "source": [
    "class Solution:\n",
    "    def levelOrder(self, root: 'Node') -> List[List[int]]:\n",
    "        from collections import deque\n",
    "        if not root:\n",
    "            return []\n",
    "\n",
    "        queue = deque([root])\n",
    "        res = []\n",
    "        while queue:\n",
    "            level = []\n",
    "            level_nodes = len(queue)\n",
    "            for _ in range(level_nodes):\n",
    "                curr = queue.popleft()\n",
    "                level.append(curr.val) \n",
    "                for child in curr.children:\n",
    "                   queue.append(child)\n",
    "            res.append(level)\n",
    "        return res"
   ]
  },
  {
   "cell_type": "markdown",
   "metadata": {},
   "source": [
    "## 515. Find Largest Value in Each Tree Row\n",
    "* https://leetcode.com/problems/find-largest-value-in-each-tree-row/description/"
   ]
  },
  {
   "cell_type": "code",
   "execution_count": null,
   "metadata": {},
   "outputs": [],
   "source": [
    "class Solution:\n",
    "    def largestValues(self, root: Optional[TreeNode]) -> List[int]:\n",
    "        if not root:\n",
    "            return []\n",
    "        queue = collections.deque([root])\n",
    "        res = []\n",
    "        while queue:\n",
    "            level_max = - float(\"inf\")\n",
    "            for _ in range(len(queue)):\n",
    "                cur = queue.popleft()\n",
    "                level_max = max(cur.val, level_max)\n",
    "                if cur.left:\n",
    "                    queue.append(cur.left)\n",
    "                if cur.right:\n",
    "                    queue.append(cur.right)\n",
    "            res.append(level_max)\n",
    "        return res"
   ]
  },
  {
   "cell_type": "markdown",
   "metadata": {},
   "source": [
    "## 116. Populating Next Right Pointers in Each Node 填充每个节点的下一个右侧节点指针\n",
    "* https://leetcode.com/problems/populating-next-right-pointers-in-each-node/description/"
   ]
  },
  {
   "cell_type": "code",
   "execution_count": null,
   "metadata": {},
   "outputs": [],
   "source": [
    "class Solution:\n",
    "    def connect(self, root: 'Optional[Node]') -> 'Optional[Node]':\n",
    "        if not root:\n",
    "            return root\n",
    "        queue = collections.deque([root])\n",
    "        while queue:\n",
    "            prev = None # 注意用prev而不是next，这样更简洁易懂\n",
    "            for _ in range(len(queue)):\n",
    "                cur = queue.popleft()\n",
    "                if prev:\n",
    "                    prev.next = cur\n",
    "                prev = cur\n",
    "\n",
    "                if cur.left:\n",
    "                    queue.append(cur.left)\n",
    "                if cur.right:\n",
    "                    queue.append(cur.right)\n",
    "\n",
    "        return root"
   ]
  },
  {
   "cell_type": "markdown",
   "metadata": {},
   "source": [
    "## 117. Populating Next Right Pointers in Each Node II 填充每个节点的下一个右侧节点指针II\n",
    "* https://leetcode.com/problems/populating-next-right-pointers-in-each-node-ii/\n",
    "\n",
    "这道题目说是二叉树，但116题目说是完整二叉树，其实没有任何差别，一样的代码一样的逻辑一样的味道"
   ]
  },
  {
   "cell_type": "code",
   "execution_count": null,
   "metadata": {},
   "outputs": [],
   "source": [
    "class Solution:\n",
    "    def connect(self, root: 'Node') -> 'Node':\n",
    "        if not root:\n",
    "            return root\n",
    "        \n",
    "        queue = collections.deque([root])\n",
    "        \n",
    "        while queue:\n",
    "            level_size = len(queue)\n",
    "            prev = None\n",
    "            \n",
    "            for i in range(level_size):\n",
    "                cur = queue.popleft()\n",
    "                if prev:\n",
    "                    prev.next = cur\n",
    "                prev = cur\n",
    "                \n",
    "                if cur.left:\n",
    "                    queue.append(cur.left)\n",
    "                if cur.right:\n",
    "                    queue.append(cur.right)\n",
    "        return root"
   ]
  },
  {
   "cell_type": "markdown",
   "metadata": {},
   "source": [
    "## 104. Maximum Depth of Binary Tree 二叉树的最大深度\n",
    "* https://leetcode.com/problems/maximum-depth-of-binary-tree/description/\n",
    "\n",
    "给定一个二叉树，找出其最大深度。\n",
    "\n",
    "二叉树的深度为根节点到最远叶子节点的最长路径上的节点数。\n",
    "\n",
    "说明: 叶子节点是指没有子节点的节点。\n",
    "\n"
   ]
  },
  {
   "cell_type": "code",
   "execution_count": null,
   "metadata": {},
   "outputs": [],
   "source": [
    "class Solution:\n",
    "    def maxDepth(self, root: Optional[TreeNode]) -> int:\n",
    "        if not root:\n",
    "            return 0\n",
    "        queue = collections.deque([root])\n",
    "        depth = 0\n",
    "        while queue:\n",
    "            depth += 1\n",
    "            for i in range(len(queue)):\n",
    "                cur = queue.popleft()\n",
    "                if cur.left:\n",
    "                    queue.append(cur.left)\n",
    "                if cur.right:\n",
    "                    queue.append(cur.right)\n",
    "        return depth"
   ]
  },
  {
   "cell_type": "markdown",
   "metadata": {},
   "source": [
    "## 111. Minimum Depth of Binary Tree 二叉树的最小深度\n",
    "* https://leetcode.com/problems/minimum-depth-of-binary-tree/description/\n",
    "\n",
    "只有当左右孩子都为空的时候，才说明遍历的最低点了。如果其中一个孩子为空则不是最低点"
   ]
  },
  {
   "cell_type": "code",
   "execution_count": null,
   "metadata": {},
   "outputs": [],
   "source": [
    "class Solution:\n",
    "    def minDepth(self, root: Optional[TreeNode]) -> int:\n",
    "        if not root:\n",
    "            return 0\n",
    "        queue = collections.deque([root])\n",
    "        depth = float(\"inf\")\n",
    "        cur_depth = 0\n",
    "        while queue:\n",
    "            cur_depth += 1\n",
    "            for _ in range(len(queue)):\n",
    "                cur = queue.popleft()\n",
    "                if not cur.left and not cur.right:\n",
    "                    depth = min(depth, cur_depth)\n",
    "                if cur.left:\n",
    "                    queue.append(cur.left)\n",
    "                if cur.right:\n",
    "                    queue.append(cur.right)\n",
    "        return depth"
   ]
  },
  {
   "cell_type": "markdown",
   "metadata": {},
   "source": [
    "# 226. Invert Binary Tree\n",
    "* https://leetcode.com/problems/invert-binary-tree/description/\n",
    "* https://programmercarl.com/0226.%E7%BF%BB%E8%BD%AC%E4%BA%8C%E5%8F%89%E6%A0%91.html\n",
    "\n",
    "递归"
   ]
  },
  {
   "cell_type": "code",
   "execution_count": null,
   "metadata": {},
   "outputs": [],
   "source": [
    "# 自己写的层序遍历 这应该算是 后序遍历迭代法\n",
    "class Solution:\n",
    "    def invertTree(self, root: Optional[TreeNode]) -> Optional[TreeNode]:\n",
    "        if not root:\n",
    "            return root\n",
    "        queue = collections.deque([root])\n",
    "        while queue:\n",
    "            for _ in range(len(queue)):\n",
    "                cur = queue.popleft()\n",
    "                if cur.left:\n",
    "                    queue.append(cur.left)\n",
    "                if cur.right:\n",
    "                    queue.append(cur.right)\n",
    "                left, right = cur.left, cur.right\n",
    "                cur.left = right\n",
    "                cur.right = left\n",
    "        return root"
   ]
  },
  {
   "cell_type": "code",
   "execution_count": null,
   "metadata": {},
   "outputs": [],
   "source": [
    "# 递归法：前序遍历\n",
    "# 这个又简洁又好！！！选这个！！！\n",
    "class Solution:\n",
    "    def invertTree(self, root: TreeNode) -> TreeNode:\n",
    "        if not root:\n",
    "            return None\n",
    "        root.left, root.right = root.right, root.left\n",
    "        self.invertTree(root.left)\n",
    "        self.invertTree(root.right)\n",
    "        return root"
   ]
  },
  {
   "cell_type": "code",
   "execution_count": null,
   "metadata": {},
   "outputs": [],
   "source": [
    "# 迭代法：前序遍历：\n",
    "# oh跟我写的一样\n",
    "class Solution:\n",
    "    def invertTree(self, root: TreeNode) -> TreeNode:\n",
    "        if not root:\n",
    "            return None      \n",
    "        stack = [root]        \n",
    "        while stack:\n",
    "            node = stack.pop()   \n",
    "            node.left, node.right = node.right, node.left                   \n",
    "            if node.left:\n",
    "                stack.append(node.left)\n",
    "            if node.right:\n",
    "                stack.append(node.right)  \n",
    "        return root"
   ]
  },
  {
   "cell_type": "code",
   "execution_count": null,
   "metadata": {},
   "outputs": [],
   "source": [
    "# 递归法：中序遍历：\n",
    "# 其实前中后好像没区别？因为不需要return什么顺序，只需要最后完成这个tree就行\n",
    "class Solution:\n",
    "    def invertTree(self, root: TreeNode) -> TreeNode:\n",
    "        if not root:\n",
    "            return None\n",
    "        self.invertTree(root.left)\n",
    "        root.left, root.right = root.right, root.left\n",
    "        self.invertTree(root.left) # 注意因为左右已经调换了，所以还是left\n",
    "        return root"
   ]
  },
  {
   "cell_type": "code",
   "execution_count": null,
   "metadata": {},
   "outputs": [],
   "source": [
    "# 迭代法：中序遍历：\n",
    "class Solution:\n",
    "    def invertTree(self, root: TreeNode) -> TreeNode:\n",
    "        if not root:\n",
    "            return None      \n",
    "        stack = [root]        \n",
    "        while stack:\n",
    "            node = stack.pop()                   \n",
    "            if node.left:\n",
    "                stack.append(node.left)\n",
    "            node.left, node.right = node.right, node.left               \n",
    "            if node.left:\n",
    "                stack.append(node.left)       \n",
    "        return root"
   ]
  },
  {
   "cell_type": "code",
   "execution_count": null,
   "metadata": {},
   "outputs": [],
   "source": [
    "# 递归法：后序遍历：\n",
    "class Solution:\n",
    "    def invertTree(self, root: TreeNode) -> TreeNode:\n",
    "        if not root:\n",
    "            return None\n",
    "        self.invertTree(root.left)\n",
    "        self.invertTree(root.right)\n",
    "        root.left, root.right = root.right, root.left\n",
    "        return root"
   ]
  },
  {
   "cell_type": "code",
   "execution_count": null,
   "metadata": {},
   "outputs": [],
   "source": [
    "# 迭代法：后序遍历：\n",
    "class Solution:\n",
    "    def invertTree(self, root: TreeNode) -> TreeNode:\n",
    "        if not root:\n",
    "            return None      \n",
    "        stack = [root]        \n",
    "        while stack:\n",
    "            node = stack.pop()                   \n",
    "            if node.left:\n",
    "                stack.append(node.left)\n",
    "            if node.right:\n",
    "                stack.append(node.right)  \n",
    "            node.left, node.right = node.right, node.left               \n",
    "     \n",
    "        return root"
   ]
  },
  {
   "cell_type": "code",
   "execution_count": null,
   "metadata": {},
   "outputs": [],
   "source": [
    "# 迭代法：广度优先遍历（层序遍历）：\n",
    "class Solution:\n",
    "    def invertTree(self, root: TreeNode) -> TreeNode:\n",
    "        if not root: \n",
    "            return None\n",
    "\n",
    "        queue = collections.deque([root])    \n",
    "        while queue:\n",
    "            for i in range(len(queue)):\n",
    "                node = queue.popleft()\n",
    "                node.left, node.right = node.right, node.left\n",
    "                if node.left: queue.append(node.left)\n",
    "                if node.right: queue.append(node.right)\n",
    "        return root   "
   ]
  },
  {
   "cell_type": "markdown",
   "metadata": {},
   "source": [
    "# 101. Symmetric Tree \n",
    "* https://leetcode.com/problems/symmetric-tree/description/\n",
    "* https://programmercarl.com/0101.%E5%AF%B9%E7%A7%B0%E4%BA%8C%E5%8F%89%E6%A0%91.html"
   ]
  },
  {
   "cell_type": "code",
   "execution_count": null,
   "metadata": {},
   "outputs": [],
   "source": [
    "# 自己写的 迭代法\n",
    "class Solution:\n",
    "    def isSymmetric(self, root: Optional[TreeNode]) -> bool:\n",
    "        if not root:\n",
    "            return True\n",
    "        queue = collections.deque([root])\n",
    "        while queue:\n",
    "            level = []\n",
    "            for _ in range(len(queue)):\n",
    "                cur = queue.popleft()\n",
    "                if cur.left:\n",
    "                    queue.append(cur.left)\n",
    "                    level.append(cur.left.val)\n",
    "                else:\n",
    "                    level.append(None)\n",
    "                if cur.right:\n",
    "                    queue.append(cur.right)\n",
    "                    level.append(cur.right.val)\n",
    "                else:\n",
    "                    level.append(None)\n",
    "            if level != level[::-1]:\n",
    "                return False\n",
    "        return True"
   ]
  },
  {
   "cell_type": "code",
   "execution_count": null,
   "metadata": {},
   "outputs": [],
   "source": [
    "# 递归法:\n",
    "class Solution:\n",
    "    def isSymmetric(self, root: TreeNode) -> bool:\n",
    "        if not root:\n",
    "            return True\n",
    "        return self.compare(root.left, root.right)\n",
    "        \n",
    "    def compare(self, left, right):\n",
    "        #首先排除空节点的情况\n",
    "        if left == None and right != None: \n",
    "            return False\n",
    "        elif left != None and right == None: \n",
    "            return False\n",
    "        elif left == None and right == None: \n",
    "            return True\n",
    "        #排除了空节点，再排除数值不相同的情况\n",
    "        elif left.val != right.val: \n",
    "            return False\n",
    "        \n",
    "        #此时就是：左右节点都不为空，且数值相同的情况\n",
    "        #此时才做递归，做下一层的判断\n",
    "        outside = self.compare(left.left, right.right) #左子树：左、 右子树：右\n",
    "        inside = self.compare(left.right, right.left) #左子树：右、 右子树：左\n",
    "        isSame = outside and inside #左子树：中、 右子树：中 （逻辑处理）\n",
    "        return isSame"
   ]
  },
  {
   "cell_type": "code",
   "execution_count": null,
   "metadata": {},
   "outputs": [],
   "source": [
    "# 迭代法： 使用队列\n",
    "import collections\n",
    "class Solution:\n",
    "    def isSymmetric(self, root: TreeNode) -> bool:\n",
    "        if not root:\n",
    "            return True\n",
    "        queue = collections.deque()\n",
    "        queue.append(root.left)  # 将左子树头结点加入队列\n",
    "        queue.append(root.right) # 将右子树头结点加入队列\n",
    "        while queue: # 接下来就要判断这这两个树是否相互翻转\n",
    "            leftNode = queue.popleft()\n",
    "            rightNode = queue.popleft()\n",
    "            if not leftNode and not rightNode: #左节点为空、右节点为空，此时说明是对称的\n",
    "                continue\n",
    "            \n",
    "            #左右一个节点不为空，或者都不为空但数值不相同，返回false\n",
    "            if not leftNode or not rightNode or leftNode.val != rightNode.val:\n",
    "                return False\n",
    "            queue.append(leftNode.left) #加入左节点左孩子\n",
    "            queue.append(rightNode.right) #加入右节点右孩子\n",
    "            queue.append(leftNode.right) #加入左节点右孩子\n",
    "            queue.append(rightNode.left) #加入右节点左孩子\n",
    "        return True"
   ]
  },
  {
   "cell_type": "code",
   "execution_count": null,
   "metadata": {},
   "outputs": [],
   "source": [
    "# 迭代法：使用栈\n",
    "class Solution:\n",
    "    def isSymmetric(self, root: TreeNode) -> bool:\n",
    "        if not root:\n",
    "            return True\n",
    "        st = [] #这里改成了栈\n",
    "        st.append(root.left)\n",
    "        st.append(root.right)\n",
    "        while st:\n",
    "            rightNode = st.pop()\n",
    "            leftNode = st.pop()\n",
    "            if not leftNode and not rightNode:\n",
    "                continue\n",
    "            if not leftNode or not rightNode or leftNode.val != rightNode.val:\n",
    "                return False\n",
    "            st.append(leftNode.left)\n",
    "            st.append(rightNode.right)\n",
    "            st.append(leftNode.right)\n",
    "            st.append(rightNode.left)\n",
    "        return True"
   ]
  },
  {
   "cell_type": "code",
   "execution_count": null,
   "metadata": {},
   "outputs": [],
   "source": [
    "# 层次遍历\n",
    "# 跟我写的差不多...我现在也就只会层序遍历...\n",
    "class Solution:\n",
    "    def isSymmetric(self, root: TreeNode) -> bool:\n",
    "        if not root:\n",
    "            return True\n",
    "        \n",
    "        queue = collections.deque([root.left, root.right])\n",
    "        \n",
    "        while queue:\n",
    "            level_size = len(queue)\n",
    "            \n",
    "            if level_size % 2 != 0:\n",
    "                return False\n",
    "            \n",
    "            level_vals = []\n",
    "            for i in range(level_size):\n",
    "                node = queue.popleft()\n",
    "                if node:\n",
    "                    level_vals.append(node.val)\n",
    "                    queue.append(node.left)\n",
    "                    queue.append(node.right)\n",
    "                else:\n",
    "                    level_vals.append(None)\n",
    "                    \n",
    "            if level_vals != level_vals[::-1]:\n",
    "                return False\n",
    "            \n",
    "        return True"
   ]
  }
 ],
 "metadata": {
  "kernelspec": {
   "display_name": "Python 3",
   "language": "python",
   "name": "python3"
  },
  "language_info": {
   "codemirror_mode": {
    "name": "ipython",
    "version": 3
   },
   "file_extension": ".py",
   "mimetype": "text/x-python",
   "name": "python",
   "nbconvert_exporter": "python",
   "pygments_lexer": "ipython3",
   "version": "3.12.0"
  }
 },
 "nbformat": 4,
 "nbformat_minor": 2
}
