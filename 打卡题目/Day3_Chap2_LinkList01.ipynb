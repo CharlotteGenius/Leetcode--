{
 "cells": [
  {
   "cell_type": "markdown",
   "metadata": {},
   "source": [
    "# 203  Remove element in Linked List\n",
    "Given the head of a linked list and an integer val, remove all the nodes of the linked list that has Node.val == val, and return the new head.\n",
    "* Example:\n",
    "\n",
    "Input: head = [1,2,6,3,4,5,6], val = 6\n",
    "\n",
    "Output: [1,2,3,4,5]\n"
   ]
  },
  {
   "cell_type": "markdown",
   "metadata": {},
   "source": [
    "## The key is Dummy head!\n",
    "* Time: O(n)\n",
    "* Space: O(1) - operate on the original linked list"
   ]
  },
  {
   "cell_type": "markdown",
   "metadata": {},
   "source": [
    "## "
   ]
  },
  {
   "cell_type": "code",
   "execution_count": null,
   "metadata": {},
   "outputs": [],
   "source": [
    "# Definition for singly-linked list.\n",
    "# class ListNode:\n",
    "#     def __init__(self, val=0, next=None):\n",
    "#         self.val = val\n",
    "#         self.next = next\n",
    "class Solution:\n",
    "    def removeElements(self, head: Optional[ListNode], val: int) -> Optional[ListNode]:\n",
    "        dummy = ListNode(next=head)\n",
    "        curr = dummy\n",
    "        while curr.next != None:\n",
    "            if curr.next.val == val:\n",
    "                curr.next = curr.next.next\n",
    "            else:\n",
    "                curr = curr.next\n",
    "        return dummy.next"
   ]
  },
  {
   "cell_type": "markdown",
   "metadata": {},
   "source": [
    "# 707 Design Linked list\n",
    "https://leetcode.com/problems/design-linked-list/description/\n",
    "\n",
    "Design your implementation of the linked list. You can choose to use a singly or doubly linked list.\n",
    "A node in a singly linked list should have two attributes: val and next. val is the value of the current node, and next is a pointer/reference to the next node.\n",
    "If you want to use the doubly linked list, you will need one more attribute prev to indicate the previous node in the linked list. Assume all nodes in the linked list are 0-indexed.\n"
   ]
  },
  {
   "cell_type": "code",
   "execution_count": null,
   "metadata": {},
   "outputs": [],
   "source": [
    "class ListNode:\n",
    "    def __init__(self, val=None, next=None):\n",
    "        self.val = val\n",
    "        self.next = next\n",
    "\n",
    "class MyLinkedList:\n",
    "    def __init__(self):\n",
    "        self.dummy = ListNode()\n",
    "        self.size = 0\n",
    "        \n",
    "    def get(self, index: int) -> int:\n",
    "        if index < 0 or index >= self.size:\n",
    "            return -1\n",
    "        curr = self.dummy.next\n",
    "        for i in range(index):\n",
    "            curr = curr.next\n",
    "        return curr.val\n",
    "\n",
    "    def addAtHead(self, val: int) -> None:\n",
    "        self.dummy.next = ListNode(val=val, next=self.dummy.next)\n",
    "        self.size += 1\n",
    "\n",
    "    def addAtTail(self, val: int) -> None:\n",
    "        curr = self.dummy\n",
    "        while curr.next != None:\n",
    "            curr = curr.next\n",
    "        curr.next = ListNode(val=val)\n",
    "        self.size += 1\n",
    "        \n",
    "    def addAtIndex(self, index: int, val: int) -> None:\n",
    "        if index < 0 or index > self.size:\n",
    "            return \n",
    "\n",
    "        curr = self.dummy\n",
    "        for i in range(index):\n",
    "            curr = curr.next\n",
    "        curr.next = ListNode(val=val, next=curr.next)\n",
    "        self.size += 1\n",
    "\n",
    "    def deleteAtIndex(self, index: int) -> None:\n",
    "        if index < 0 or index >= self.size:\n",
    "            return \n",
    "\n",
    "        curr = self.dummy\n",
    "        for i in range(index):\n",
    "            curr = curr.next\n",
    "        curr.next = curr.next.next\n",
    "        self.size -= 1\n",
    "        \n",
    "\n",
    "\n",
    "# Your MyLinkedList object will be instantiated and called as such:\n",
    "# obj = MyLinkedList()\n",
    "# param_1 = obj.get(index)\n",
    "# obj.addAtHead(val)\n",
    "# obj.addAtTail(val)\n",
    "# obj.addAtIndex(index,val)\n",
    "# obj.deleteAtIndex(index)"
   ]
  },
  {
   "cell_type": "markdown",
   "metadata": {},
   "source": [
    "# 206. Reverse Linked List\n",
    "https://leetcode.com/problems/reverse-linked-list/description/\n",
    "\n",
    "Given the head of a singly linked list, reverse the list, and return the reversed list."
   ]
  },
  {
   "cell_type": "markdown",
   "metadata": {},
   "source": [
    "## My own solution:\n",
    "create a list node everytime, with the value found, it can pass, but seems not that decent...\n",
    "\n",
    "It's a waste of space!!"
   ]
  },
  {
   "cell_type": "code",
   "execution_count": null,
   "metadata": {},
   "outputs": [],
   "source": [
    "# Definition for singly-linked list.\n",
    "# class ListNode:\n",
    "#     def __init__(self, val=0, next=None):\n",
    "#         self.val = val\n",
    "#         self.next = next\n",
    "class Solution:\n",
    "    def reverseList(self, head: Optional[ListNode]) -> Optional[ListNode]:\n",
    "        if head == None:\n",
    "            return head\n",
    "        curr = head\n",
    "        new = ListNode(val=head.val)\n",
    "        while curr.next != None:\n",
    "            curr = curr.next\n",
    "            new = ListNode(val=curr.val, next=new)\n",
    "        return new"
   ]
  },
  {
   "cell_type": "markdown",
   "metadata": {},
   "source": [
    "## Double Pointers\n",
    "https://programmercarl.com/0206.%E7%BF%BB%E8%BD%AC%E9%93%BE%E8%A1%A8.html#%E6%80%9D%E8%B7%AF\n"
   ]
  },
  {
   "cell_type": "code",
   "execution_count": null,
   "metadata": {},
   "outputs": [],
   "source": [
    "# Definition for singly-linked list.\n",
    "# class ListNode:\n",
    "#     def __init__(self, val=0, next=None):\n",
    "#         self.val = val\n",
    "#         self.next = next\n",
    "class Solution:\n",
    "    def reverseList(self, head: Optional[ListNode]) -> Optional[ListNode]:\n",
    "        pre = None\n",
    "        curr = head\n",
    "        while curr != None:\n",
    "            temp = curr.next   # 保存一下 cur的下一个节点，因为接下来要改变cur->next\n",
    "            curr.next = pre\n",
    "            pre = curr  # Remember to update pre!\n",
    "            curr = temp\n",
    "        return pre\n"
   ]
  },
  {
   "cell_type": "markdown",
   "metadata": {},
   "source": [
    "## Recurrence\n",
    "Same logic with double pointers.\n",
    "\n",
    "This will put the reverse step in one function reserse(), every time takes a curr and pre as inputs, reverse them, and continue to reverse until curr is None."
   ]
  },
  {
   "cell_type": "code",
   "execution_count": null,
   "metadata": {},
   "outputs": [],
   "source": [
    "class Solution:\n",
    "    def reverseList(self, head: ListNode) -> ListNode:\n",
    "        return self.reverse(head, None)\n",
    "    \n",
    "    def reverse(self, cur: ListNode, pre: ListNode) -> ListNode:\n",
    "        if cur == None:\n",
    "            return pre\n",
    "        temp = cur.next\n",
    "        cur.next = pre\n",
    "        return self.reverse(temp, cur)\n"
   ]
  }
 ],
 "metadata": {
  "language_info": {
   "name": "python"
  }
 },
 "nbformat": 4,
 "nbformat_minor": 2
}
