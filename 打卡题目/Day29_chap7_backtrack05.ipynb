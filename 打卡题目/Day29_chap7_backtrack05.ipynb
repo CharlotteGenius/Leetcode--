{
 "cells": [
  {
   "cell_type": "markdown",
   "metadata": {},
   "source": [
    "# 491. Non-decreasing Subsequences\n",
    "* https://leetcode.com/problems/non-decreasing-subsequences/description/\n",
    "* https://programmercarl.com/0491.%E9%80%92%E5%A2%9E%E5%AD%90%E5%BA%8F%E5%88%97.html"
   ]
  },
  {
   "cell_type": "code",
   "execution_count": null,
   "metadata": {},
   "outputs": [],
   "source": [
    "class Solution:\n",
    "    def findSubsequences(self, nums: List[int]) -> List[List[int]]:\n",
    "        self.path = []\n",
    "        self.res = []\n",
    "        self.backtrack(nums, 0)\n",
    "        return self.res\n",
    "        \n",
    "    def backtrack(self, nums, startind):\n",
    "        if len(self.path) >= 2:\n",
    "            self.res.append(self.path[:])\n",
    "        \n",
    "        uset = set()\n",
    "        for i in range(startind, len(nums)):\n",
    "            if (self.path and nums[i] < self.path[-1]) or nums[i] in uset:\n",
    "                continue\n",
    "            # if len(self.path)==0 or nums[i] >= self.path[-1]:\n",
    "            uset.add(nums[i])\n",
    "            self.path.append(nums[i])\n",
    "            self.backtrack(nums, i+1)\n",
    "            self.path = self.path[:-1]"
   ]
  },
  {
   "cell_type": "markdown",
   "metadata": {},
   "source": [
    "# 46. Permutations\n",
    "* https://leetcode.com/problems/permutations/description/\n",
    "* https://programmercarl.com/0046.%E5%85%A8%E6%8E%92%E5%88%97.html"
   ]
  },
  {
   "cell_type": "code",
   "execution_count": null,
   "metadata": {},
   "outputs": [],
   "source": [
    "class Solution:\n",
    "    def permute(self, nums: List[int]) -> List[List[int]]:\n",
    "        self.path = []\n",
    "        self.used = [False] * len(nums)\n",
    "        self.res = []\n",
    "        self.backtrack(nums)\n",
    "        return self.res\n",
    "\n",
    "    def backtrack(self, nums):\n",
    "        if len(self.path) == len(nums):\n",
    "            self.res.append(self.path[:])\n",
    "            return\n",
    "        for i in range(len(nums)):\n",
    "            if self.used[i]:\n",
    "                continue\n",
    "            self.used[i] = True\n",
    "            self.path.append(nums[i])\n",
    "            self.backtrack(nums)\n",
    "            self.path = self.path[:-1]\n",
    "            self.used[i] = False"
   ]
  },
  {
   "cell_type": "markdown",
   "metadata": {},
   "source": [
    "# 47. Permutations II\n",
    "* https://leetcode.com/problems/permutations-ii/description/\n",
    "* https://programmercarl.com/0047.%E5%85%A8%E6%8E%92%E5%88%97II.html"
   ]
  },
  {
   "cell_type": "code",
   "execution_count": null,
   "metadata": {},
   "outputs": [],
   "source": [
    "class Solution:\n",
    "    def permuteUnique(self, nums: List[int]) -> List[List[int]]:\n",
    "        self.path = []\n",
    "        self.used = [False] * len(nums)\n",
    "        self.res = []\n",
    "        self.backtrack(nums)\n",
    "        return self.res\n",
    "\n",
    "    def backtrack(self, nums):\n",
    "        if len(self.path) == len(nums):\n",
    "            self.res.append(self.path[:])\n",
    "            return\n",
    "        uset = set()\n",
    "        for i in range(len(nums)):\n",
    "            if self.used[i] or nums[i] in uset:\n",
    "                continue\n",
    "            uset.add(nums[i])\n",
    "            self.used[i] = True\n",
    "            self.path.append(nums[i])\n",
    "            self.backtrack(nums)\n",
    "            self.path = self.path[:-1]\n",
    "            self.used[i] = False"
   ]
  }
 ],
 "metadata": {
  "kernelspec": {
   "display_name": "Python 3",
   "language": "python",
   "name": "python3"
  },
  "language_info": {
   "name": "python",
   "version": "3.12.0"
  }
 },
 "nbformat": 4,
 "nbformat_minor": 2
}
