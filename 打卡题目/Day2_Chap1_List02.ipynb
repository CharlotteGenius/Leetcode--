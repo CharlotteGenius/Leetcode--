{
 "cells": [
  {
   "cell_type": "markdown",
   "metadata": {},
   "source": [
    "# 977 Sorted Squares\n",
    "Given an integer array nums sorted in non-decreasing order, return an array of the squares of each number sorted in non-decreasing order.\n",
    "\n",
    "* Example 1:\n",
    "\n",
    "Input: nums = [-4,-1,0,3,10]\n",
    "\n",
    "Output: [0,1,9,16,100]\n",
    "\n",
    "Explanation: After squaring, the array becomes [16,1,0,9,100].\n",
    "\n",
    "After sorting, it becomes [0,1,9,16,100].\n",
    "\n",
    "* Example 2:\n",
    "\n",
    "Input: nums = [-7,-3,2,3,11]\n",
    "\n",
    "Output: [4,9,9,49,121]\n"
   ]
  },
  {
   "cell_type": "markdown",
   "metadata": {},
   "source": [
    "## Brute force\n",
    "Time complexity:\n",
    "* for : O(n)\n",
    "* calculate: O(1)\n",
    "* sort: O(nlogn)\n",
    "* Overall: O(nlogn)\n",
    "\n",
    "Space complexity:\n",
    "* Create a new space: O(n)\n"
   ]
  },
  {
   "cell_type": "code",
   "execution_count": null,
   "metadata": {},
   "outputs": [],
   "source": [
    "class Solution:\n",
    "    def sortedSquares(self, nums: List[int]) -> List[int]:\n",
    "        snums = []\n",
    "        for num in nums:\n",
    "            snums.append(num * num)\n",
    "        snums.sort()\n",
    "        return snums"
   ]
  },
  {
   "cell_type": "markdown",
   "metadata": {},
   "source": [
    "## Double pointer\n",
    "Because we know that the largest are on the sides, the smallest are in the middle.\n",
    "\n",
    "Pointers from sides and moving to center."
   ]
  },
  {
   "cell_type": "code",
   "execution_count": null,
   "metadata": {},
   "outputs": [],
   "source": [
    "class Solution:\n",
    "    def sortedSquares(self, nums: List[int]) -> List[int]:\n",
    "        N = len(nums)\n",
    "        left = 0\n",
    "        right = N-1\n",
    "        sqrs = [0]*N # Define a result space\n",
    "        ind = N-1 # Store from the largest values\n",
    "        while ind >= 0: # or use left <= right\n",
    "            lsqr = nums[left] ** 2\n",
    "            rsqr = nums[right] ** 2\n",
    "            if lsqr >= rsqr:\n",
    "                sqrs[ind] = lsqr\n",
    "                left += 1\n",
    "            else:\n",
    "                sqrs[ind] = rsqr\n",
    "                right -= 1\n",
    "            ind -= 1\n",
    "        return sqrs"
   ]
  },
  {
   "cell_type": "markdown",
   "metadata": {},
   "source": [
    "# 209. Minimum Size Subarray Sum\n",
    "Given an array of positive integers nums and a positive integer target, return the minimal length of a \n",
    "subarray whose sum is greater than or equal to target. If there is no such subarray, return 0 instead.\n",
    "\n",
    "* Example 1:\n",
    "\n",
    "Input: target = 7, nums = [2,3,1,2,4,3]\n",
    "\n",
    "Output: 2\n",
    "\n",
    "Explanation: The subarray [4,3] has the minimal length under the problem constraint.\n",
    "\n",
    "* Example 2:\n",
    "\n",
    "Input: target = 4, nums = [1,4,4]\n",
    "\n",
    "Output: 1\n",
    "\n",
    "* Example 3:\n",
    "\n",
    "Input: target = 11, nums = [1,1,1,1,1,1,1,1]\n",
    "\n",
    "Output: 0"
   ]
  },
  {
   "cell_type": "markdown",
   "metadata": {},
   "source": [
    "## Brute Force\n",
    "Two for loops: O(n^2)"
   ]
  },
  {
   "cell_type": "code",
   "execution_count": null,
   "metadata": {},
   "outputs": [],
   "source": [
    "class Solution:\n",
    "    def minSubArrayLen(self, target: int, nums: List[int]) -> int:\n",
    "        l = len(nums)+1\n",
    "        for i in range(len(nums)):\n",
    "            s = 0\n",
    "            for j in range(i, len(nums)):\n",
    "                s += nums[j]\n",
    "                if s >= target:\n",
    "                    l = min(l, j-i+1) # Note the length is j-i+1\n",
    "        if l > len(nums):\n",
    "            return 0\n",
    "        else:\n",
    "            return l"
   ]
  },
  {
   "cell_type": "markdown",
   "metadata": {},
   "source": [
    "## Double Pointers\n",
    "left and right, if sum < target, enlarge the window by moving the right pointer;\n",
    "\n",
    "if sum >= target, shrink the window by moving the left pointer.\n",
    "\n",
    "Until sum < target and right pointer is on the right side.\n",
    "\n",
    "* O(n)"
   ]
  },
  {
   "cell_type": "code",
   "execution_count": null,
   "metadata": {},
   "outputs": [],
   "source": [
    "class Solution:\n",
    "    def minSubArrayLen(self, target: int, nums: List[int]) -> int:\n",
    "        i = 0\n",
    "        j = 0\n",
    "        s = nums[0]\n",
    "        l = len(nums)+1\n",
    "        while True:\n",
    "            if s >= target:\n",
    "                l = min(l, j-i+1)\n",
    "                s -= nums[i]\n",
    "                i += 1\n",
    "            elif j < len(nums)-1:\n",
    "                j += 1\n",
    "                s += nums[j]\n",
    "            else:\n",
    "                break\n",
    "        if l == len(nums)+1:\n",
    "            return 0\n",
    "        else:\n",
    "            return l"
   ]
  },
  {
   "cell_type": "markdown",
   "metadata": {},
   "source": [
    "# 59. Spiral Matrix II\n",
    "Given a positive integer n, generate an n x n matrix filled with elements from 1 to n^2 in spiral order.\n",
    "\n",
    "* Example 1:\n",
    "\n",
    "Input: n = 3\n",
    "\n",
    "Output: [[1,2,3],[8,9,4],[7,6,5]]\n",
    "\n",
    "* Example 2:\n",
    "\n",
    "Input: n = 1\n",
    "\n",
    "Output: [[1]]\n",
    "\n",
    "“模拟行为：\n",
    "模拟类的题目在数组中很常见，不涉及到什么算法，就是单纯的模拟，十分考察大家对代码的掌控能力。\n",
    "\n",
    "在这道题目中，我们再一次介绍到了循环不变量原则，其实这也是写程序中的重要原则。\n",
    "\n",
    "相信大家有遇到过这种情况： 感觉题目的边界调节超多，一波接着一波的判断，找边界，拆了东墙补西墙，好不容易运行通过了，代码写的十分冗余，毫无章法，其实真正解决题目的代码都是简洁的，或者有原则性的，大家可以在这道题目中体会到这一点。”"
   ]
  },
  {
   "cell_type": "code",
   "execution_count": null,
   "metadata": {},
   "outputs": [],
   "source": [
    "class Solution:\n",
    "    def generateMatrix(self, n: int) -> List[List[int]]:\n",
    "        nums = [[0] * n for _ in range(n)]\n",
    "        startx, starty = 0, 0               # 起始点，每一圈都重新有个起始点\n",
    "        loop = n // 2   \n",
    "        count = 1                           # 计数\n",
    "\n",
    "        for offset in range(1, loop + 1) :\n",
    "            for i in range(starty, n - offset) :    # 从左至右，左闭右开\n",
    "                nums[startx][i] = count\n",
    "                count += 1\n",
    "            for i in range(startx, n - offset) :    # 从上至下\n",
    "                nums[i][n - offset] = count\n",
    "                count += 1\n",
    "            for i in range(n - offset, starty, -1) : # 从右至左\n",
    "                nums[n - offset][i] = count\n",
    "                count += 1\n",
    "            for i in range(n - offset, startx, -1) : # 从下至上\n",
    "                nums[i][starty] = count\n",
    "                count += 1                \n",
    "            startx += 1         # 更新起始点\n",
    "            starty += 1\n",
    "\n",
    "        if n % 2 != 0 :\t\t\t# n为奇数时，填充中心点\n",
    "            nums[mid][mid] = count \n",
    "        return nums"
   ]
  }
 ],
 "metadata": {
  "kernelspec": {
   "display_name": "Python 3",
   "language": "python",
   "name": "python3"
  },
  "language_info": {
   "codemirror_mode": {
    "name": "ipython",
    "version": 3
   },
   "file_extension": ".py",
   "mimetype": "text/x-python",
   "name": "python",
   "nbconvert_exporter": "python",
   "pygments_lexer": "ipython3",
   "version": "3.12.0"
  }
 },
 "nbformat": 4,
 "nbformat_minor": 2
}
