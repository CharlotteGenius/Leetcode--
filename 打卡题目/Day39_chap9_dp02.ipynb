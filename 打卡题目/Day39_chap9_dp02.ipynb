{
 "cells": [
  {
   "cell_type": "markdown",
   "metadata": {},
   "source": [
    "# 62. Unique Paths\n",
    "* https://leetcode.com/problems/unique-paths/description/\n",
    "* https://programmercarl.com/0062.%E4%B8%8D%E5%90%8C%E8%B7%AF%E5%BE%84.html"
   ]
  },
  {
   "cell_type": "code",
   "execution_count": null,
   "metadata": {},
   "outputs": [],
   "source": [
    "class Solution:\n",
    "    def uniquePaths(self, m: int, n: int) -> int:\n",
    "        T = [[0]*(n) for _ in range(m)]\n",
    "        for i in range(m):\n",
    "            T[i][0] = 1\n",
    "        for j in range(n):\n",
    "            T[0][j] = 1\n",
    "        for i in range(1, m):\n",
    "            for j in range(1, n):\n",
    "                T[i][j] = T[i-1][j] + T[i][j-1]\n",
    "        return T[m-1][n-1]"
   ]
  },
  {
   "cell_type": "code",
   "execution_count": null,
   "metadata": {},
   "outputs": [],
   "source": [
    "class Solution:\n",
    "    def uniquePaths(self, m: int, n: int) -> int:\n",
    "        if m == 1 or n == 1:\n",
    "            return 1\n",
    "        return self.uniquePaths(m - 1, n) + self.uniquePaths(m, n - 1)"
   ]
  },
  {
   "cell_type": "code",
   "execution_count": null,
   "metadata": {},
   "outputs": [],
   "source": [
    "class Solution:\n",
    "    def uniquePaths(self, m: int, n: int) -> int:\n",
    "        # 创建一个一维列表用于存储每列的唯一路径数\n",
    "        dp = [1] * n\n",
    "        \n",
    "        # 计算每个单元格的唯一路径数\n",
    "        for j in range(1, m):\n",
    "            for i in range(1, n):\n",
    "                dp[i] += dp[i - 1]\n",
    "        \n",
    "        # 返回右下角单元格的唯一路径数\n",
    "        return dp[n - 1]"
   ]
  },
  {
   "cell_type": "code",
   "execution_count": null,
   "metadata": {},
   "outputs": [],
   "source": [
    "class Solution:\n",
    "    def uniquePaths(self, m: int, n: int) -> int:\n",
    "        numerator = 1  # 分子\n",
    "        denominator = m - 1  # 分母\n",
    "        count = m - 1  # 计数器，表示剩余需要计算的乘积项个数\n",
    "        t = m + n - 2  # 初始乘积项\n",
    "        while count > 0:\n",
    "            numerator *= t  # 计算乘积项的分子部分\n",
    "            t -= 1  # 递减乘积项\n",
    "            while denominator != 0 and numerator % denominator == 0:\n",
    "                numerator //= denominator  # 约简分子\n",
    "                denominator -= 1  # 递减分母\n",
    "            count -= 1  # 计数器减1，继续下一项的计算\n",
    "        return numerator  # 返回最终的唯一路径数"
   ]
  },
  {
   "cell_type": "markdown",
   "metadata": {},
   "source": [
    "# 63. Unique Paths II\n",
    "* https://leetcode.com/problems/unique-paths-ii/description/\n",
    "* https://programmercarl.com/0063.%E4%B8%8D%E5%90%8C%E8%B7%AF%E5%BE%84II.html"
   ]
  },
  {
   "cell_type": "code",
   "execution_count": null,
   "metadata": {},
   "outputs": [],
   "source": [
    "class Solution:\n",
    "    def uniquePathsWithObstacles(self, obstacleGrid: List[List[int]]) -> int:\n",
    "        if obstacleGrid[0][0] == 1 or obstacleGrid[-1][-1] == 1:\n",
    "            return 0\n",
    "        m = len(obstacleGrid)\n",
    "        n = len(obstacleGrid[0])\n",
    "        T = [[0]*(n) for _ in range(m)]\n",
    "        for i in range(m):\n",
    "            if obstacleGrid[i][0] != 1:\n",
    "                T[i][0] = 1\n",
    "            else:\n",
    "                break\n",
    "        for j in range(n):\n",
    "            if obstacleGrid[0][j] != 1:\n",
    "                T[0][j] = 1\n",
    "            else:\n",
    "                break\n",
    "        for i in range(1, m):\n",
    "            for j in range(1, n):\n",
    "                if obstacleGrid[i][j] != 1:\n",
    "                    T[i][j] = T[i-1][j] + T[i][j-1]\n",
    "        return T[m-1][n-1]"
   ]
  }
 ],
 "metadata": {
  "language_info": {
   "name": "python"
  }
 },
 "nbformat": 4,
 "nbformat_minor": 2
}
