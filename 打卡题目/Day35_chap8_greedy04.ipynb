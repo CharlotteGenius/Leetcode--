{
 "cells": [
  {
   "cell_type": "markdown",
   "metadata": {},
   "source": [
    "# 860. Lemonade Change\n",
    "* https://leetcode.com/problems/lemonade-change/description/\n",
    "* https://programmercarl.com/0860.%E6%9F%A0%E6%AA%AC%E6%B0%B4%E6%89%BE%E9%9B%B6.html"
   ]
  },
  {
   "cell_type": "code",
   "execution_count": null,
   "metadata": {},
   "outputs": [],
   "source": [
    "# 自己写的hhh 光荣沦为最慢的一档\n",
    "class Solution:\n",
    "    def lemonadeChange(self, bills: List[int]) -> bool:\n",
    "        hand = []\n",
    "        for b in bills:\n",
    "            if b == 5:\n",
    "                hand.append(5)\n",
    "            elif b == 10:\n",
    "                if 5 in hand:\n",
    "                    hand.remove(5)\n",
    "                    hand.append(10)\n",
    "                else:\n",
    "                    return False\n",
    "            elif b == 20:\n",
    "                hand.sort()\n",
    "                if 5 in hand:\n",
    "                    if 10 in hand:\n",
    "                        hand.remove(10)\n",
    "                        hand.remove(5)\n",
    "                    elif hand[:3] == [5, 5, 5]:\n",
    "                        hand = hand[3:]\n",
    "                    else:\n",
    "                        return False\n",
    "                else:\n",
    "                    return False\n",
    "        return True\n",
    "                        "
   ]
  },
  {
   "cell_type": "code",
   "execution_count": null,
   "metadata": {},
   "outputs": [],
   "source": [
    "# 这样比我的list要快多了！！！！聪明！\n",
    "class Solution:\n",
    "    def lemonadeChange(self, bills: List[int]) -> bool:\n",
    "        five = 0\n",
    "        ten = 0\n",
    "        twenty = 0\n",
    "        \n",
    "        for bill in bills:\n",
    "            # 情况一：收到5美元\n",
    "            if bill == 5:\n",
    "                five += 1\n",
    "            \n",
    "            # 情况二：收到10美元\n",
    "            if bill == 10:\n",
    "                if five <= 0:\n",
    "                    return False\n",
    "                ten += 1\n",
    "                five -= 1\n",
    "            \n",
    "            # 情况三：收到20美元\n",
    "            if bill == 20:\n",
    "                # 先尝试使用10美元和5美元找零\n",
    "                if five > 0 and ten > 0:\n",
    "                    five -= 1\n",
    "                    ten -= 1\n",
    "                    #twenty += 1\n",
    "                # 如果无法使用10美元找零，则尝试使用三张5美元找零\n",
    "                elif five >= 3:\n",
    "                    five -= 3\n",
    "                    #twenty += 1\n",
    "                else:\n",
    "                    return False\n",
    "        \n",
    "        return True"
   ]
  },
  {
   "cell_type": "markdown",
   "metadata": {},
   "source": [
    "# 406. Queue Reconstruction by Height\n",
    "* https://leetcode.com/problems/queue-reconstruction-by-height/\n",
    "* https://programmercarl.com/0406.%E6%A0%B9%E6%8D%AE%E8%BA%AB%E9%AB%98%E9%87%8D%E5%BB%BA%E9%98%9F%E5%88%97.html\n",
    "\n",
    "假设有打乱顺序的一群人站成一个队列，数组 people 表示队列中一些人的属性（不一定按顺序）。每个 people[i] = [hi, ki] 表示第 i 个人的身高为 hi ，前面 正好 有 ki 个身高大于或等于 hi 的人。\n",
    "\n",
    "请你重新构造并返回输入数组 people 所表示的队列。返回的队列应该格式化为数组 queue ，其中 queue[j] = [hj, kj] 是队列中第 j 个人的属性（queue[0] 是排在队列前面的人）。\n",
    "\n",
    "示例 1：\n",
    "\n",
    "输入：people = [[7,0],[4,4],[7,1],[5,0],[6,1],[5,2]]\n",
    "\n",
    "输出：[[5,0],[7,0],[5,2],[6,1],[4,4],[7,1]]"
   ]
  },
  {
   "cell_type": "code",
   "execution_count": null,
   "metadata": {},
   "outputs": [],
   "source": [
    "# 真的很妙啊！\n",
    "class Solution:\n",
    "    def reconstructQueue(self, people: List[List[int]]) -> List[List[int]]:\n",
    "        people.sort(key=lambda x:(-x[0], x[1]))\n",
    "        que = []\n",
    "\n",
    "        for p in people:\n",
    "            que.insert(p[1], p)\n",
    "        return que"
   ]
  },
  {
   "cell_type": "markdown",
   "metadata": {},
   "source": [
    "# 452. Minimum Number of Arrows to Burst Balloons\n",
    "* https://leetcode.com/problems/minimum-number-of-arrows-to-burst-balloons/description/\n",
    "* https://programmercarl.com/0452.%E7%94%A8%E6%9C%80%E5%B0%91%E6%95%B0%E9%87%8F%E7%9A%84%E7%AE%AD%E5%BC%95%E7%88%86%E6%B0%94%E7%90%83.html\n",
    "\n",
    "在二维空间中有许多球形的气球。对于每个气球，提供的输入是水平方向上，气球直径的开始和结束坐标。由于它是水平的，所以纵坐标并不重要，因此只要知道开始和结束的横坐标就足够了。开始坐标总是小于结束坐标。\n",
    "\n",
    "一支弓箭可以沿着 x 轴从不同点完全垂直地射出。在坐标 x 处射出一支箭，若有一个气球的直径的开始和结束坐标为 xstart，xend， 且满足  xstart ≤ x ≤ xend，则该气球会被引爆。可以射出的弓箭的数量没有限制。 弓箭一旦被射出之后，可以无限地前进。我们想找到使得所有气球全部被引爆，所需的弓箭的最小数量。\n",
    "\n",
    "给你一个数组 points ，其中 points [i] = [xstart,xend] ，返回引爆所有气球所必须射出的最小弓箭数。\n",
    "\n"
   ]
  },
  {
   "cell_type": "code",
   "execution_count": null,
   "metadata": {},
   "outputs": [],
   "source": [
    "class Solution:\n",
    "    def findMinArrowShots(self, points: List[List[int]]) -> int:\n",
    "        if len(points) == 0:\n",
    "            return 0\n",
    "        points.sort(key=lambda x: x[0])\n",
    "        res = 1\n",
    "        for i in range(1, len(points)):\n",
    "            if points[i][0] > points[i-1][1]: # 不挨着\n",
    "                res += 1\n",
    "            else:\n",
    "                points[i][1] = min(points[i-1][1], points[i][1]) # 更新重叠气球最小右边界\n",
    "        return res"
   ]
  },
  {
   "cell_type": "code",
   "execution_count": null,
   "metadata": {},
   "outputs": [],
   "source": [
    "class Solution:\n",
    "    def findMinArrowShots(self, points: List[List[int]]) -> int:\n",
    "        points.sort(key = lambda x: x[0])\n",
    "        sl, sr = points[0][0], points[0][1]\n",
    "        count = 1\n",
    "        for i in points:\n",
    "            if i[0] > sr: # 不挨着\n",
    "                count += 1\n",
    "                sl, sr = i[0], i[1]\n",
    "            else:\n",
    "                # 下一个气球是否与上一个重叠部分 重叠\n",
    "                sl = max(sl, i[0])\n",
    "                sr = min(sr, i[1])\n",
    "        return count"
   ]
  }
 ],
 "metadata": {
  "language_info": {
   "name": "python"
  }
 },
 "nbformat": 4,
 "nbformat_minor": 2
}
