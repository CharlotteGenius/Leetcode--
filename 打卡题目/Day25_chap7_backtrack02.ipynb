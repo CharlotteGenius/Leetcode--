{
 "cells": [
  {
   "cell_type": "markdown",
   "metadata": {},
   "source": [
    "# 216. Combination Sum III\n",
    "* https://leetcode.com/problems/combination-sum-iii/description/\n",
    "* https://programmercarl.com/0216.%E7%BB%84%E5%90%88%E6%80%BB%E5%92%8CIII.html#%E6%80%9D%E8%B7%AF"
   ]
  },
  {
   "cell_type": "code",
   "execution_count": null,
   "metadata": {},
   "outputs": [],
   "source": [
    "class Solution:\n",
    "    def combinationSum3(self, k: int, n: int) -> List[List[int]]:\n",
    "        self.path = []\n",
    "        self.res = []\n",
    "        self.backtrace(k, n, 1)\n",
    "        return self.res\n",
    "    \n",
    "    def backtrace(self, k, n, startind):\n",
    "        if sum(self.path) > n: # 剪枝\n",
    "            return \n",
    "        if len(self.path) == k and sum(self.path) == n:\n",
    "            self.res.append(self.path)\n",
    "            return\n",
    "        for i in range(startind, 9-(k-len(self.path))+2):\n",
    "            print(i, len(self.path))\n",
    "            self.path.append(i)\n",
    "            self.backtrace(k, n, i+1)\n",
    "            self.path = self.path[:-1]"
   ]
  },
  {
   "cell_type": "markdown",
   "metadata": {},
   "source": [
    "# 17. Letter Combinations of a Phone Number\n",
    "* https://leetcode.com/problems/letter-combinations-of-a-phone-number/description/\n",
    "* https://programmercarl.com/0017.%E7%94%B5%E8%AF%9D%E5%8F%B7%E7%A0%81%E7%9A%84%E5%AD%97%E6%AF%8D%E7%BB%84%E5%90%88.html"
   ]
  },
  {
   "cell_type": "code",
   "execution_count": null,
   "metadata": {},
   "outputs": [],
   "source": [
    "class Solution:\n",
    "    def letterCombinations(self, digits: str) -> List[str]:\n",
    "        self.phone = {2:\"abc\", 3:\"def\", 4:\"ghi\", 5:\"jkl\", 6:\"mno\", 7:\"pqrs\", 8:\"tuv\", 9:\"wxyz\"}\n",
    "        self.path = \"\"\n",
    "        self.res = []\n",
    "        self.backtrack(digits, 0)\n",
    "        return self.res \n",
    "\n",
    "    def backtrack(self, digits, n):\n",
    "        if len(digits) == 0:\n",
    "            return \n",
    "        if n == len(digits): # n is the index of the digit in digits\n",
    "            self.res.append(self.path)\n",
    "            return\n",
    "        digit = int(digits[n])\n",
    "        letters = self.phone[digit]\n",
    "        for letter in letters:\n",
    "            self.path += letter\n",
    "            self.backtrack(digits, n+1)\n",
    "            self.path = self.path[:-1]"
   ]
  }
 ],
 "metadata": {
  "language_info": {
   "name": "python"
  }
 },
 "nbformat": 4,
 "nbformat_minor": 2
}
