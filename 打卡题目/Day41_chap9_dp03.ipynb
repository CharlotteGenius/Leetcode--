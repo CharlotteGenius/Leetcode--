{
 "cells": [
  {
   "cell_type": "markdown",
   "metadata": {},
   "source": [
    "# 343. Integer Break\n",
    "* https://leetcode.com/problems/integer-break/description/\n",
    "* https://docs.qq.com/doc/DUFhIUXRFYnVGUkFp"
   ]
  },
  {
   "cell_type": "code",
   "execution_count": null,
   "metadata": {},
   "outputs": [],
   "source": [
    "class Solution:\n",
    "    def integerBreak(self, n: int) -> int:\n",
    "        T = [1]*(n+1)\n",
    "        T[0] = 0\n",
    "        for i in range(n+1):\n",
    "            for j in range(1, i//2+1):\n",
    "                T[i] = max(T[i], T[i-j] * j, (i-j)*j)\n",
    "        return T[n]"
   ]
  },
  {
   "cell_type": "code",
   "execution_count": null,
   "metadata": {},
   "outputs": [],
   "source": [
    "# 贪心\n",
    "\n",
    "class Solution:\n",
    "    def integerBreak(self, n):\n",
    "        if n == 2:  # 当n等于2时，只有一种拆分方式：1+1=2，乘积为1\n",
    "            return 1\n",
    "        if n == 3:  # 当n等于3时，只有一种拆分方式：2+1=3，乘积为2\n",
    "            return 2\n",
    "        if n == 4:  # 当n等于4时，有两种拆分方式：2+2=4和1+1+1+1=4，乘积都为4\n",
    "            return 4\n",
    "        result = 1\n",
    "        while n > 4:\n",
    "            result *= 3  # 每次乘以3，因为3的乘积比其他数字更大\n",
    "            n -= 3  # 每次减去3\n",
    "        result *= n  # 将剩余的n乘以最后的结果\n",
    "        return result"
   ]
  },
  {
   "cell_type": "markdown",
   "metadata": {},
   "source": [
    "# 96. Unique Binary Search Trees\n",
    "* https://leetcode.com/problems/unique-binary-search-trees/description/\n",
    "* https://programmercarl.com/0096.%E4%B8%8D%E5%90%8C%E7%9A%84%E4%BA%8C%E5%8F%89%E6%90%9C%E7%B4%A2%E6%A0%91.html"
   ]
  },
  {
   "cell_type": "code",
   "execution_count": null,
   "metadata": {},
   "outputs": [],
   "source": [
    "class Solution:\n",
    "    def numTrees(self, n: int) -> int:\n",
    "        T = [0]*(n+1)\n",
    "        T[0] = 1\n",
    "        T[1] = 1\n",
    "        for i in range(2, n+1):\n",
    "            for j in range(i):\n",
    "                T[i] += T[j] * T[i-j-1]\n",
    "        return T[n] "
   ]
  }
 ],
 "metadata": {
  "language_info": {
   "name": "python"
  }
 },
 "nbformat": 4,
 "nbformat_minor": 2
}
