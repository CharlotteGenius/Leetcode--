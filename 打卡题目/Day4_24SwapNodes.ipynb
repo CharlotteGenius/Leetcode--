{
 "cells": [
  {
   "cell_type": "markdown",
   "metadata": {},
   "source": [
    "# 24. Swap Nodes in Pairs\n",
    "* https://leetcode.com/problems/swap-nodes-in-pairs/description/\n",
    "* explain: https://programmercarl.com/0024.%E4%B8%A4%E4%B8%A4%E4%BA%A4%E6%8D%A2%E9%93%BE%E8%A1%A8%E4%B8%AD%E7%9A%84%E8%8A%82%E7%82%B9.html#%E5%85%B6%E4%BB%96%E8%AF%AD%E8%A8%80%E7%89%88%E6%9C%AC\n",
    "\n",
    "Main mistake I made: set curr to the node that needs to be swapped.\n",
    "\n",
    "We need to set the previous node to curr, because its next also need to be changed."
   ]
  },
  {
   "cell_type": "code",
   "execution_count": null,
   "metadata": {},
   "outputs": [],
   "source": [
    "# Definition for singly-linked list.\n",
    "# class ListNode:\n",
    "#     def __init__(self, val=0, next=None):\n",
    "#         self.val = val\n",
    "#         self.next = next\n",
    "class Solution:\n",
    "    def swapPairs(self, head: Optional[ListNode]) -> Optional[ListNode]:\n",
    "        dummy = ListNode(next=head)\n",
    "        curr = dummy\n",
    "        while curr.next and curr.next.next:\n",
    "            tmp1 = curr.next\n",
    "            tmp2 = curr.next.next.next\n",
    "\n",
    "            curr.next = curr.next.next\n",
    "            curr.next.next = tmp1\n",
    "            curr.next.next.next = tmp2\n",
    "\n",
    "            curr = curr.next.next\n",
    "        return dummy.next"
   ]
  },
  {
   "cell_type": "markdown",
   "metadata": {},
   "source": [
    "# 19. Remove Nth Node From End of List\n",
    "* https://leetcode.com/problems/remove-nth-node-from-end-of-list/description/\n",
    "* https://programmercarl.com/0019.%E5%88%A0%E9%99%A4%E9%93%BE%E8%A1%A8%E7%9A%84%E5%80%92%E6%95%B0%E7%AC%ACN%E4%B8%AA%E8%8A%82%E7%82%B9.html\n"
   ]
  },
  {
   "cell_type": "markdown",
   "metadata": {},
   "source": [
    "## 这个应该是之前看lc上solution写的\n",
    "用到collctions.deque，现在已经看不懂了= ="
   ]
  },
  {
   "cell_type": "code",
   "execution_count": null,
   "metadata": {},
   "outputs": [],
   "source": [
    "# Definition for singly-linked list.\n",
    "# class ListNode:\n",
    "#     def __init__(self, val=0, next=None):\n",
    "#         self.val = val\n",
    "#         self.next = next\n",
    "class Solution:\n",
    "    def removeNthFromEnd(self, head: Optional[ListNode], n: int) -> Optional[ListNode]:\n",
    "        # sliding window\n",
    "        from typing import Optional\n",
    "        from collections import deque\n",
    "        \n",
    "        # find the last n+1 nodes\n",
    "        buffer = deque(maxlen=n + 1)\n",
    "        curr = head\n",
    "        while curr:\n",
    "            buffer.append(curr)\n",
    "            curr = curr.next\n",
    "        \n",
    "        # The node preceding the node to delete\n",
    "        preceding_node = buffer[0]\n",
    "        \n",
    "        if len(buffer)==1:\n",
    "            return None\n",
    "        elif len(buffer)==n:\n",
    "            # imply the list has only n nodes, so remove the head\n",
    "            return head.next\n",
    "        else:\n",
    "            preceding_node.next = preceding_node.next.next\n",
    "            return head\n",
    "            "
   ]
  },
  {
   "cell_type": "markdown",
   "metadata": {},
   "source": [
    "## 聪明的快慢指针！\n",
    "* fast首先走n+1步 ，为什么是n+1呢，因为只有这样同时移动的时候slow才能指向删除节点的上一个节点（方便做删除操作）\n",
    "* fast和slow同时移动，直到fast指向末尾\n",
    "* 删除slow指向的下一个节点（因为此时slow和fast之间间隔n）"
   ]
  },
  {
   "cell_type": "code",
   "execution_count": null,
   "metadata": {},
   "outputs": [],
   "source": [
    "# Definition for singly-linked list.\n",
    "# class ListNode:\n",
    "#     def __init__(self, val=0, next=None):\n",
    "#         self.val = val\n",
    "#         self.next = next\n",
    "class Solution:\n",
    "    def removeNthFromEnd(self, head: Optional[ListNode], n: int) -> Optional[ListNode]:\n",
    "        dummy = ListNode(next=head)\n",
    "        slow = dummy\n",
    "        fast = dummy\n",
    "        i = 0\n",
    "        while fast:\n",
    "            fast = fast.next\n",
    "            i += 1\n",
    "            if i > n+1:\n",
    "                slow = slow.next\n",
    "        slow.next = slow.next.next\n",
    "        return dummy.next\n"
   ]
  },
  {
   "cell_type": "markdown",
   "metadata": {},
   "source": [
    "# 160. Intersection of Two Linked Lists\n",
    "* https://leetcode.com/problems/intersection-of-two-linked-lists/description/\n",
    "* https://programmercarl.com/%E9%9D%A2%E8%AF%95%E9%A2%9802.07.%E9%93%BE%E8%A1%A8%E7%9B%B8%E4%BA%A4.html#%E6%80%9D%E8%B7%AF\n"
   ]
  },
  {
   "cell_type": "markdown",
   "metadata": {},
   "source": []
  }
 ],
 "metadata": {
  "kernelspec": {
   "display_name": "Python 3",
   "language": "python",
   "name": "python3"
  },
  "language_info": {
   "name": "python",
   "version": "3.12.0"
  }
 },
 "nbformat": 4,
 "nbformat_minor": 2
}
