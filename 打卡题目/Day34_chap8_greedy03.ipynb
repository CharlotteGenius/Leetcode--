{
 "cells": [
  {
   "cell_type": "markdown",
   "metadata": {},
   "source": [
    "# 1005. Maximize Sum Of Array After K Negations\n",
    "* https://leetcode.com/problems/maximize-sum-of-array-after-k-negations/description/\n",
    "* https://programmercarl.com/1005.K%E6%AC%A1%E5%8F%96%E5%8F%8D%E5%90%8E%E6%9C%80%E5%A4%A7%E5%8C%96%E7%9A%84%E6%95%B0%E7%BB%84%E5%92%8C.html"
   ]
  },
  {
   "cell_type": "code",
   "execution_count": null,
   "metadata": {},
   "outputs": [],
   "source": [
    "# 自己写的，就是改变最小值，但是耗时很长，O(kn)\n",
    "class Solution:\n",
    "    def largestSumAfterKNegations(self, nums: List[int], k: int) -> int:\n",
    "        for i in range(k):\n",
    "            n = min(nums)\n",
    "            n_ind = nums.index(n)\n",
    "            nums[n_ind] = -nums[n_ind]\n",
    "        return sum(nums)"
   ]
  },
  {
   "cell_type": "code",
   "execution_count": null,
   "metadata": {},
   "outputs": [],
   "source": [
    "# 贪心\n",
    "# 这个方法是O(n)了\n",
    "class Solution:\n",
    "    def largestSumAfterKNegations(self, nums: List[int], k: int) -> int:\n",
    "        nums.sort(key=lambda x: abs(x), reverse=True)  # 第一步：按照绝对值降序排序数组A\n",
    "\n",
    "        for i in range(len(nums)):  # 第二步：执行K次取反操作\n",
    "            if nums[i] < 0 and k > 0:\n",
    "                nums[i] *= -1\n",
    "                k -= 1\n",
    "\n",
    "        if k % 2 == 1:  # 第三步：如果K还有剩余次数，将绝对值最小的元素取反\n",
    "            nums[-1] *= -1\n",
    "        return sum(nums)"
   ]
  },
  {
   "cell_type": "markdown",
   "metadata": {},
   "source": [
    "# 134. Gas Station\n",
    "* https://leetcode.com/problems/gas-station/description/\n",
    "* https://programmercarl.com/0134.%E5%8A%A0%E6%B2%B9%E7%AB%99.html#%E5%85%B6%E4%BB%96%E8%AF%AD%E8%A8%80%E7%89%88%E6%9C%AC"
   ]
  },
  {
   "cell_type": "code",
   "execution_count": null,
   "metadata": {},
   "outputs": [],
   "source": [
    "# 这个暴力解法会超时！！！\n",
    "class Solution:\n",
    "    def canCompleteCircuit(self, gas: List[int], cost: List[int]) -> int:\n",
    "        for i in range(len(cost)):\n",
    "            rest = gas[i] - cost[i]  # 记录剩余油量\n",
    "            index = (i + 1) % len(cost)  # 下一个加油站的索引\n",
    "\n",
    "            while rest > 0 and index != i:  # 模拟以i为起点行驶一圈（如果有rest==0，那么答案就不唯一了）\n",
    "                rest += gas[index] - cost[index]  # 更新剩余油量\n",
    "                index = (index + 1) % len(cost)  # 更新下一个加油站的索引\n",
    "\n",
    "            if rest >= 0 and index == i:  # 如果以i为起点跑一圈，剩余油量>=0，并且回到起始位置\n",
    "                return i  # 返回起始位置i\n",
    "\n",
    "        return -1  # 所有起始位置都无法环绕一圈，返回-1"
   ]
  },
  {
   "cell_type": "code",
   "execution_count": null,
   "metadata": {},
   "outputs": [],
   "source": [
    "# 贪心（版本一）\n",
    "\n",
    "class Solution:\n",
    "    def canCompleteCircuit(self, gas: List[int], cost: List[int]) -> int:\n",
    "        curSum = 0  # 当前累计的剩余油量\n",
    "        minFuel = float('inf')  # 从起点出发，油箱里的油量最小值\n",
    "        \n",
    "        for i in range(len(gas)):\n",
    "            rest = gas[i] - cost[i]\n",
    "            curSum += rest\n",
    "            if curSum < minFuel:\n",
    "                minFuel = curSum\n",
    "        \n",
    "        if curSum < 0:\n",
    "            return -1  # 情况1：整个行程的总消耗大于总供给，无法完成一圈\n",
    "        \n",
    "        if minFuel >= 0:\n",
    "            return 0  # 情况2：从起点出发到任何一个加油站时油箱的剩余油量都不会小于0，可以从起点出发完成一圈\n",
    "        \n",
    "        for i in range(len(gas) - 1, -1, -1):\n",
    "            rest = gas[i] - cost[i]\n",
    "            minFuel += rest\n",
    "            if minFuel >= 0:\n",
    "                return i  # 情况3：找到一个位置使得从该位置出发油箱的剩余油量不会小于0，返回该位置的索引\n",
    "        \n",
    "        return -1  # 无法完成一圈"
   ]
  },
  {
   "cell_type": "code",
   "execution_count": null,
   "metadata": {},
   "outputs": [],
   "source": [
    "# 贪心（版本二）\n",
    "class Solution:\n",
    "    def canCompleteCircuit(self, gas: List[int], cost: List[int]) -> int:\n",
    "        curSum = 0  # 当前累计的剩余油量\n",
    "        totalSum = 0  # 总剩余油量\n",
    "        start = 0  # 起始位置\n",
    "        \n",
    "        for i in range(len(gas)):\n",
    "            curSum += gas[i] - cost[i]\n",
    "            totalSum += gas[i] - cost[i]\n",
    "            \n",
    "            if curSum < 0:  # 当前累计剩余油量curSum小于0\n",
    "                start = i + 1  # 起始位置更新为i+1\n",
    "                curSum = 0  # curSum重新从0开始累计\n",
    "        \n",
    "        if totalSum < 0:\n",
    "            return -1  # 总剩余油量totalSum小于0，说明无法环绕一圈\n",
    "        return start"
   ]
  },
  {
   "cell_type": "markdown",
   "metadata": {},
   "source": [
    "# 135. Candy (hard)\n",
    "* https://leetcode.com/problems/candy/description/\n",
    "* https://programmercarl.com/0135.%E5%88%86%E5%8F%91%E7%B3%96%E6%9E%9C.html"
   ]
  },
  {
   "cell_type": "code",
   "execution_count": null,
   "metadata": {},
   "outputs": [],
   "source": [
    "# 哇哦我自己写出来啦！\n",
    "class Solution:\n",
    "    def candy(self, ratings: List[int]) -> int:\n",
    "        res = [1]*len(ratings)\n",
    "        for i in range(1, len(ratings)):\n",
    "            if ratings[i] > ratings[i-1]:\n",
    "                res[i] = res[i-1] + 1\n",
    "        for i in range(len(ratings)-2, -1, -1):\n",
    "            if ratings[i] > ratings[i+1] and res[i] <= res[i+1]:\n",
    "                res[i] = res[i+1] + 1\n",
    "        return sum(res)"
   ]
  }
 ],
 "metadata": {
  "language_info": {
   "name": "python"
  }
 },
 "nbformat": 4,
 "nbformat_minor": 2
}
