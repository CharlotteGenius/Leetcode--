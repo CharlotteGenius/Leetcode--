{
 "cells": [
  {
   "cell_type": "markdown",
   "metadata": {},
   "source": [
    "# 28. Find the Index of the First Occurrence in a String\n",
    "* https://leetcode.com/problems/find-the-index-of-the-first-occurrence-in-a-string/description/\n",
    "* KMP! 前缀表\n",
    "* 在一个串中查找是否出现过另一个串，这是KMP的看家本领。\n",
    "* https://www.bilibili.com/video/BV1PD4y1o7nd/?vd_source=ccf2d976c70b4cef79e41eea37a36f7e 这个视频讲的很清楚\n",
    "* https://programmercarl.com/0028.%E5%AE%9E%E7%8E%B0strStr.html#%E7%AE%97%E6%B3%95%E5%85%AC%E5%BC%80%E8%AF%BE\n",
    "\n",
    "Given two strings needle and haystack, return the index of the first occurrence of needle in haystack, or -1 if needle is not part of haystack."
   ]
  },
  {
   "cell_type": "code",
   "execution_count": null,
   "metadata": {},
   "outputs": [],
   "source": [
    "# 暴力法\n",
    "class Solution:\n",
    "    def strStr(self, haystack: str, needle: str) -> int:\n",
    "        pt = 0\n",
    "        while pt <= len(haystack)-len(needle):\n",
    "            if haystack[pt] == needle[0]:\n",
    "                if haystack[pt:pt+len(needle)] == needle:\n",
    "                    return pt\n",
    "            pt += 1\n",
    "        return -1"
   ]
  },
  {
   "cell_type": "markdown",
   "metadata": {},
   "source": [
    "## 版本一 前缀表（减一）"
   ]
  },
  {
   "cell_type": "code",
   "execution_count": null,
   "metadata": {},
   "outputs": [],
   "source": [
    "class Solution:\n",
    "    def getNext(self, next, s):\n",
    "        # 构建前缀表\n",
    "        j = -1\n",
    "        next[0] = j\n",
    "        for i in range(1, len(s)):\n",
    "            while j >= 0 and s[i] != s[j+1]:\n",
    "                j = next[j]\n",
    "            if s[i] == s[j+1]:\n",
    "                j += 1\n",
    "            next[i] = j\n",
    "    \n",
    "    def strStr(self, haystack: str, needle: str) -> int:\n",
    "        if not needle:\n",
    "            return 0\n",
    "        next = [0] * len(needle)\n",
    "        self.getNext(next, needle)\n",
    "        j = -1\n",
    "        for i in range(len(haystack)):\n",
    "            while j >= 0 and haystack[i] != needle[j+1]:\n",
    "                j = next[j]\n",
    "            if haystack[i] == needle[j+1]:\n",
    "                j += 1\n",
    "            if j == len(needle) - 1:\n",
    "                return i - len(needle) + 1\n",
    "        return -1"
   ]
  },
  {
   "cell_type": "markdown",
   "metadata": {},
   "source": [
    "## 版本二 前缀表（不减一）"
   ]
  },
  {
   "cell_type": "code",
   "execution_count": null,
   "metadata": {},
   "outputs": [],
   "source": [
    "class Solution:\n",
    "    def getNext(self, next: List[int], s: str) -> None:\n",
    "        j = 0\n",
    "        next[0] = 0\n",
    "        for i in range(1, len(s)):\n",
    "            while j > 0 and s[i] != s[j]:\n",
    "                j = next[j - 1]\n",
    "            if s[i] == s[j]:\n",
    "                j += 1\n",
    "            next[i] = j\n",
    "    \n",
    "    def strStr(self, haystack: str, needle: str) -> int:\n",
    "        if len(needle) == 0:\n",
    "            return 0\n",
    "        next = [0] * len(needle)\n",
    "        self.getNext(next, needle)\n",
    "        j = 0\n",
    "        for i in range(len(haystack)):\n",
    "            while j > 0 and haystack[i] != needle[j]:\n",
    "                j = next[j - 1]\n",
    "            if haystack[i] == needle[j]:\n",
    "                j += 1\n",
    "            if j == len(needle):\n",
    "                return i - len(needle) + 1\n",
    "        return -1"
   ]
  },
  {
   "cell_type": "markdown",
   "metadata": {},
   "source": [
    "## 使用index 和 find"
   ]
  },
  {
   "cell_type": "code",
   "execution_count": null,
   "metadata": {},
   "outputs": [],
   "source": [
    "class Solution:\n",
    "    def strStr(self, haystack: str, needle: str) -> int:\n",
    "        try:\n",
    "            return haystack.index(needle)\n",
    "        except ValueError:\n",
    "            return -1\n",
    "\n",
    "class Solution:\n",
    "    def strStr(self, haystack: str, needle: str) -> int:\n",
    "        return haystack.find(needle)"
   ]
  },
  {
   "cell_type": "markdown",
   "metadata": {},
   "source": [
    "# 459. Repeated Substring Pattern\n",
    "* https://leetcode.com/problems/repeated-substring-pattern/description/\n",
    "* https://programmercarl.com/0459.%E9%87%8D%E5%A4%8D%E7%9A%84%E5%AD%90%E5%AD%97%E7%AC%A6%E4%B8%B2.html\n",
    "* 移动匹配 和 KMP两种方法"
   ]
  },
  {
   "cell_type": "code",
   "execution_count": null,
   "metadata": {},
   "outputs": [],
   "source": [
    "# 版本一） 前缀表 减一\n",
    "\n",
    "class Solution:\n",
    "    def repeatedSubstringPattern(self, s: str) -> bool:  \n",
    "        if len(s) == 0:\n",
    "            return False\n",
    "        nxt = [0] * len(s)\n",
    "        self.getNext(nxt, s)\n",
    "        if nxt[-1] != -1 and len(s) % (len(s) - (nxt[-1] + 1)) == 0:\n",
    "            return True\n",
    "        return False\n",
    "    \n",
    "    def getNext(self, nxt, s):\n",
    "        nxt[0] = -1\n",
    "        j = -1\n",
    "        for i in range(1, len(s)):\n",
    "            while j >= 0 and s[i] != s[j+1]:\n",
    "                j = nxt[j]\n",
    "            if s[i] == s[j+1]:\n",
    "                j += 1\n",
    "            nxt[i] = j\n",
    "        return nxt"
   ]
  },
  {
   "cell_type": "code",
   "execution_count": null,
   "metadata": {},
   "outputs": [],
   "source": [
    "#（版本二） 前缀表 不减一\n",
    "\n",
    "class Solution:\n",
    "    def repeatedSubstringPattern(self, s: str) -> bool:  \n",
    "        if len(s) == 0:\n",
    "            return False\n",
    "        nxt = [0] * len(s)\n",
    "        self.getNext(nxt, s)\n",
    "        if nxt[-1] != 0 and len(s) % (len(s) - nxt[-1]) == 0:\n",
    "            return True\n",
    "        return False\n",
    "    \n",
    "    def getNext(self, nxt, s):\n",
    "        nxt[0] = 0\n",
    "        j = 0\n",
    "        for i in range(1, len(s)):\n",
    "            while j > 0 and s[i] != s[j]:\n",
    "                j = nxt[j - 1]\n",
    "            if s[i] == s[j]:\n",
    "                j += 1\n",
    "            nxt[i] = j\n",
    "        return nxt"
   ]
  },
  {
   "cell_type": "code",
   "execution_count": null,
   "metadata": {},
   "outputs": [],
   "source": [
    "#（版本三） 使用 find\n",
    "\n",
    "class Solution:\n",
    "    def repeatedSubstringPattern(self, s: str) -> bool:\n",
    "        n = len(s)\n",
    "        if n <= 1:\n",
    "            return False\n",
    "        ss = s[1:] + s[:-1] \n",
    "        print(ss.find(s))              \n",
    "        return ss.find(s) != -1"
   ]
  },
  {
   "cell_type": "code",
   "execution_count": null,
   "metadata": {},
   "outputs": [],
   "source": [
    "#（版本四） 暴力法\n",
    "\n",
    "class Solution:\n",
    "    def repeatedSubstringPattern(self, s: str) -> bool:\n",
    "        n = len(s)\n",
    "        if n <= 1:\n",
    "            return False\n",
    "        \n",
    "        substr = \"\"\n",
    "        for i in range(1, n//2 + 1):\n",
    "            if n % i == 0:\n",
    "                substr = s[:i]\n",
    "                if substr * (n//i) == s:\n",
    "                    return True\n",
    "                \n",
    "        return False"
   ]
  },
  {
   "cell_type": "markdown",
   "metadata": {},
   "source": [
    "# 字符串总结\n",
    "* https://programmercarl.com/%E5%AD%97%E7%AC%A6%E4%B8%B2%E6%80%BB%E7%BB%93.html#%E6%80%BB%E7%BB%93"
   ]
  },
  {
   "cell_type": "markdown",
   "metadata": {},
   "source": [
    "# 双指针总结\n",
    "* https://programmercarl.com/%E5%8F%8C%E6%8C%87%E9%92%88%E6%80%BB%E7%BB%93.html\n"
   ]
  },
  {
   "cell_type": "markdown",
   "metadata": {},
   "source": [
    "## 数组\n",
    "* 移除元素 - 快慢指针，覆盖val，实现inplace移除\n",
    "* 因为库函数remove是O(n)所以如果直接扫描remove会导致O(n^2)"
   ]
  },
  {
   "cell_type": "markdown",
   "metadata": {},
   "source": [
    "## 字符串\n",
    "* 反转字符 - 左右指针交换\n",
    "* 替换数字 - 先建立空间，遇到数字就从后向前填充\n",
    "* 翻转单词 - 先翻转所有字符，再单独翻转单词，这样得到的是翻转的句子"
   ]
  },
  {
   "cell_type": "markdown",
   "metadata": {},
   "source": [
    "## 链表\n",
    "* 反转链表 - dummy和temp\n",
    "* 环的入口 - 精巧的数学计算"
   ]
  },
  {
   "cell_type": "markdown",
   "metadata": {},
   "source": [
    "## N数之和\n",
    "* 哈希法~~\n",
    "* 三数之和 - 并不是很好用哈希法，因为去重成本过大。先排序，再用左右双指针向中间逼近\n",
    "* 四数之和 - 在三数基础上再加一个for loop"
   ]
  }
 ],
 "metadata": {
  "kernelspec": {
   "display_name": "Python 3",
   "language": "python",
   "name": "python3"
  },
  "language_info": {
   "name": "python",
   "version": "3.12.0"
  }
 },
 "nbformat": 4,
 "nbformat_minor": 2
}
